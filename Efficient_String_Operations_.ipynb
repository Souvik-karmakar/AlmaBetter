{
  "nbformat": 4,
  "nbformat_minor": 0,
  "metadata": {
    "colab": {
      "provenance": [],
      "collapsed_sections": [
        "WKwWc6mm_Uun",
        "BweR0lO0TaLS",
        "eyB3E-6dEnGA",
        "kSMopfRqB3rp",
        "8ZqI6XdtDC5P",
        "diZ25lYKJMzB",
        "A_NWSjRA-8gz",
        "LE3OFHKXbUQo",
        "TXDwWN8GZ7rp",
        "UxnegC8YVy9-",
        "hBYeXQi2rQfh",
        "Tk-Eie9ArNF8"
      ]
    },
    "kernelspec": {
      "name": "python3",
      "display_name": "Python 3"
    },
    "language_info": {
      "name": "python"
    }
  },
  "cells": [
    {
      "cell_type": "markdown",
      "source": [
        "# **Session Flow**\n",
        "\n"
      ],
      "metadata": {
        "id": "WKwWc6mm_Uun"
      }
    },
    {
      "cell_type": "markdown",
      "source": [
        "👨🏻‍🎓 **Learning Objective:**\n",
        "\n",
        "* Introduction\n",
        "* Theme\n",
        "* Primary Goals\n",
        "\n",
        "**Introduction to Strings 📜**\n",
        "\n",
        "* What are strings in Python and why they are essential.\n",
        "* How to create and represent strings.\n",
        "* String indexing and slicing for access.\n",
        "* String Concatenation and Formatting 🧩🔗\n",
        "\n",
        "**Combining strings using concatenation (+)**\n",
        "\n",
        "* The power of f-strings for elegant string formatting.\n",
        "* String Methods Galore 🛠️🧰\n",
        "\n",
        "* Exploring common string methods: split(), join(), strip(), replace(), and more!\n",
        "* Harnessing the versatility of str.format() for dynamic content.\n",
        "\n",
        "**Searching and Finding 🔍🔎**\n",
        "\n",
        "* Discovering substring presence using in keyword.\n",
        "* Locating substrings with find(), index(), and handling exceptions.\n",
        "* String Manipulation with Regular Expressions 🧙‍♂️🔮\n",
        "* Activity: Fill in the Blanks\n",
        "\n",
        "**Introduction to regex and its powerful pattern matching capabilities.**\n",
        "\n",
        "* Utilizing re module for advanced string manipulations.\n",
        "* Activity: Choose the Correct Option\n",
        "\n",
        "📝 **Summary**\n",
        "\n",
        "* What did we learn?\n",
        "* Shortcomings & Challenges\n",
        "* Best Practices & Tips\n",
        "\n",
        "🔗 **Enhance your Knowledge**\n",
        "\n",
        "* Mnemonic\n",
        "* Additional Resources\n",
        "\n",
        "🔍 **Try it Yourself**\n",
        "\n",
        "* Activities\n",
        "* Social Engagement"
      ],
      "metadata": {
        "id": "KwNoaq-Uc-Rs"
      }
    },
    {
      "cell_type": "markdown",
      "source": [
        "###Here's a visualisation tool to help you out! ⭐⭐⭐"
      ],
      "metadata": {
        "id": "BweR0lO0TaLS"
      }
    },
    {
      "cell_type": "markdown",
      "source": [
        "**CS Circles Visualize** is an online tool that allows users to visualize the execution of Python code step by step. It can be used to better understand how code works and identify errors in code, making it a valuable resource for learners of all levels.\n",
        "\n",
        "To use CS Circles Visualize, users simply need to input their Python code into the text editor and click the \"Visualize Code\" button. The tool will then display the code execution step by step, highlighting each line of code as it is executed and displaying the current value of variables. Users can also pause the execution at any point to inspect the current state of the program.\n",
        "\n",
        "CS Circles Visualize can be particularly useful for beginners who are just starting to learn Python or programming in general, as it can help them visualize the concepts they are learning in a more concrete way. However, it can also be used by more experienced programmers who want to better understand how their code works or troubleshoot errors.\n",
        "\n",
        "**Here's the [link](https://cscircles.cemc.uwaterloo.ca/visualize#mode=display) to the resource**\n"
      ],
      "metadata": {
        "id": "W5mzTuyBTjN_"
      }
    },
    {
      "cell_type": "markdown",
      "source": [
        "# **👨🏻‍🎓 Learning Objective 👨🏻‍🎓**"
      ],
      "metadata": {
        "id": "eyB3E-6dEnGA"
      }
    },
    {
      "cell_type": "markdown",
      "source": [
        "##**Introduction**\n",
        "\n",
        "🎓 Welcome, students! as we continue our journey of data structure fundamentals! 🚀\n",
        "\n",
        "In this lesson, we'll be exploring the power of strings and learning about the different operations that can be performed on them to solve real-world problems. We'll also discuss the time and space complexity of these operations, so you can understand the efficiency of your code. 💻\n",
        "\n",
        "But don't worry, we'll take it step-by-step and make sure you have a solid understanding of the basics before moving on to more advanced concepts. And the best part? You'll get plenty of opportunities to practice what you've learned through fun exercises and challenges. 🤓\n",
        "\n",
        "So let's get started on this exciting journey to unlocking the full potential of strings, while keeping in mind their time and space complexity! 💪\n",
        "\n",
        "\n",
        "**Focus-  Strings, Operation in Strings, Time and Space Complexity.**\n",
        "\n",
        "**Pre-requisites- Data Structure Fundamentals**\n",
        "\n",
        "\n",
        "##**Theme**\n",
        "\n",
        "The theme of string operations in Python encompasses efficient text processing, formatting, searching, and replacing capabilities. Python's rich set of built-in functions and methods allows developers to manipulate strings easily. From basic concatenation and slicing to advanced regular expression pattern matching, Python provides a powerful toolkit for handling text data. String formatting options, including placeholders and f-strings, facilitate the creation of dynamic and readable output. The language also supports character encoding conversions, validation checks, and text transformation, making it versatile for diverse text-related tasks. Python's string operations enable developers to process and manipulate text data with efficiency and flexibility.\n",
        "\n",
        "\n",
        "\n",
        "##**Primary Goals**\n",
        "\n",
        "📚🔍👨‍💻 Let's start by setting some primary goals to help you get started with learning Strings in Python using libraries that make your coding life easier. 🤩\n",
        "\n",
        "🎯 Get comfortable with Python's built-in string data type.\n",
        "\n",
        "📈 This is the basic building block for Strings. Learn how to create, access, and modify them. 🤓\n",
        "\n",
        "🎯 Learn about different operations around strings 💪\n",
        "\n",
        "🎯 Learn about String Matching algorithms.\n",
        "\n",
        "🎯 Learn about Time and Space Complexity\n",
        "\n",
        "Remember, learning Strings in Python is an ongoing process, and it's okay to take it one step at a time. With dedication and practice, you'll soon become proficient in working with this powerful data structure. 🤝"
      ],
      "metadata": {
        "id": "hM_lFB_-EuvH"
      }
    },
    {
      "cell_type": "markdown",
      "source": [
        "#**📖Learning Material📖**"
      ],
      "metadata": {
        "id": "hZTFsSan3TIy"
      }
    },
    {
      "cell_type": "markdown",
      "source": [
        "## **Rediscovering Strings**"
      ],
      "metadata": {
        "id": "E0tTOdCoTT6B"
      }
    },
    {
      "cell_type": "markdown",
      "source": [
        "##**The Fine Line Between Strings and Arrays: Understanding the Differences**"
      ],
      "metadata": {
        "id": "X7J6FRfnrFwx"
      }
    },
    {
      "cell_type": "markdown",
      "source": [
        "You might be wondering why the lesson covers strings along with arrays, they are quite different after all. But as it turns out they aren't!!\n",
        "\n",
        "In fact, understanding how to manipulate and access elements in arrays can help you understand how to manipulate and access characters in strings. 🤔\n",
        "\n",
        "For example, the concept of slicing, which is used to extract a portion of an array, can also be applied to strings. In Python, you can use slicing to extract a substring from a string, just as you would use slicing to extract a sub-array from an array. 📊\n",
        "\n",
        "Moreover, both strings and arrays can be used to store data of various types, such as integers, floats, and characters. And in many programming languages, you can even create arrays of strings, where each element of the array is a string. This can be useful in various applications, such as storing names, addresses, or other text-based data. 📝\n",
        "\n",
        "Therefore, by learning about both arrays and strings, you can develop a more versatile and flexible skill set that will allow you to solve a wider range of programming problems. Whether you are working on data analysis, scientific computing, or machine learning, understanding these fundamental data structures will be invaluable to your success. 💪"
      ],
      "metadata": {
        "id": "pLSqdcWgrYsD"
      }
    },
    {
      "cell_type": "markdown",
      "source": [
        "**What is a String?**\n",
        "\n",
        "\n",
        "A string as we know, is a data structure that is used to represent a sequence of characters. It is often used to represent text in computer programs.\n",
        "\n",
        "![image.png](data:image/png;base64,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)"
      ],
      "metadata": {
        "id": "wU9KN_d6Bk8w"
      }
    },
    {
      "cell_type": "markdown",
      "source": [
        "**Why is a String data structure required?**\n",
        "\n",
        "\n",
        "Strings are an essential data type in computer programming languages. They are used to represent text, and their immutability makes them useful for storing and manipulating text data. Because strings are immutable, any changes to a string result in a new string being created. This characteristic makes strings an efficient way to manage text data in computer programs.\n",
        "\n",
        "Strings can be used to represent binary data, such as images or audio files, by encoding the data as a string of characters. This technique is known as base64 encoding and is widely used for transmitting binary data over the internet."
      ],
      "metadata": {
        "id": "DZy5NTrbBzrS"
      }
    },
    {
      "cell_type": "markdown",
      "source": [
        "##**String Operations**"
      ],
      "metadata": {
        "id": "RH09iNDzUAiR"
      }
    },
    {
      "cell_type": "markdown",
      "source": [
        "Strings are one of the most commonly used data types in programming, and there are several operations that can be performed on strings. Here are some of the most commonly used string operations, some of which you've already gone through."
      ],
      "metadata": {
        "id": "pnuzbZOZUPIp"
      }
    },
    {
      "cell_type": "markdown",
      "source": [
        "**1. Concatenation:**\n",
        "\n",
        "**This operation is used to combine two or more strings into a single string. This can be done using the \"+\" operator or the string method \"join()\".**"
      ],
      "metadata": {
        "id": "c0EK9Gh-UUSj"
      }
    },
    {
      "cell_type": "code",
      "source": [
        "string1 = \"Hello\"\n",
        "string2 = \"World\"\n",
        "concatenated_string = string1 + \" \" + string2\n",
        "print(concatenated_string)  # Output: \"Hello World\"\n",
        "\n",
        "string_list = [\"apple\", \"banana\", \"orange\"]\n",
        "separator = \", \"\n",
        "concatenated_string = separator.join(string_list)\n",
        "print(concatenated_string)  # Output: \"apple, banana, orange\"\n"
      ],
      "metadata": {
        "colab": {
          "base_uri": "https://localhost:8080/"
        },
        "id": "P2jGnuiwUO2j",
        "outputId": "c92b02ad-f4ad-4265-c780-51c0280f8430"
      },
      "execution_count": null,
      "outputs": [
        {
          "output_type": "stream",
          "name": "stdout",
          "text": [
            "Hello World\n",
            "apple, banana, orange\n"
          ]
        }
      ]
    },
    {
      "cell_type": "markdown",
      "source": [
        "**2. Substring extraction:**\n",
        "\n",
        "**This operation is used to extract a substring from a given string. This can be done using string slicing or string methods like \"split()\", \"partition()\", or \"find()\".**\n"
      ],
      "metadata": {
        "id": "1wkl4LLxUhYT"
      }
    },
    {
      "cell_type": "code",
      "source": [
        "string = \"Hello World\"\n",
        "substring = string[6:]\n",
        "print(substring)  # Output: \"World\"\n",
        "\n",
        "string = \"apple, banana, orange\"\n",
        "substring = string.split(\", \")[1]\n",
        "print(substring)  # Output: \"banana\"\n"
      ],
      "metadata": {
        "colab": {
          "base_uri": "https://localhost:8080/"
        },
        "id": "o0S5libgUuB1",
        "outputId": "b38c86d5-9c9b-4f59-d966-91ea0316bbd4"
      },
      "execution_count": null,
      "outputs": [
        {
          "output_type": "stream",
          "name": "stdout",
          "text": [
            "World\n",
            "banana\n"
          ]
        }
      ]
    },
    {
      "cell_type": "markdown",
      "source": [
        "**3. Searching:**\n",
        "\n",
        "**This operation is used to search for a specific substring within a given string. This can be done using string methods like \"find()\", \"index()\", or \"count()\".**"
      ],
      "metadata": {
        "id": "bY_q9InOUx6q"
      }
    },
    {
      "cell_type": "code",
      "source": [
        "string = \"Hello World\"\n",
        "if \"World\" in string:\n",
        "    print(\"Substring found.\")\n",
        "else:\n",
        "    print(\"Substring not found.\")\n",
        "\n",
        "string = \"apple, banana, orange\"\n",
        "substring_count = string.count(\"a\")\n",
        "print(substring_count)  # Output: 5\n"
      ],
      "metadata": {
        "colab": {
          "base_uri": "https://localhost:8080/"
        },
        "id": "5R6k0w3QU4cX",
        "outputId": "4a913093-8bfd-4750-d581-0d6a95af4e6e"
      },
      "execution_count": null,
      "outputs": [
        {
          "output_type": "stream",
          "name": "stdout",
          "text": [
            "Substring found.\n",
            "5\n"
          ]
        }
      ]
    },
    {
      "cell_type": "markdown",
      "source": [
        "**4. Manipulation:**\n",
        "\n",
        "**This operation is used to modify a given string by replacing, removing, or formatting parts of it. This can be done using string methods like \"replace()\", \"strip()\", or \"format()\".**"
      ],
      "metadata": {
        "id": "teCFLmfRU8Sf"
      }
    },
    {
      "cell_type": "code",
      "source": [
        "# Replacing string\n",
        "\n",
        "text = \"Hello World\"\n",
        "new_text = text.replace(\"World\", \"Universe\")\n",
        "print(new_text)  # Output: \"Hello Universe\"\n",
        "\n",
        "\n",
        "\n",
        "# Removing whitespace from a string:\n",
        "\n",
        "text = \"  This is a sentence with whitespace.   \"\n",
        "new_text = text.strip()\n",
        "print(new_text)  # Output: \"This is a sentence with whitespace.\"\n",
        "\n",
        "\n",
        "\n",
        "# Formatting a string:\n",
        "\n",
        "name = \"Alice\"\n",
        "age = 30\n",
        "text = \"My name is {} and I'm {} years old.\".format(name, age)\n",
        "print(text)  # Output: \"My name is Alice and I'm 30 years old.\"\n",
        "\n"
      ],
      "metadata": {
        "colab": {
          "base_uri": "https://localhost:8080/"
        },
        "id": "6PE0o38SVCQC",
        "outputId": "ecd5b654-09d4-45d5-d3d5-9a45ef811d04"
      },
      "execution_count": null,
      "outputs": [
        {
          "output_type": "stream",
          "name": "stdout",
          "text": [
            "Hello Universe\n",
            "This is a sentence with whitespace.\n",
            "My name is Alice and I'm 30 years old.\n"
          ]
        }
      ]
    },
    {
      "cell_type": "markdown",
      "source": [
        "In all of these examples, the original string is being manipulated to create a modified string that better fits the desired format or content."
      ],
      "metadata": {
        "id": "LHjw2e6eYbeK"
      }
    },
    {
      "cell_type": "markdown",
      "source": [
        "## 🔍 **Activity: Fill in the Blanks**"
      ],
      "metadata": {
        "id": "dz8uDIEOBHi0"
      }
    },
    {
      "cell_type": "markdown",
      "source": [
        "**Consider the string: my_string = \"Hello, World!\"**\n",
        "\n",
        "\n",
        "* To concatenate two strings, you would use the ________ operator or the method ________.\n",
        "\n",
        "* The length of the string is ________.\n",
        "\n",
        "* To extract the substring \"Hello\" from the string, you would use ________.\n",
        "\n",
        "* To convert the string to uppercase, you would use the method ________.\n",
        "\n",
        "* To split the string into a list of words, you would use the method ________.\n",
        "\n",
        "* To replace \"World\" with \"Universe\" in the string, you would use the method ________.\n",
        "\n",
        "* To check if the string starts with \"Hello\", you would use the method ________.\n",
        "\n",
        "* To remove leading and trailing whitespaces from the string, you would use the method ________.\n",
        "\n",
        "* To find the index of \"World\" in the string, you would use the method ________.\n",
        "\n",
        "* To count the occurrences of the letter \"l\" in the string, you would use the method ________."
      ],
      "metadata": {
        "id": "l-E9bPM_BMUH"
      }
    },
    {
      "cell_type": "markdown",
      "source": [
        "### **Answers:**"
      ],
      "metadata": {
        "id": "kSMopfRqB3rp"
      }
    },
    {
      "cell_type": "markdown",
      "source": [
        "\n",
        "\n",
        "* To concatenate two strings, you would use the + operator or the method str.join().\n",
        "\n",
        "* The length of the string is len(my_string).\n",
        "\n",
        "* To extract the substring \"Hello\" from the string, you would use my_string[0:5] or my_string[:5].\n",
        "\n",
        "* To convert the string to uppercase, you would use the method my_string.upper().\n",
        "\n",
        "* To split the string into a list of words, you would use the method my_string.split().\n",
        "\n",
        "* To replace \"World\" with \"Universe\" in the string, you would use the method my_string.replace(\"World\", \"Universe\").\n",
        "\n",
        "* To check if the string starts with \"Hello\", you would use the method my_string.startswith(\"Hello\").\n",
        "\n",
        "* To remove leading and trailing whitespaces from the string, you would use the method my_string.strip().\n",
        "\n",
        "* To find the index of \"World\" in the string, you would use the method my_string.find(\"World\").\n",
        "\n",
        "* To count the occurrences of the letter \"l\" in the string, you would use the method my_string.count(\"l\")."
      ],
      "metadata": {
        "id": "-xt-AfHRBn9p"
      }
    },
    {
      "cell_type": "markdown",
      "source": [
        "##**Time and Space Complexity**"
      ],
      "metadata": {
        "id": "isXBnNjkcvof"
      }
    },
    {
      "cell_type": "markdown",
      "source": [
        "🐍\n",
        "\n",
        "**Time complexity** refers to the **amount of time it takes for an algorithm to complete its execution, given a certain input size**. It is typically denoted by big O notation, or O(n), where n represents the input size. **The lower the time complexity, the faster the algorithm runs.**\n",
        "\n",
        "Some common time complexities include O(1), O(log n), O(n), O(n log n), O(n^2), and O(2^n). Don't worry about these terminologies just yet."
      ],
      "metadata": {
        "id": "B_3xDewtcyfl"
      }
    },
    {
      "cell_type": "markdown",
      "source": [
        "**Space complexity** refers to the **amount of memory an algorithm uses to complete its execution, given a certain input size**. It is also typically denoted by big O notation, or O(n), where n represents the input size. **The lower the space complexity, the less memory the algorithm uses**.\n",
        "\n",
        "Some common space complexities include O(1), O(n), and O(n^2)."
      ],
      "metadata": {
        "id": "L-8r4R1ceT13"
      }
    },
    {
      "cell_type": "markdown",
      "source": [
        "Here's an example to illustrate time complexity in Python:"
      ],
      "metadata": {
        "id": "-qhbOX-pest4"
      }
    },
    {
      "cell_type": "code",
      "source": [
        "def find_max(lst):\n",
        "    max_val = lst[0]\n",
        "    for val in lst:\n",
        "        if val > max_val:\n",
        "            max_val = val\n",
        "    return max_val"
      ],
      "metadata": {
        "id": "uW9ulDsDeTVL"
      },
      "execution_count": null,
      "outputs": []
    },
    {
      "cell_type": "markdown",
      "source": [
        "This function finds the maximum value in a list. T**he time complexity of this function is O(n)**, where n is the length of the list. This is because the function iterates over the list once to find the maximum value"
      ],
      "metadata": {
        "id": "H-EhqcuGezlb"
      }
    },
    {
      "cell_type": "markdown",
      "source": [
        "Now, let's consider an example to illustrate space complexity in Python:"
      ],
      "metadata": {
        "id": "lqnSNc3Xe-g9"
      }
    },
    {
      "cell_type": "code",
      "source": [
        "def fibonacci(n):\n",
        "  if n <= 1:\n",
        "    return n\n",
        "  else:\n",
        "    return fibonacci(n-1) + fibonacci(n-2)"
      ],
      "metadata": {
        "id": "a8WVtEp9e3_F"
      },
      "execution_count": null,
      "outputs": []
    },
    {
      "cell_type": "markdown",
      "source": [
        "This function recursively calculates the nth number in the Fibonacci sequence. **The space complexity of this function is O(n)**, where n is the input to the function. This is because for each recursive call, the function stores the value of the previous two calls on the call stack until it reaches the base case. As n gets larger, the call stack also gets larger, leading to higher space complexity."
      ],
      "metadata": {
        "id": "NgvTfNbVfCfB"
      }
    },
    {
      "cell_type": "markdown",
      "source": [
        "Understanding time and space complexity is essential when designing algorithms, as it allows developers to optimize their code for better performance and memory usage. By choosing algorithms with lower time and space complexity, developers can ensure that their code runs efficiently, even for larger input sizes."
      ],
      "metadata": {
        "id": "y791gOA5fMKK"
      }
    },
    {
      "cell_type": "markdown",
      "source": [
        "###**Calculating Time and Space Complexity**"
      ],
      "metadata": {
        "id": "jl9Lt3qCf3cY"
      }
    },
    {
      "cell_type": "markdown",
      "source": [
        "**Here are some general steps to calculate the time and space complexity of a code:**\n",
        "\n",
        "1. Count the number of operations: Start by identifying the basic operations that your algorithm performs, and count how many times each operation is executed.\n",
        "\n",
        "2. Express the time complexity in Big O notation: Once you have counted the number of operations, express the time complexity of the algorithm in Big O notation. This notation represents the upper bound on the number of operations the algorithm will perform, as the size of the input approaches infinity.\n",
        "\n",
        "3. Determine the space complexity: Identify the amount of memory the algorithm uses as the input size grows larger, and express the space complexity in Big O notation as well.\n",
        "\n",
        "**Here are some common rules of thumb to help you determine the time and space complexity of different types of operations:**\n",
        "\n",
        "* Basic operations like arithmetic, assignment, and accessing an array or object element take constant time (O(1)).\n",
        "* Loops that iterate over an input of size n take O(n) time.\n",
        "* Nested loops or operations on nested data structures can take O(n^2), O(n^3), or higher time complexity.\n",
        "* Recursive functions can have a time complexity of O(2^n), O(n!), or other exponential or factorial time complexity.\n",
        "* Each variable or data structure that is created or modified takes up a certain amount of memory. Counting the total number of variables or data structures in the algorithm can give you an idea of the space complexity.\n"
      ],
      "metadata": {
        "id": "umiBwdVif7Jq"
      }
    },
    {
      "cell_type": "markdown",
      "source": [
        "###Demonstration"
      ],
      "metadata": {
        "id": "nlNCqfKvg_Rv"
      }
    },
    {
      "cell_type": "markdown",
      "source": [
        "Let's consider the following code snippet:"
      ],
      "metadata": {
        "id": "buV3PHxhhCM_"
      }
    },
    {
      "cell_type": "code",
      "source": [
        "def sum_of_numbers(n):\n",
        "    sum = 0\n",
        "    for i in range(1, n+1):\n",
        "        sum += i\n",
        "    return sum"
      ],
      "metadata": {
        "id": "HV9KgsmohBi6"
      },
      "execution_count": null,
      "outputs": []
    },
    {
      "cell_type": "markdown",
      "source": [
        "This function calculates the sum of all numbers from 1 to n (inclusive)."
      ],
      "metadata": {
        "id": "2qlXJVyJhK6T"
      }
    },
    {
      "cell_type": "markdown",
      "source": [
        "To calculate the **time complexity** of this function, we need to count the number of operations performed as a function of the input size (n).\n",
        "Here, we have one for loop that iterates from 1 to n, performing a constant number of operations (addition and assignment) each time.\n",
        "**Therefore, the time complexity of this function is O(n), or linear time complexity.**"
      ],
      "metadata": {
        "id": "LLEPzwc3hQvJ"
      }
    },
    {
      "cell_type": "markdown",
      "source": [
        "To calculate the **space complexity** of this function, we need to count the amount of memory used as a function of the input size (n). In this case, we only have a few constant-sized variables (sum and i) that are used throughout the function. **Therefore, the space complexity of this function is O(1), or constant space complexity.**"
      ],
      "metadata": {
        "id": "_T95q_f5hW4c"
      }
    },
    {
      "cell_type": "markdown",
      "source": [
        "In summary, the time complexity of the function sum_of_numbers is O(n) and the space complexity is O(1)."
      ],
      "metadata": {
        "id": "ohMR9tymhiF6"
      }
    },
    {
      "cell_type": "markdown",
      "source": [
        "## 🔍 **Activity: Choose the Correct Option**"
      ],
      "metadata": {
        "id": "Z8sylHs7Clgg"
      }
    },
    {
      "cell_type": "code",
      "source": [
        "# Code 1: Concatenate Two Strings\n",
        "\n",
        "def concatenate_strings(str1, str2):\n",
        "    return str1 + str2"
      ],
      "metadata": {
        "id": "CJ7qXjJFCslF"
      },
      "execution_count": null,
      "outputs": []
    },
    {
      "cell_type": "markdown",
      "source": [
        "**What is the correct time complexity and space complexity for the above code?**\n",
        "\n",
        "* O(n), O(n)\n",
        "* O(n), O(1)\n",
        "* O(1), O(n)\n",
        "* O(n^2), O(n)"
      ],
      "metadata": {
        "id": "Vuva8G3aCqvc"
      }
    },
    {
      "cell_type": "markdown",
      "source": [
        "### **Answer:**"
      ],
      "metadata": {
        "id": "8ZqI6XdtDC5P"
      }
    },
    {
      "cell_type": "markdown",
      "source": [
        "Time Complexity: The time complexity of concatenating two strings using the + operator is O(n), where n is the total length of both strings. Python needs to create a new string containing all the characters from both strings.\n",
        "\n",
        "Space Complexity: The space complexity is also O(n), where n is the total length of the concatenated string. A new string of length n is created to store the result."
      ],
      "metadata": {
        "id": "ax1csi-IDE-H"
      }
    },
    {
      "cell_type": "markdown",
      "source": [
        "###**🧘Relax🧘**\n",
        "We understand how this might come off as a bit confusing. 😕 That's because you just got started with these topics.🤔 With practice you will master these concepts in no time. 💪💪💪\n"
      ],
      "metadata": {
        "id": "h3mOJx4mw9Qs"
      }
    },
    {
      "cell_type": "markdown",
      "source": [
        "# **✅ Summary ✅**"
      ],
      "metadata": {
        "id": "diZ25lYKJMzB"
      }
    },
    {
      "cell_type": "markdown",
      "source": [
        "##**What did you Learn?**\n",
        "\n",
        "🔤 Strings are a sequence of characters, enclosed in either single or double quotes. They are immutable, which means you can't change a string's content once it's created. You can perform various operations on strings, like concatenation, slicing, and finding a substring.\n",
        "🌟 Here are some common operations you can perform on strings in Python:\n",
        "* Concatenation: You can join two or more strings using the + operator.\n",
        "* Slicing: You can extract a portion of a string by specifying the start and end indices.\n",
        "* Length: You can find the length of a string using the len() function.\n",
        "* Search: You can check if a substring is present in a string using the in operator or the find() method.\n",
        "\n",
        "\n",
        "* We learned the basics of time and space complexity and why we need to pay attention to it.\n",
        "\n",
        "###**Shortcomings**\n",
        "\n",
        "👋 Hi there! Here are some potential shortcomings for working with strings in Python:\n",
        "\n",
        "\n",
        "* Strings are immutable, so if you need to make frequent modifications to a string, it can be inefficient to create a new string each time.\n",
        "* Unicode strings can be memory-intensive, especially if you're working with large amounts of text.\n",
        "* Some string operations, like concatenation, can be slow if you're working with very large strings.\n",
        "\n",
        "###**Best Practices/Tips**\n",
        "\n",
        "👋 Hi there! Here are some best practices and tips for working withstrings in Python:\n",
        "\n",
        "\n",
        "* Use single quotes or double quotes consistently for string literals, depending on your preference.\n",
        "* Use raw strings (r'...') when working with paths or regular expressions to avoid issues with backslashes.\n",
        "* Avoid using mutable objects as default arguments in functions that work with strings.\n",
        "* When manipulating large strings, consider using the io.StringIO class for improved performance.\n",
        "* When comparing strings, use the == operator instead of is.\n",
        "\n"
      ],
      "metadata": {
        "id": "HnSpGk6kJRMV"
      }
    },
    {
      "cell_type": "markdown",
      "source": [
        "# **➕ Enhance your Knowledge ➕**"
      ],
      "metadata": {
        "id": "A_NWSjRA-8gz"
      }
    },
    {
      "cell_type": "markdown",
      "source": [
        "###**Mnemonic**\n",
        "\n",
        "\n",
        "👩‍💻👨‍💻💻📈📊 Once upon a time, there was a group of Code Hackers who had a vision of creating an innovative software company. 💡 They wanted to create software solutions that would change the world and make it a better place. 🚀 As they grew, they realized the importance of using Strings in Python to efficiently manage their data and improve their business operations. They used strings to represent and manipulate textual data, which made it easier to analyze and extract valuable information. 📊 To make sense of their data, they used Python libraries like Pandas to perform complex data analysis and create interactive data visualizations. With these tools, they were able to make informed business decisions and gain insights into their customers' needs. 📈 As their business grew, they also considered the time and space complexity of their string operations to ensure that their software solutions were efficient and scalable. This helped them to optimize their business operations and improve their software performance. 💻 With their expertise in Strings in Python, the Code Hackers were able to create innovative software solutions that solved real-world problems and made a difference in people's lives. 🌍\n",
        "\n",
        "##**Additional Reference Paper**\n",
        "\n",
        "https://marketsplash.com/tutorials/python/how-to-remove-spaces-from-a-string-in-python/\n",
        "\n",
        "\n",
        "\n"
      ],
      "metadata": {
        "id": "Zscz7ZmVk4ey"
      }
    },
    {
      "cell_type": "markdown",
      "source": [
        "##**String Matching Algorithms**"
      ],
      "metadata": {
        "id": "LE3OFHKXbUQo"
      }
    },
    {
      "cell_type": "markdown",
      "source": [
        "1. **Knuth-Morris-Pratt (KMP) Algorithm**: This algorithm is an improvement over the Naive String Matching algorithm and has a time complexity of O(m+n). It uses a prefix function to avoid unnecessary comparisons.\n",
        "\n",
        "2. **Boyer-Moore Algorithm**: This algorithm is particularly efficient for long patterns and has an average time complexity of O(n/m). It works by comparing the pattern with the text from right to left and skips ahead based on a precomputed table.\n",
        "\n",
        "3. **Rabin-Karp Algorithm**: This algorithm uses hash functions to compare the pattern with the text. It has a time complexity of O(m+n) on average, but can have a worst-case time complexity of O(m*n)."
      ],
      "metadata": {
        "id": "Vp4tj-txbYXJ"
      }
    },
    {
      "cell_type": "markdown",
      "source": [
        "##**String Matching**"
      ],
      "metadata": {
        "id": "TXDwWN8GZ7rp"
      }
    },
    {
      "cell_type": "markdown",
      "source": [
        "![uIPjisbiCM-bruteforce.gif](data:image/gif;base64,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)"
      ],
      "metadata": {
        "id": "deJOyFjeR2qd"
      }
    },
    {
      "cell_type": "markdown",
      "source": [
        "String matching is the process of finding one or more occurrences of a pattern or substring within a larger string. Pattern matching and searching are important tasks in computer science."
      ],
      "metadata": {
        "id": "YkK2XRU2Z-UY"
      }
    },
    {
      "cell_type": "markdown",
      "source": [
        "There are several algorithms for pattern matching and searching, each with its own strengths and weaknesses. We will be looking at a simple algorithm- Naive String Matching. If you are interested in learning about the other algorithms as well, head over **\"Additional Read\"** section after the class.\n",
        "\n",
        "\n",
        "\n"
      ],
      "metadata": {
        "id": "X_iiZsMfaF87"
      }
    },
    {
      "cell_type": "markdown",
      "source": [
        "1. **Naive String Matching**: This is a simple algorithm that involves comparing the pattern with each possible substring of the text."
      ],
      "metadata": {
        "id": "grRv0PegTnbR"
      }
    },
    {
      "cell_type": "code",
      "source": [
        "def naive_string_matching(text, pattern):\n",
        "    # Get the lengths of the text and pattern strings\n",
        "    n = len(text)\n",
        "    m = len(pattern)\n",
        "\n",
        "    # Initialize an empty list to store the starting indices of pattern matches\n",
        "    matches = []\n",
        "\n",
        "    # Loop through each possible starting index for the pattern in the text\n",
        "    for i in range(n - m + 1):\n",
        "        # Initialize a counter j to 0 and compare the characters of the pattern to the corresponding characters in the text\n",
        "        j = 0\n",
        "        while j < m and pattern[j] == text[i+j]:\n",
        "            j += 1\n",
        "        # If all characters match, add the starting index to the matches list\n",
        "        if j == m:\n",
        "            matches.append(i)\n",
        "\n",
        "    # Return the list of starting indices of pattern matches\n",
        "    return matches\n",
        "\n",
        "# Example usage\n",
        "text = \"ABCDABCDEFABC\"\n",
        "pattern = \"ABC\"\n",
        "matches = naive_string_matching(text, pattern)\n",
        "print(\"Pattern matches found at indices:\", matches)\n"
      ],
      "metadata": {
        "colab": {
          "base_uri": "https://localhost:8080/"
        },
        "id": "op0lJ8KCbpy0",
        "outputId": "dca2b2bf-8778-4e6d-fc31-19eec68482fe"
      },
      "execution_count": null,
      "outputs": [
        {
          "output_type": "stream",
          "name": "stdout",
          "text": [
            "Pattern matches found at indices: [0, 4, 10]\n"
          ]
        }
      ]
    },
    {
      "cell_type": "markdown",
      "source": [
        "The naive_string_matching function takes two arguments: text, which is the string in which to search for matches, and pattern, which is the pattern string to match against. The function returns a list of starting indices in the text string where the pattern string matches.\n",
        "\n",
        "The function first initializes the lengths of the text and pattern strings using the len() function. It then initializes an empty list called matches to store the starting indices of pattern matches.\n",
        "\n",
        "The function then loops through each possible starting index for the pattern string in the text string. It initializes a counter j to 0 and compares the characters of the pattern string to the corresponding characters in the text string. If all characters match, the starting index is added to the matches list using the append() method.\n",
        "\n",
        "Finally, the function returns the matches list.\n",
        "\n",
        "In the example usage, we define a text string and a pattern string and pass them to the naive_string_matching function. The function returns a list of starting indices where the pattern string matches in the text string, which we print to the console.\n",
        "\n",
        "\n",
        "\n"
      ],
      "metadata": {
        "id": "Tdn3emxwot7Q"
      }
    },
    {
      "cell_type": "markdown",
      "source": [
        "## **Additional Questions**"
      ],
      "metadata": {
        "id": "UxnegC8YVy9-"
      }
    },
    {
      "cell_type": "markdown",
      "source": [
        "### Write a Python program that takes a string as input and counts the number of vowels in the string."
      ],
      "metadata": {
        "id": "0qlXitteV397"
      }
    },
    {
      "cell_type": "code",
      "source": [
        "string = input(\"Enter a string: \")\n",
        "vowels = \"aeiouAEIOU\"\n",
        "count = 0\n",
        "\n",
        "for char in string:\n",
        "    if char in vowels:\n",
        "        count += 1\n",
        "\n",
        "print(\"Number of vowels:\", count)"
      ],
      "metadata": {
        "colab": {
          "base_uri": "https://localhost:8080/"
        },
        "id": "lxDUiTlKXYBr",
        "outputId": "314a6d56-78e9-44c0-f9d0-e7e1278b64b2"
      },
      "execution_count": null,
      "outputs": [
        {
          "output_type": "stream",
          "name": "stdout",
          "text": [
            "Enter a string: hello\n",
            "Number of vowels: 2\n"
          ]
        }
      ]
    },
    {
      "cell_type": "markdown",
      "source": [
        "The **time complexity of this code is O(n)**, where n is the length of the input string. This is because the code iterates through each character in the string exactly once, and the operations inside the loop take constant time.\n",
        "\n",
        "The **space complexity of this code is O(1)**, because the amount of memory used by the program does not depend on the size of the input string. The program only uses a fixed amount of memory to store the input string, the vowels string, and the count variable."
      ],
      "metadata": {
        "id": "1Lr_PuevPTig"
      }
    },
    {
      "cell_type": "markdown",
      "source": [
        "### Write a Python program that takes an array of integers as input and returns the sum of all the even numbers in the array."
      ],
      "metadata": {
        "id": "_5Kl7GQYXciX"
      }
    },
    {
      "cell_type": "code",
      "source": [
        "array = [1, 2, 3, 4, 5, 6, 7, 8, 9, 10]\n",
        "sum = 0\n",
        "\n",
        "for num in array:\n",
        "    if num % 2 == 0:\n",
        "        sum += num\n",
        "\n",
        "print(\"Sum of even numbers:\", sum)"
      ],
      "metadata": {
        "colab": {
          "base_uri": "https://localhost:8080/"
        },
        "id": "vbFN3iGJXmpy",
        "outputId": "ac3c7fb7-cc2b-4c73-d270-85e087a6372d"
      },
      "execution_count": null,
      "outputs": [
        {
          "output_type": "stream",
          "name": "stdout",
          "text": [
            "Sum of even numbers: 30\n"
          ]
        }
      ]
    },
    {
      "cell_type": "markdown",
      "source": [
        "###Space and Time Complexity"
      ],
      "metadata": {
        "id": "XZyCgh3DSw_Z"
      }
    },
    {
      "cell_type": "markdown",
      "source": [
        "The **time complexity of this code is O(n)**, where n is the length of the input string. This is because the code iterates through each character in the string exactly once, and the operations inside the loop take constant time.\n",
        "\n",
        "The **space complexity of this code is O(1)**, because the amount of memory used by the program does not depend on the size of the input string. The program only uses a fixed amount of memory to store the input string, the vowels string, and the count variable. It does not create any new data structures or use extra memory in the loop."
      ],
      "metadata": {
        "id": "VWCaL7k3S19e"
      }
    },
    {
      "cell_type": "markdown",
      "source": [
        "### Write a Python program that takes a string as input and checks if the string is a palindrome."
      ],
      "metadata": {
        "id": "EcSfCo59Xqlv"
      }
    },
    {
      "cell_type": "code",
      "source": [
        "string = input(\"Enter a string: \")\n",
        "\n",
        "if string == string[::-1]:\n",
        "    print(\"The string is a palindrome.\")\n",
        "else:\n",
        "    print(\"The string is not a palindrome.\")"
      ],
      "metadata": {
        "colab": {
          "base_uri": "https://localhost:8080/"
        },
        "id": "hv6Ox3_TX3n1",
        "outputId": "59135d60-dbcc-44cd-bc80-43e4b03be775"
      },
      "execution_count": null,
      "outputs": [
        {
          "output_type": "stream",
          "name": "stdout",
          "text": [
            "Enter a string: racecar\n",
            "The string is a palindrome.\n"
          ]
        }
      ]
    },
    {
      "cell_type": "markdown",
      "source": [
        "**The time complexity of this code is O(n)**, where n is the length of the input string. This is because the string is being reversed using slicing, which takes O(n/2) time. Then, the reversed string is compared to the original string using the \"==\" operator, which takes O(n) time in the worst case.\n",
        "\n",
        "**The space complexity of this code is also O(1),** where n is the length of the input string. This is because a new string is created when the original string is reversed using slicing. The space required for the rest of the code (variables, print statements, etc.) is constant and does not depend on the length of the input string."
      ],
      "metadata": {
        "id": "_BQTUasPVCau"
      }
    },
    {
      "cell_type": "markdown",
      "source": [
        "### Write a Python program that takes a string as input and prints the characters of the string in reverse order."
      ],
      "metadata": {
        "id": "_p-TGRg2X9JJ"
      }
    },
    {
      "cell_type": "code",
      "source": [
        "string = input(\"Enter a string: \")\n",
        "reverse_string = \"\"\n",
        "\n",
        "for i in range(len(string)-1, -1, -1):\n",
        "    reverse_string += string[i]\n",
        "\n",
        "print(\"Reverse string:\", reverse_string)"
      ],
      "metadata": {
        "colab": {
          "base_uri": "https://localhost:8080/"
        },
        "id": "h9cGR34xYU2R",
        "outputId": "0bfcf3cd-090b-4b14-e44f-f47885a12d3c"
      },
      "execution_count": null,
      "outputs": [
        {
          "output_type": "stream",
          "name": "stdout",
          "text": [
            "Enter a string: hello\n",
            "Reverse string: olleh\n"
          ]
        }
      ]
    },
    {
      "cell_type": "markdown",
      "source": [
        "**The time complexity of this code is O(n),** where n is the length of the input string. This is because the code iterates over the input string once to build the reversed string.\n",
        "\n",
        "**The space complexity of this code is also O(1),** where n is the length of the input string. This is because the code creates a new string variable to store the reversed string, which will have the same length as the input string."
      ],
      "metadata": {
        "id": "Mox14bM5VfTN"
      }
    },
    {
      "cell_type": "markdown",
      "source": [
        "### Write a Python program that takes an array of integers as input and finds the largest and smallest numbers in the array."
      ],
      "metadata": {
        "id": "VJNHE0ldYZxd"
      }
    },
    {
      "cell_type": "code",
      "source": [
        "array = [3, 8, 1, 6, 2, 10, 4, 7, 5, 9]\n",
        "largest = array[0]\n",
        "smallest = array[0]\n",
        "\n",
        "for num in array:\n",
        "    if num > largest:\n",
        "        largest = num\n",
        "    if num < smallest:\n",
        "        smallest = num\n",
        "\n",
        "print(\"Largest number:\", largest)\n",
        "print(\"Smallest number:\", smallest)"
      ],
      "metadata": {
        "colab": {
          "base_uri": "https://localhost:8080/"
        },
        "id": "1uxwcwFYYdaS",
        "outputId": "5df84a61-56ac-4f26-a096-16ba93c8fc03"
      },
      "execution_count": null,
      "outputs": [
        {
          "output_type": "stream",
          "name": "stdout",
          "text": [
            "Largest number: 10\n",
            "Smallest number: 1\n"
          ]
        }
      ]
    },
    {
      "cell_type": "markdown",
      "source": [
        "**Time complexity: O(n)**\n",
        "\n",
        "**Space complexity: O(1)**\n",
        "\n",
        "In the given code, we are iterating through each element in the array exactly once. Therefore, the **time complexity of the code is O(n),** where n is the length of the array. **The space complexity of the code is O(1),** as we are only storing the largest and smallest numbers in separate variables, irrespective of the size of the input array."
      ],
      "metadata": {
        "id": "EZ897TWMVmNq"
      }
    },
    {
      "cell_type": "markdown",
      "source": [
        "### Write a Python program that takes two strings as input and checks if one string is a substring of the other."
      ],
      "metadata": {
        "id": "kcTaaJKiYkdj"
      }
    },
    {
      "cell_type": "code",
      "source": [
        "string1 = input(\"Enter string 1: \")\n",
        "string2 = input(\"Enter string 2: \")\n",
        "\n",
        "if string1 in string2 or string2 in string1:\n",
        "    print(\"One string is a substring of the other.\")\n",
        "else:\n",
        "    print(\"The strings are not substrings of each other.\")"
      ],
      "metadata": {
        "colab": {
          "base_uri": "https://localhost:8080/"
        },
        "id": "Hu4LOeCfYl3b",
        "outputId": "a4c947e6-9889-421c-f1e1-5d77e1310328"
      },
      "execution_count": null,
      "outputs": [
        {
          "output_type": "stream",
          "name": "stdout",
          "text": [
            "Enter string 1: he\n",
            "Enter string 2: the\n",
            "One string is a substring of the other.\n"
          ]
        }
      ]
    },
    {
      "cell_type": "markdown",
      "source": [
        "\n",
        "**The time complexity of the above code is O(n^2**) where n is the length of the longer string. This is because the in operator used in the if statement needs to check each character of one string against each character of the other string.\n",
        "\n",
        "**The space complexity is O(1)** because the code only uses a constant amount of additional memory to store the two input strings and some variables to check for substrings."
      ],
      "metadata": {
        "id": "wbmkibmjWaW_"
      }
    },
    {
      "cell_type": "markdown",
      "source": [
        "### Intermeidate Level"
      ],
      "metadata": {
        "id": "QNLlldYpYtzm"
      }
    },
    {
      "cell_type": "markdown",
      "source": [
        "### Write a Python program that takes a string as input and returns the most common character in the string."
      ],
      "metadata": {
        "id": "f3k8MU0NYzE4"
      }
    },
    {
      "cell_type": "code",
      "source": [
        "string = input(\"Enter a string: \")\n",
        "char_count = {}\n",
        "\n",
        "for char in string:\n",
        "    if char in char_count:\n",
        "        char_count[char] += 1\n",
        "    else:\n",
        "        char_count[char] = 1\n",
        "\n",
        "most_common_char = max(char_count, key=char_count.get)\n",
        "print(\"Most common character:\", most_common_char)"
      ],
      "metadata": {
        "colab": {
          "base_uri": "https://localhost:8080/"
        },
        "id": "C0Fgar3_ZTRT",
        "outputId": "ef1fb0a6-5e73-4dbb-c438-264cd05faaf3"
      },
      "execution_count": null,
      "outputs": [
        {
          "output_type": "stream",
          "name": "stdout",
          "text": [
            "Enter a string: gautam\n",
            "Most common character: a\n"
          ]
        }
      ]
    },
    {
      "cell_type": "markdown",
      "source": [
        "**Time complexity: O(n),** where n is the length of the input string. The for loop iterates through each character in the string, and the operations inside the loop (dictionary lookups and updates) take constant time on average.\n",
        "\n",
        "**Space complexity: O(k),** where k is the number of unique characters in the input string. In the worst case, every character in the string is unique, so the dictionary will contain k key-value pairs."
      ],
      "metadata": {
        "id": "Ukqz4tTtWlzQ"
      }
    },
    {
      "cell_type": "markdown",
      "source": [
        "### Write a Python program that takes an array of integers as input and removes all duplicate values from the array."
      ],
      "metadata": {
        "id": "Gid2HwJ7Zcri"
      }
    },
    {
      "cell_type": "code",
      "source": [
        "array = [3, 8, 1, 6, 2, 10, 4, 7, 5, 9, 1, 2, 5, 8]\n",
        "unique_array = []\n",
        "\n",
        "for num in array:\n",
        "    if num not in unique_array:\n",
        "        unique_array.append(num)\n",
        "\n",
        "print(\"Array with duplicates removed:\", unique_array)"
      ],
      "metadata": {
        "colab": {
          "base_uri": "https://localhost:8080/"
        },
        "id": "pTjlvth3ZgZ_",
        "outputId": "ed41b2c4-ad31-44da-bdc9-c144be2f1100"
      },
      "execution_count": null,
      "outputs": [
        {
          "output_type": "stream",
          "name": "stdout",
          "text": [
            "Array with duplicates removed: [3, 8, 1, 6, 2, 10, 4, 7, 5, 9]\n"
          ]
        }
      ]
    },
    {
      "cell_type": "markdown",
      "source": [
        "\n",
        "**Time Complexity: O(n^2),** where n is the length of the array. This is because the algorithm uses nested loops to check for duplicates.\n",
        "\n",
        "**Space Complexity: O(n),** where n is the length of the array. This is because the algorithm creates a new list to store the unique elements. The space used by this list is proportional to the number of unique elements in the array."
      ],
      "metadata": {
        "id": "0XG-3skkW0e0"
      }
    },
    {
      "cell_type": "markdown",
      "source": [
        "### Write a Python program that takes a string as input and reverses the order of the words in the string."
      ],
      "metadata": {
        "id": "JnpmRd8UZjzr"
      }
    },
    {
      "cell_type": "code",
      "source": [
        "string = input(\"Enter a string: \")\n",
        "words = string.split()\n",
        "reverse_string = \"\"\n",
        "\n",
        "for i in range(len(words)-1, -1, -1):\n",
        "    reverse_string += words[i] + \" \"\n",
        "\n",
        "print(\"Reverse string:\", reverse_string)"
      ],
      "metadata": {
        "colab": {
          "base_uri": "https://localhost:8080/"
        },
        "id": "DNhk479pZoHz",
        "outputId": "09970fc3-d323-438e-b1c3-825649509f6b"
      },
      "execution_count": null,
      "outputs": [
        {
          "output_type": "stream",
          "name": "stdout",
          "text": [
            "Enter a string: war\n",
            "Reverse string: war \n"
          ]
        }
      ]
    },
    {
      "cell_type": "markdown",
      "source": [
        "**The time complexity of this code is O(n),** where n is the number of words in the string.\n",
        "\n",
        "**The space complexity of this code is also O(n),** where n is the number of words in the string, because a new list of words is created when the string is split, and a new string is created when the words are reversed."
      ],
      "metadata": {
        "id": "O8dvKVZAXAek"
      }
    },
    {
      "cell_type": "markdown",
      "source": [
        "### Write a Python program that takes a string as input and removes all the duplicate characters from the string."
      ],
      "metadata": {
        "id": "GvmFN33zaOyl"
      }
    },
    {
      "cell_type": "code",
      "source": [
        "string = input(\"Enter a string: \")\n",
        "new_string = \"\"\n",
        "\n",
        "for char in string:\n",
        "    if char not in new_string:\n",
        "        new_string += char\n",
        "\n",
        "print(\"New string without duplicates:\", new_string)"
      ],
      "metadata": {
        "colab": {
          "base_uri": "https://localhost:8080/"
        },
        "id": "cYtZa6J_aS0f",
        "outputId": "879444a4-8155-4b7f-dbf3-b8b14a86d952"
      },
      "execution_count": null,
      "outputs": [
        {
          "output_type": "stream",
          "name": "stdout",
          "text": [
            "Enter a string: hello world\n",
            "New string without duplicates: helo wrd\n"
          ]
        }
      ]
    },
    {
      "cell_type": "markdown",
      "source": [
        "\n",
        "\n",
        "**The time complexity of this program is O(n^2)** because it has a nested loop structure. For each character in the input string, the program checks if it is already in the new string. This requires iterating over all characters in the new string, which increases in size as more unique characters are added. Therefore, the time complexity is proportional to the square of the input size.\n",
        "\n",
        "**The space complexity of this program is O(n)** because the size of the new string is proportional to the number of unique characters in the input string. In the worst case, where all characters in the input string are unique, the size of the new string is equal to the size of the input string. Therefore, the space complexity is linear in the input size."
      ],
      "metadata": {
        "id": "-TbAyOuuXNS0"
      }
    },
    {
      "cell_type": "markdown",
      "source": [
        "### Write a Python program that takes a string as input and finds the longest palindrome substring in the string"
      ],
      "metadata": {
        "id": "VpoM7XbwaXTS"
      }
    },
    {
      "cell_type": "code",
      "source": [
        "string = input(\"Enter a string: \")\n",
        "longest_palindrome = \"\"\n",
        "\n",
        "for i in range(len(string)):\n",
        "    for j in range(i, len(string)):\n",
        "        substring = string[i:j+1]\n",
        "        if substring == substring[::-1] and len(substring) > len(longest_palindrome):\n",
        "            longest_palindrome = substring\n",
        "\n",
        "print(\"Longest palindrome substring:\", longest_palindrome)"
      ],
      "metadata": {
        "colab": {
          "base_uri": "https://localhost:8080/"
        },
        "id": "saMSjFiladc7",
        "outputId": "8d9cc557-5e61-422b-daaf-aa8ef3021831"
      },
      "execution_count": null,
      "outputs": [
        {
          "output_type": "stream",
          "name": "stdout",
          "text": [
            "Enter a string: racecaranna\n",
            "Longest palindrome substring: racecar\n"
          ]
        }
      ]
    },
    {
      "cell_type": "markdown",
      "source": [
        "**The time complexity of this code is O(n^3),** where n is the length of the input string. This is because there are two nested loops, and the substring variable is created using string slicing, which is an O(n) operation. Therefore, the total time complexity is O(n^3).\n",
        "\n",
        "**The space complexity of this code is O(n),** where n is the length of the input string. This is because the longest_palindrome variable is the only data structure that grows with the size of the input, and it can store at most n characters. Therefore, the space complexity is O(n)."
      ],
      "metadata": {
        "id": "Gzr7OREfXduS"
      }
    },
    {
      "cell_type": "markdown",
      "source": [
        "### Write a Python program that takes a string as input and returns the most frequently occurring character in the string."
      ],
      "metadata": {
        "id": "AJA31Ek9avMF"
      }
    },
    {
      "cell_type": "code",
      "source": [
        "string = input(\"Enter a string: \")\n",
        "char_count = {}\n",
        "\n",
        "for char in string:\n",
        "    if char in char_count:\n",
        "        char_count[char] += 1\n",
        "    else:\n",
        "        char_count[char] = 1\n",
        "\n",
        "max_count = max(char_count.values())\n",
        "\n",
        "for char, count in char_count.items():\n",
        "    if count == max_count:\n",
        "        print(\"Most frequent character:\", char)"
      ],
      "metadata": {
        "colab": {
          "base_uri": "https://localhost:8080/"
        },
        "id": "cMyDmJrnawQE",
        "outputId": "846717e9-8e52-47cb-8810-eca29bb1e35b"
      },
      "execution_count": null,
      "outputs": [
        {
          "output_type": "stream",
          "name": "stdout",
          "text": [
            "Enter a string: gautaaaam\n",
            "Most frequent character: a\n"
          ]
        }
      ]
    },
    {
      "cell_type": "markdown",
      "source": [
        "**The time complexity of the code is O(n),** where n is the length of the input string, because it loops through the string once to count the characters, and then loops through the dictionary of character counts to find the most frequent character.\n",
        "\n",
        "**The space complexity of the code is also O(n),** because it creates a dictionary to store the character counts, and the dictionary can contain up to n distinct characters."
      ],
      "metadata": {
        "id": "Jqm48VxiXpGH"
      }
    },
    {
      "cell_type": "markdown",
      "source": [
        "### Write a Python program that takes an array of integers as input and returns a new array with all the duplicates removed."
      ],
      "metadata": {
        "id": "cZtMDHWma_AF"
      }
    },
    {
      "cell_type": "code",
      "source": [
        "array = [3, 8, 1, 6, 2, 10, 4, 7, 5, 9, 3, 8, 1]\n",
        "new_array = []\n",
        "\n",
        "for num in array:\n",
        "    if num not in new_array:\n",
        "        new_array.append(num)\n",
        "\n",
        "print(\"New array without duplicates:\", new_array)"
      ],
      "metadata": {
        "colab": {
          "base_uri": "https://localhost:8080/"
        },
        "id": "5xZbzdhKbDFg",
        "outputId": "74b92ca6-00ed-4a6a-9824-3447423802dd"
      },
      "execution_count": null,
      "outputs": [
        {
          "output_type": "stream",
          "name": "stdout",
          "text": [
            "New array without duplicates: [3, 8, 1, 6, 2, 10, 4, 7, 5, 9]\n"
          ]
        }
      ]
    },
    {
      "cell_type": "markdown",
      "source": [
        "**The time complexity of this code is O(n^2),** since for each element in the array, we check if it's already in the new array, which requires iterating over the new array. This results in nested loops and quadratic time complexity.\n",
        "\n",
        "**The space complexity is also O(n^2),** since in the worst case scenario where there are no duplicates in the input array, the new array will contain all the elements of the input array, resulting in a copy of the input array with the same size."
      ],
      "metadata": {
        "id": "A_FfB4XCXy0B"
      }
    },
    {
      "cell_type": "markdown",
      "source": [
        "### Write a Python program that takes two strings as input and checks if they are anagrams of each other."
      ],
      "metadata": {
        "id": "Myc2jmDcbIV6"
      }
    },
    {
      "cell_type": "code",
      "source": [
        "string1 = input(\"Enter string 1: \")\n",
        "string2 = input(\"Enter string 2: \")\n",
        "\n",
        "if sorted(string1) == sorted(string2):\n",
        "    print(\"The strings are anagrams of each other.\")\n",
        "else:\n",
        "    print(\"The strings are not anagrams of each other.\")"
      ],
      "metadata": {
        "colab": {
          "base_uri": "https://localhost:8080/"
        },
        "id": "jNBjaPijbOxL",
        "outputId": "45eba9ca-02f5-4ae5-d69a-1d9212d5a12b"
      },
      "execution_count": null,
      "outputs": [
        {
          "output_type": "stream",
          "name": "stdout",
          "text": [
            "Enter string 1: listen\n",
            "Enter string 2: silent\n",
            "The strings are anagrams of each other.\n"
          ]
        }
      ]
    },
    {
      "cell_type": "markdown",
      "source": [
        "**The time complexity of this code is O(nlogn)**, where n is the length of the longest string. This is because the sorted function has a time complexity of O(nlogn) for sorting a list of length n.\n",
        "\n",
        "**The space complexity is also O(n),** where n is the length of the longest string. This is because the sorted function creates a new list with the same length as the input string, so the space required is proportional to the length of the longest string."
      ],
      "metadata": {
        "id": "2lp6iD7TX9oP"
      }
    },
    {
      "cell_type": "markdown",
      "source": [
        "### **Hard Level**"
      ],
      "metadata": {
        "id": "z3_pZvFnbkH2"
      }
    },
    {
      "cell_type": "markdown",
      "source": [
        "### Write a Python program that takes an array of integers as input and returns a new array that contains all the subsets of the original array."
      ],
      "metadata": {
        "id": "_4OcSkHYbn5m"
      }
    },
    {
      "cell_type": "code",
      "source": [
        "def get_subsets(array):\n",
        "    subsets = [[]]\n",
        "\n",
        "    for num in array:\n",
        "        for i in range(len(subsets)):\n",
        "            current_subset = subsets[i]\n",
        "            subsets.append(current_subset + [num])\n",
        "\n",
        "    return subsets\n",
        "\n",
        "array = [1, 2, 3]\n",
        "subsets = get_subsets(array)\n",
        "\n",
        "print(\"All subsets of\", array, \":\")\n",
        "for subset in subsets:\n",
        "    print(subset)"
      ],
      "metadata": {
        "colab": {
          "base_uri": "https://localhost:8080/"
        },
        "id": "riXtUPBSbre0",
        "outputId": "8980763f-28d5-48b9-8066-f7c852f622b6"
      },
      "execution_count": null,
      "outputs": [
        {
          "output_type": "stream",
          "name": "stdout",
          "text": [
            "All subsets of [1, 2, 3] :\n",
            "[]\n",
            "[1]\n",
            "[2]\n",
            "[1, 2]\n",
            "[3]\n",
            "[1, 3]\n",
            "[2, 3]\n",
            "[1, 2, 3]\n"
          ]
        }
      ]
    },
    {
      "cell_type": "markdown",
      "source": [
        "**The time complexity of the get_subsets() function is O(2^n),** where n is the length of the input array. This is because for each element in the array, the number of subsets doubles, leading to a total of 2^n subsets.\n",
        "\n",
        "**The space complexity of the function is also O(2^n),** as the number of subsets is also 2^n, and each subset can contain up to n elements."
      ],
      "metadata": {
        "id": "jVA9qr17YHgX"
      }
    },
    {
      "cell_type": "markdown",
      "source": [
        "### Write a Python program that takes two strings as input and returns the length of the longest common subsequence between the two strings."
      ],
      "metadata": {
        "id": "taJApBGebwKP"
      }
    },
    {
      "cell_type": "code",
      "source": [
        "def longest_common_subsequence(string1, string2):\n",
        "    m = len(string1)\n",
        "    n = len(string2)\n",
        "    lcs = [[0] * (n + 1) for i in range(m + 1)]\n",
        "\n",
        "    for i in range(m + 1):\n",
        "        for j in range(n + 1):\n",
        "            if i == 0 or j == 0:\n",
        "                lcs[i][j] = 0\n",
        "            elif string1[i - 1] == string2[j - 1]:\n",
        "                lcs[i][j] = lcs[i - 1][j - 1] + 1\n",
        "            else:\n",
        "                lcs[i][j] = max(lcs[i - 1][j], lcs[i][j - 1])\n",
        "\n",
        "    return lcs[m][n]\n",
        "\n",
        "string1 = \"ABCDGH\"\n",
        "string2 = \"AEDFHR\"\n",
        "lcs_length = longest_common_subsequence(string1, string2)\n",
        "\n",
        "print(\"The length of the longest common subsequence between\", string1, \"and\", string2, \"is:\", lcs_length)"
      ],
      "metadata": {
        "colab": {
          "base_uri": "https://localhost:8080/"
        },
        "id": "7ozIzjJicGIs",
        "outputId": "bc7aab12-b7d1-4a62-e634-e449ff15af1c"
      },
      "execution_count": null,
      "outputs": [
        {
          "output_type": "stream",
          "name": "stdout",
          "text": [
            "The length of the longest common subsequence between ABCDGH and AEDFHR is: 3\n"
          ]
        }
      ]
    },
    {
      "cell_type": "markdown",
      "source": [
        "**Time complexity: O(mn),** where m is the length of string1 and n is the length of string2.\n",
        "\n",
        "**Space complexity: O(mn),** since we are using a 2D list to store the length of the longest common subsequence at each step of the dynamic programming algorithm."
      ],
      "metadata": {
        "id": "KteR7rEBYUsc"
      }
    },
    {
      "cell_type": "markdown",
      "source": [
        "### Write a Python program that takes an array of integers as input and returns the length of the longest increasing subsequence (not necessarily contiguous) in the array."
      ],
      "metadata": {
        "id": "37eiKeHgcMIo"
      }
    },
    {
      "cell_type": "code",
      "source": [
        "def longest_increasing_subsequence(array):\n",
        "    n = len(array)\n",
        "    lis = [1] * n\n",
        "\n",
        "    for i in range(1, n):\n",
        "        for j in range(i):\n",
        "            if array[j] < array[i]:\n",
        "                lis[i] = max(lis[i], lis[j] + 1)\n",
        "\n",
        "    return max(lis)\n",
        "\n",
        "array = [10, 22, 9, 33, 21, 50, 41, 60]\n",
        "lis_length = longest_increasing_subsequence(array)\n",
        "\n",
        "print(\"The length of the longest increasing subsequence in\", array, \"is:\", lis_length)"
      ],
      "metadata": {
        "colab": {
          "base_uri": "https://localhost:8080/"
        },
        "id": "L4jcw71YcUoM",
        "outputId": "862c725c-d843-462c-9e73-b06ccb50749e"
      },
      "execution_count": null,
      "outputs": [
        {
          "output_type": "stream",
          "name": "stdout",
          "text": [
            "The length of the longest increasing subsequence in [10, 22, 9, 33, 21, 50, 41, 60] is: 5\n"
          ]
        }
      ]
    },
    {
      "cell_type": "markdown",
      "source": [
        "**The time complexity of the longest_increasing_subsequence function is O(n^2)** because it has nested loops that iterate over the array. **The space complexity is O(n)** because it creates a list of size n to store the length of the longest increasing subsequence ending at each index."
      ],
      "metadata": {
        "id": "NelDK2GFYjJJ"
      }
    },
    {
      "cell_type": "markdown",
      "source": [
        "### Write a Python program that takes a string as input and returns the longest palindrome substring of the input string."
      ],
      "metadata": {
        "id": "Ch83pWDSdH4u"
      }
    },
    {
      "cell_type": "code",
      "source": [
        "def longest_palindrome_substring(string):\n",
        "    n = len(string)\n",
        "    table = [[0 for x in range(n)] for y in range(n)]\n",
        "    longest_substring = \"\"\n",
        "\n",
        "    for i in range(n):\n",
        "        table[i][i] = 1\n",
        "        longest_substring = string[i]\n",
        "\n",
        "    for length in range(2, n + 1):\n",
        "        for i in range(n - length + 1):\n",
        "            j = i + length - 1\n",
        "            if length == 2 and string[i] == string[j]:\n",
        "                table[i][j] = 2\n",
        "                longest_substring = string[i:j+1]\n",
        "            elif string[i] == string[j] and table[i + 1][j - 1] != 0:\n",
        "                table[i][j] = table[i + 1][j - 1] + 2\n",
        "                if len(longest_substring) < length:\n",
        "                    longest_substring = string[i:j+1]\n",
        "            else:\n",
        "                table[i][j] = 0\n",
        "\n",
        "    return longest_substring\n",
        "\n",
        "string = \"babad\"\n",
        "longest_palindrome = longest_palindrome_substring(string)\n",
        "\n",
        "print(\"The longest palindrome substring of\", string, \"is:\", longest_palindrome)"
      ],
      "metadata": {
        "colab": {
          "base_uri": "https://localhost:8080/"
        },
        "id": "wu6tDu19dLfm",
        "outputId": "26a5038e-c9b7-42a1-9239-918490ce1b2e"
      },
      "execution_count": null,
      "outputs": [
        {
          "output_type": "stream",
          "name": "stdout",
          "text": [
            "The longest palindrome substring of babad is: bab\n"
          ]
        }
      ]
    },
    {
      "cell_type": "markdown",
      "source": [
        "**TC: The time complexity of this algorithm is O(n^2),** where n is the length of the input string. This is because we use a nested loop to iterate over all possible substrings of the input string. Within the loop, the operations performed take constant time, so the overall time complexity is O(n^2).\n",
        "\n",
        "**SC: The space complexity of this algorithm is O(n^2)**, where n is the length of the input string. This is because we use a 2D array to store the lengths of the longest palindrome substrings for all possible substrings of the input string. The size of this array is n by n, so the space complexity is O(n^2)."
      ],
      "metadata": {
        "id": "RSq200EqYyKj"
      }
    },
    {
      "cell_type": "markdown",
      "source": [
        "# 🔍 **Try it Yourself**\n",
        "\n",
        "\n",
        "Are you ready to put your coding skills to the test and gain practical knowledge? We have some exciting coding questions waiting for you to solve! 🚀\n",
        "\n",
        "Your task is to attempt the coding questions associated with this lesson. These challenges have been thoughtfully designed to reinforce your understanding of the concepts covered in the course. You can find them in your dashboard under this lesson.\n",
        "\n",
        "Don't be shy! Share your findings, experiences, and any insights you gained while tackling these coding questions on the AlmaBetter community platform. Engage in discussions, help each other out, and celebrate your victories together!\n",
        "\n",
        "Remember, coding is not just about learning theory; it's about applying that knowledge to solve real-world problems. So, dive in, experiment, and have fun while honing your coding skills!\n",
        "Let's learn, grow, and inspire each other as a vibrant community of passionate learners. Happy coding! 💻 😊"
      ],
      "metadata": {
        "id": "9prXYKB3H9-d"
      }
    },
    {
      "cell_type": "markdown",
      "source": [
        "## **Task 1:**"
      ],
      "metadata": {
        "id": "hBYeXQi2rQfh"
      }
    },
    {
      "cell_type": "markdown",
      "source": [
        "###**Activity 1**"
      ],
      "metadata": {
        "id": "DlOZW8LMmPfx"
      }
    },
    {
      "cell_type": "markdown",
      "source": [
        "🔍🔍🔍\n",
        "\n",
        " Scenario: A company has a list of employee names and their employee IDs. The company needs to generate email addresses for each employee using the following format: firstname.lastname@company.com. However, some employees have multiple first or last names, separated by spaces, and their employee IDs have leading zeros that need to be removed. Write a Python program to generate email addresses for each employee."
      ],
      "metadata": {
        "id": "dNJjK0lrmSKF"
      }
    },
    {
      "cell_type": "code",
      "source": [
        "# Employee information\n",
        "names = [\"John Smith\", \"Jane Doe\", \"James William Johnson\"]\n",
        "ids = [\"001234\", \"000987\", \"005678\"]"
      ],
      "metadata": {
        "id": "xuSz9_j2mahg"
      },
      "execution_count": 2,
      "outputs": []
    },
    {
      "cell_type": "code",
      "source": [
        "# Write your code here\n",
        "for i in range(len(names)):\n",
        "  names_part=names[i].split()\n",
        "  first_name=names_part[0]\n",
        "  last_name=names_part[-1]\n",
        "  if len(names_part)>2:\n",
        "    first_name=\"\".join(names_part[:-1])\n",
        "    last_name=names_part[-1]\n",
        "  email=f\"{first_name.lower()}.{last_name.lower()}@company.com\"\n",
        "  print(email)"
      ],
      "metadata": {
        "id": "B6s8xkVYDn2g",
        "colab": {
          "base_uri": "https://localhost:8080/"
        },
        "outputId": "2e29dd27-9398-41c2-eb9e-899742c80efb"
      },
      "execution_count": 8,
      "outputs": [
        {
          "output_type": "stream",
          "name": "stdout",
          "text": [
            "john.smith@company.com\n",
            "jane.doe@company.com\n",
            "jameswilliam.johnson@company.com\n"
          ]
        }
      ]
    },
    {
      "cell_type": "markdown",
      "source": [
        "###**Activity 2:**\n",
        "\n"
      ],
      "metadata": {
        "id": "Bv1xtARAxzTh"
      }
    },
    {
      "cell_type": "markdown",
      "source": [
        "🧑🧑🧑\n",
        "You are a teacher who needs to grade a stack of math homework assignments. You want to make sure that the students have followed the instructions and written their answers in the correct format. The correct format for the answer is a number followed by the unit of measurement, separated by a space. For example, \"10 meters\" or \"5 seconds\".\n",
        "\n",
        "You decide to use naive string matching to find all the answers that are not in the correct format so that you can provide feedback to the students.\n",
        "\n",
        "Can you write a Python code to help you find the answers that are not in the correct format?"
      ],
      "metadata": {
        "id": "S9lf81INqEOJ"
      }
    },
    {
      "cell_type": "code",
      "source": [
        "# List of answers\n",
        "answers = ['10 meters', '5 seconds', '3.14', '5 feet', '2.3 kilograms', '20 miles/hour', '7', '9.81 m/s^2']\n",
        "\n",
        "# Loop over all answers and check if they are in the correct format\n",
        "for i in range(len(names)):\n",
        "name_p = names[i].split()\n",
        "f_name = name_p[0]\n",
        "l_name = name_p[-1]\n",
        "if len(name_p)>2:\n",
        "f_name= \"\".join(name_p[:-1])\n",
        "email = f\"{f_name.lower()}.{l_name.lower()}@company.com\"\n",
        "print(f\"{names[i]}:{email}\")\n"
      ],
      "metadata": {
        "id": "pFwfUUbeqqZX"
      },
      "execution_count": null,
      "outputs": []
    },
    {
      "cell_type": "markdown",
      "source": [
        "### Activity 3: 🎭 **The Secret Message** 🕵️‍♀️📜💬\n",
        "\n",
        "A spy has left a secret message in a string. Your task is to decode the message by extracting certain characters from the string and rearranging them in a specific order to reveal the message.\n",
        "\n",
        "1. Define two string variables, one with your favorite emoji and one with your name.\n",
        "2. Concatenate the two strings together using the + operator and assign the result to a new variable.\n",
        "3. Convert the concatenated string to all uppercase letters using the .upper() method and assign the result to a new variable.\n",
        "4. Replace the emoji in the original concatenated string with a new emoji using the .replace() method and assign the result to a new variable.\n",
        "5. Find the position of the letter \"h\" in the original concatenated string using the .find() method and assign the result to a new variable.\n",
        "\n",
        "\n",
        "\n",
        "Additionally, find the time and space complexity of the code you have developed.\n"
      ],
      "metadata": {
        "id": "8HIDm0bzpaRg"
      }
    },
    {
      "cell_type": "code",
      "source": [
        "# Your code here\n"
      ],
      "metadata": {
        "id": "VcxS7GLovMGi"
      },
      "execution_count": null,
      "outputs": []
    },
    {
      "cell_type": "markdown",
      "source": [
        "## **Task 2:**"
      ],
      "metadata": {
        "id": "Tk-Eie9ArNF8"
      }
    },
    {
      "cell_type": "markdown",
      "source": [
        "####**🔵 Tell us in the AlmaBetter Community Platform that which challenge you faced difficulty to solve?**"
      ],
      "metadata": {
        "id": "zVG8Uub0tlYO"
      }
    }
  ]
}