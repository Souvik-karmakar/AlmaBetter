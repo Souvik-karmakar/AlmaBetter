{
  "nbformat": 4,
  "nbformat_minor": 0,
  "metadata": {
    "colab": {
      "provenance": [],
      "collapsed_sections": [
        "ItS9aWRduIlC",
        "BweR0lO0TaLS",
        "eyB3E-6dEnGA",
        "hM_lFB_-EuvH",
        "j-G8_wY22J-O",
        "sS6pKTkH3DfE",
        "diZ25lYKJMzB",
        "A_NWSjRA-8gz",
        "Zscz7ZmVk4ey",
        "wan_QovgbBen",
        "rPNVq9LnFSDn",
        "q6HmYW18GKUd",
        "zMA_bUjwH5Rj",
        "TozK4eRJIbzT",
        "FoI_93DrbdgT",
        "pyXzO5n4cB1O",
        "BeKOd9hgcN07",
        "gPGU2e_CcnC2",
        "1YgdwaxLdS_i",
        "o6uH-omDgp0v",
        "JXTzrSpDgu6Y",
        "D6BHf5-3hfha",
        "NsXHrzzSh3Ol",
        "xhI4V6HsiTBB",
        "hJyJ4inOjISJ",
        "Rje3iJdajorP",
        "hNEAffoUkApI",
        "CM4ECWBJkXKt",
        "dcEVML5Pug8o",
        "_rhE72U1udMP"
      ]
    },
    "kernelspec": {
      "name": "python3",
      "display_name": "Python 3"
    },
    "language_info": {
      "name": "python"
    }
  },
  "cells": [
    {
      "cell_type": "markdown",
      "source": [
        "#**Session flow:**"
      ],
      "metadata": {
        "id": "ItS9aWRduIlC"
      }
    },
    {
      "cell_type": "markdown",
      "source": [
        "\n",
        "👨🏻‍🎓 Learning Objective:\n",
        "\n",
        "* Introduction\n",
        "* Theme\n",
        "* Primary Goals\n",
        "\n",
        "💻 When not to use recursion:\n",
        "\n",
        "* Large input sizes\n",
        "* Non recursive solutions\n",
        "* Activity: Fill in the Blanks\n",
        "\n",
        "🤔 Time and space complexity\n",
        "\n",
        "* Permutation and unique permutation\n",
        "* Activity: Debug the Codes\n",
        "\n",
        "📝 Summary\n",
        "\n",
        "* What did we learn?\n",
        "* Shortcomings & Challenges\n",
        "* Best Practices & Tips\n",
        "\n",
        "🔗 Enhance your Knowledge\n",
        "\n",
        "* Mnemonic\n",
        "* Additional Resources\n",
        "\n",
        "🔍 Try it Yourself\n",
        "\n",
        "* Activities\n",
        "* Social Engagement"
      ],
      "metadata": {
        "id": "2jHpSdunf7eR"
      }
    },
    {
      "cell_type": "markdown",
      "source": [
        "##Here's a visualisation tool to help you out! ⭐⭐⭐"
      ],
      "metadata": {
        "id": "BweR0lO0TaLS"
      }
    },
    {
      "cell_type": "markdown",
      "source": [
        "**CS Circles Visualize** is an online tool that allows users to visualize the execution of Python code step by step. It can be used to better understand how code works and identify errors in code, making it a valuable resource for learners of all levels.\n",
        "\n",
        "To use CS Circles Visualize, users simply need to input their Python code into the text editor and click the \"Visualize Code\" button. The tool will then display the code execution step by step, highlighting each line of code as it is executed and displaying the current value of variables. Users can also pause the execution at any point to inspect the current state of the program.\n",
        "\n",
        "CS Circles Visualize can be particularly useful for beginners who are just starting to learn Python or programming in general, as it can help them visualize the concepts they are learning in a more concrete way. However, it can also be used by more experienced programmers who want to better understand how their code works or troubleshoot errors.\n",
        "\n",
        "**Here's the [link](https://cscircles.cemc.uwaterloo.ca/visualize#mode=display) to the resource**\n"
      ],
      "metadata": {
        "id": "W5mzTuyBTjN_"
      }
    },
    {
      "cell_type": "markdown",
      "source": [
        "# **👨🏻‍🎓 Learning Objective 👨🏻‍🎓**"
      ],
      "metadata": {
        "id": "eyB3E-6dEnGA"
      }
    },
    {
      "cell_type": "markdown",
      "source": [
        "##**Introduction**\n",
        "\n",
        "📚👨‍🎓 Recursion is a powerful tool for solving complex problems in computer science. It involves breaking down a problem into smaller, simpler subproblems and then solving them recursively. Today we will solve a few common problems around recursion and strengthen our conceptual understanding:\n",
        "\n",
        "\n",
        "1️⃣ **Display of Array with recursion and Reverse Display of Array with recursion**:\n",
        "Recursively display an array of elements, starting from the first element to the last element, and then recursively display it in reverse order. This is a simple yet effective way to learn recursion.\n",
        "\n",
        "2️⃣ **Finding Data in an Array**:\n",
        "Recursively search for a specific value in an array of elements. This is a useful technique when dealing with large datasets.\n",
        "\n",
        "3️⃣ **Board Path**:\n",
        "Recursively find all possible paths on a board of squares, starting from one corner and ending at the opposite corner.\n",
        "\n",
        "4️⃣**Permutation and Unique Permutation**:\n",
        "Recursively find all possible permutations of a given sequence of elements. This can be done with or without repetition.\n",
        "\n",
        "\n",
        "**Focus- Data Structures, Arrays, Operations in Array, Strings, Operation in Strings**\n",
        "\n",
        "**Pre-requisites- Recursion, Data Structure Fundamentals**\n",
        "\n",
        "\n",
        "##**Theme**\n",
        "\n",
        " 🌟🔮Mastering recursion is of utmost importance in the realm of computer science and programming. It is a powerful problem-solving technique that allows programmers to break down complex tasks into smaller, more manageable subproblems. 🌀🔁 Recursion enables elegant and concise code, promoting readability and maintainability. Understanding recursion fosters computational thinking and the ability to recognize patterns and recursive structures in various real-world scenarios. Mastery of recursion opens the door to mastering many classic algorithms and data structures. 🎩💫\n",
        "\n",
        "\n",
        "##**Primary Goals**\n",
        "\n",
        "1. Understanding the Concept: The foremost goal is to grasp the concept of recursion thoroughly. This involves comprehending how a function can call itself, the termination conditions (base cases), and the recursive step that breaks the problem into smaller subproblems.\n",
        "\n",
        "2. Efficient Problem-Solving: Recursion offers an elegant way to solve problems by breaking them down into smaller, more manageable parts. The goal is to become proficient in applying recursion to a wide range of problems and recognizing when it provides an efficient solution.\n",
        "\n",
        "3. Algorithmic Thinking: Mastering recursion fosters algorithmic thinking, which is essential in designing effective algorithms. Recursion encourages the ability to see problems as a series of interconnected steps, leading to better problem abstraction and modularization.\n",
        "\n",
        "4. Problem Identification: One of the goals of mastering recursion is to recognize problems that can be effectively solved using recursive techniques. This skill allows programmers to choose the right approach when faced with various problem-solving scenarios.\n",
        "\n",
        "5. Optimization Techniques: Efficient recursion often involves employing optimization techniques like memoization and tail-call optimization. The goal is to understand when and how to use these techniques to improve the performance of recursive solutions.\n"
      ],
      "metadata": {
        "id": "hM_lFB_-EuvH"
      }
    },
    {
      "cell_type": "markdown",
      "source": [
        "# 📖**Learning Material**📖 #"
      ],
      "metadata": {
        "id": "9sJaf2tRVmOs"
      }
    },
    {
      "cell_type": "markdown",
      "source": [
        "## **Mastering Recursion**"
      ],
      "metadata": {
        "id": "OjUePZbdYjrg"
      }
    },
    {
      "cell_type": "markdown",
      "source": [
        "![image.png](data:image/png;base64,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)"
      ],
      "metadata": {
        "id": "BgH0FNaPYxAU"
      }
    },
    {
      "cell_type": "markdown",
      "source": [
        "Hey there! 👋 Congratulations on getting introduced to the exciting world of recursion! 🎉 You now know the what, why, and where of recursion, which is amazing! 💪 But wait, there's more! To truly master this concept, you need to get your hands dirty with some good old-fashioned practice! 🤓\n",
        "\n",
        "Don't worry, we are here to help you out! 😉 Let's dive into some fun and challenging recursion-based problems that will take your understanding to the next level! 🚀\n",
        "\n",
        "By practicing these problems, you'll gain more confidence and become a recursion master in no time! ⏰\n",
        "\n",
        "So, are you ready to take on these challenges? 💪 Let's go!"
      ],
      "metadata": {
        "id": "wB98ZLGIYqNF"
      }
    },
    {
      "cell_type": "markdown",
      "source": [
        "## **When Not to use Recursion**"
      ],
      "metadata": {
        "id": "7Hw0e037ZcYN"
      }
    },
    {
      "cell_type": "markdown",
      "source": [
        "🤔 Recursion is a powerful technique in programming, but there are some cases where it's not the best choice. Let's take a look at a few scenarios where recursion can be avoided.\n",
        "\n",
        "**1. Large input sizes: If you have a large input size, recursion can lead to stack overflow errors, which can cause your program to crash. For example, consider the following recursive function that calculates the factorial of a number:**"
      ],
      "metadata": {
        "id": "Rd57q9m1aBG7"
      }
    },
    {
      "cell_type": "code",
      "source": [
        "%%time\n",
        "def factorial(n):\n",
        "    if n == 0:\n",
        "        return 1\n",
        "    else:\n",
        "        return n * factorial(n - 1)\n",
        "factorial(5)"
      ],
      "metadata": {
        "id": "mIKdBqwfPrXz",
        "colab": {
          "base_uri": "https://localhost:8080/"
        },
        "outputId": "039cd1f6-9349-4e49-833e-687cc28e416e"
      },
      "execution_count": null,
      "outputs": [
        {
          "output_type": "stream",
          "name": "stdout",
          "text": [
            "CPU times: user 20 µs, sys: 0 ns, total: 20 µs\n",
            "Wall time: 23.4 µs\n"
          ]
        },
        {
          "output_type": "execute_result",
          "data": {
            "text/plain": [
              "120"
            ]
          },
          "metadata": {},
          "execution_count": 1
        }
      ]
    },
    {
      "cell_type": "markdown",
      "source": [
        "While this function works fine for small values of n, it will quickly run into recursion errors (timeout) for larger values."
      ],
      "metadata": {
        "id": "3Nf0wTA3PtWy"
      }
    },
    {
      "cell_type": "code",
      "source": [
        "%%time\n",
        "def factorial(n):\n",
        "    if n == 0:\n",
        "        return 1\n",
        "    else:\n",
        "        return n * factorial(n - 1)\n",
        "factorial(1000)"
      ],
      "metadata": {
        "id": "ns-_oSDYdkJg",
        "colab": {
          "base_uri": "https://localhost:8080/",
          "height": 268
        },
        "outputId": "48dd1468-9348-44fd-ae17-c7c14f949847"
      },
      "execution_count": null,
      "outputs": [
        {
          "output_type": "error",
          "ename": "RecursionError",
          "evalue": "ignored",
          "traceback": [
            "\u001b[0;31m---------------------------------------------------------------------------\u001b[0m",
            "\u001b[0;31mRecursionError\u001b[0m                            Traceback (most recent call last)",
            "\u001b[0;32m<timed exec>\u001b[0m in \u001b[0;36m<module>\u001b[0;34m\u001b[0m\n",
            "\u001b[0;32m<timed exec>\u001b[0m in \u001b[0;36mfactorial\u001b[0;34m(n)\u001b[0m\n",
            "... last 1 frames repeated, from the frame below ...\n",
            "\u001b[0;32m<timed exec>\u001b[0m in \u001b[0;36mfactorial\u001b[0;34m(n)\u001b[0m\n",
            "\u001b[0;31mRecursionError\u001b[0m: maximum recursion depth exceeded in comparison"
          ]
        }
      ]
    },
    {
      "cell_type": "markdown",
      "source": [
        "In such cases, it's better to use an iterative approach to calculate the factorial."
      ],
      "metadata": {
        "id": "dPbOT6ZXw5Jb"
      }
    },
    {
      "cell_type": "code",
      "source": [
        "%%time\n",
        "def factorial(n):\n",
        "    result = 1\n",
        "    for i in range(1, n+1):\n",
        "        result *= i\n",
        "    return result\n",
        "\n",
        "fact=factorial(1000)\n",
        "\n",
        "print(\"Factorial is \",fact)\n",
        "\n"
      ],
      "metadata": {
        "colab": {
          "base_uri": "https://localhost:8080/"
        },
        "id": "wz_a3C4qu2LY",
        "outputId": "1fe6c9c6-7a6d-423c-e544-510eee1e6d00"
      },
      "execution_count": null,
      "outputs": [
        {
          "output_type": "stream",
          "name": "stdout",
          "text": [
            "Factorial is  402387260077093773543702433923003985719374864210714632543799910429938512398629020592044208486969404800479988610197196058631666872994808558901323829669944590997424504087073759918823627727188732519779505950995276120874975462497043601418278094646496291056393887437886487337119181045825783647849977012476632889835955735432513185323958463075557409114262417474349347553428646576611667797396668820291207379143853719588249808126867838374559731746136085379534524221586593201928090878297308431392844403281231558611036976801357304216168747609675871348312025478589320767169132448426236131412508780208000261683151027341827977704784635868170164365024153691398281264810213092761244896359928705114964975419909342221566832572080821333186116811553615836546984046708975602900950537616475847728421889679646244945160765353408198901385442487984959953319101723355556602139450399736280750137837615307127761926849034352625200015888535147331611702103968175921510907788019393178114194545257223865541461062892187960223838971476088506276862967146674697562911234082439208160153780889893964518263243671616762179168909779911903754031274622289988005195444414282012187361745992642956581746628302955570299024324153181617210465832036786906117260158783520751516284225540265170483304226143974286933061690897968482590125458327168226458066526769958652682272807075781391858178889652208164348344825993266043367660176999612831860788386150279465955131156552036093988180612138558600301435694527224206344631797460594682573103790084024432438465657245014402821885252470935190620929023136493273497565513958720559654228749774011413346962715422845862377387538230483865688976461927383814900140767310446640259899490222221765904339901886018566526485061799702356193897017860040811889729918311021171229845901641921068884387121855646124960798722908519296819372388642614839657382291123125024186649353143970137428531926649875337218940694281434118520158014123344828015051399694290153483077644569099073152433278288269864602789864321139083506217095002597389863554277196742822248757586765752344220207573630569498825087968928162753848863396909959826280956121450994871701244516461260379029309120889086942028510640182154399457156805941872748998094254742173582401063677404595741785160829230135358081840096996372524230560855903700624271243416909004153690105933983835777939410970027753472000000000000000000000000000000000000000000000000000000000000000000000000000000000000000000000000000000000000000000000000000000000000000000000000000000000000000000000000000000000000000000000000000000000000000000000000000000000000000000000000000000000\n",
            "CPU times: user 3.57 ms, sys: 0 ns, total: 3.57 ms\n",
            "Wall time: 11.5 ms\n"
          ]
        }
      ]
    },
    {
      "cell_type": "markdown",
      "source": [
        "**2. Non-recursive solutions: In some cases, there may be simpler and more efficient non-recursive solutions to a problem. For example, consider the following function that calculates the nth Fibonacci number using recursion:**"
      ],
      "metadata": {
        "id": "jRR81WSMPvT4"
      }
    },
    {
      "cell_type": "code",
      "source": [
        "#Recursive approach\n",
        "%%time\n",
        "def fib(n):\n",
        "    if n == 0 or n == 1:\n",
        "        return n\n",
        "    else:\n",
        "        return fib(n - 1) + fib(n - 2)\n",
        "\n",
        "fib(5)\n"
      ],
      "metadata": {
        "id": "Gmg4iZvAPw4w",
        "colab": {
          "base_uri": "https://localhost:8080/"
        },
        "outputId": "b8cf5530-49a4-438a-fc32-9eae3a40aad8"
      },
      "execution_count": null,
      "outputs": [
        {
          "output_type": "stream",
          "name": "stdout",
          "text": [
            "CPU times: user 31 µs, sys: 0 ns, total: 31 µs\n",
            "Wall time: 34.3 µs\n"
          ]
        },
        {
          "output_type": "execute_result",
          "data": {
            "text/plain": [
              "5"
            ]
          },
          "metadata": {},
          "execution_count": 4
        }
      ]
    },
    {
      "cell_type": "code",
      "source": [
        "#Iterative Approach\n",
        "%%time\n",
        "def fibonacci(n):\n",
        "    # Initialize variables\n",
        "    fib = [0, 1]\n",
        "\n",
        "    # Generate Fibonacci sequence up to n\n",
        "    for i in range(2, n+1):\n",
        "        fib.append(fib[i-1] + fib[i-2])\n",
        "\n",
        "    return fib\n",
        "\n",
        "fibonacci(5)\n",
        "\n",
        "\n"
      ],
      "metadata": {
        "colab": {
          "base_uri": "https://localhost:8080/"
        },
        "id": "4jVc9VnuwS22",
        "outputId": "ea57996e-e470-405a-a1d7-dabb75337957"
      },
      "execution_count": null,
      "outputs": [
        {
          "output_type": "stream",
          "name": "stdout",
          "text": [
            "CPU times: user 32 µs, sys: 3 µs, total: 35 µs\n",
            "Wall time: 38.9 µs\n"
          ]
        },
        {
          "output_type": "execute_result",
          "data": {
            "text/plain": [
              "[0, 1, 1, 2, 3, 5]"
            ]
          },
          "metadata": {},
          "execution_count": 5
        }
      ]
    },
    {
      "cell_type": "markdown",
      "source": [
        "![image.png](data:image/png;base64,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)"
      ],
      "metadata": {
        "id": "I34bjS4oc0kH"
      }
    },
    {
      "cell_type": "markdown",
      "source": [
        "## **Activity: Fill in the Blanks**"
      ],
      "metadata": {
        "id": "cwShrpKN1_7G"
      }
    },
    {
      "cell_type": "markdown",
      "source": [
        "**Fill in the blanks with the appropriate terms: recursion, iteration, or both.**\n",
        "\n",
        "For solving problems with a recursive mathematical or structural nature, such as ________, ________ is more suitable due to its ability to break down problems into smaller instances and provide elegant solutions.\n",
        "\n",
        "When dealing with repetitive tasks and a fixed number of steps, ________ is often the default choice due to its simplicity and straightforward nature.\n",
        "\n",
        "However, it's important to avoid ________ for problems with deep recursion or large data sets, as it can lead to stack overflow errors and excessive memory usage.\n",
        "\n",
        "In such cases, ________ is a better alternative, consuming less memory and efficiently handling repetitive operations."
      ],
      "metadata": {
        "id": "pMBEqGz_2DNw"
      }
    },
    {
      "cell_type": "markdown",
      "source": [
        "### **Answer:**"
      ],
      "metadata": {
        "id": "j-G8_wY22J-O"
      }
    },
    {
      "cell_type": "markdown",
      "source": [
        "For solving problems with a recursive mathematical or structural nature, such as tree traversal, recursion is more suitable due to its ability to break down problems into smaller instances and provide elegant solutions.\n",
        "\n",
        "When dealing with repetitive tasks and a fixed number of steps, iteration is often the default choice due to its simplicity and straightforward nature.\n",
        "\n",
        "However, it's important to avoid recursion for problems with deep recursion or large data sets, as it can lead to stack overflow errors and excessive memory usage.\n",
        "\n",
        "In such cases, iteration is a better alternative, consuming less memory and efficiently handling repetitive operations."
      ],
      "metadata": {
        "id": "2Yfgo3M62M6m"
      }
    },
    {
      "cell_type": "markdown",
      "source": [
        "###**Time and Space Complexity.**"
      ],
      "metadata": {
        "id": "jPmoAZzlgZuU"
      }
    },
    {
      "cell_type": "code",
      "source": [
        "def linear_search(arr, target):\n",
        "    for i in range(len(arr)):\n",
        "        if arr[i] == target:\n",
        "            return i\n",
        "    return -1\n",
        "\n",
        "# Example usage:\n",
        "arr = [4, 2, 7, 1, 9, 5]\n",
        "target_element = 7\n",
        "\n",
        "result = linear_search(arr, target_element)\n",
        "\n",
        "if result != -1:\n",
        "    print(f\"The target element {target_element} is found at index {result}.\")\n",
        "else:\n",
        "    print(\"The target element is not found in the array.\")\n"
      ],
      "metadata": {
        "colab": {
          "base_uri": "https://localhost:8080/"
        },
        "id": "iXMMKoGKdEMp",
        "outputId": "3277dca8-24ad-4fdb-f09d-453007f1605d"
      },
      "execution_count": null,
      "outputs": [
        {
          "output_type": "stream",
          "name": "stdout",
          "text": [
            "The target element 7 is found at index 2.\n"
          ]
        }
      ]
    },
    {
      "cell_type": "markdown",
      "source": [
        "The **time complexity of this code is O(n)**, where n is the length of the input array arr. In the worst case scenario, the function will have to search through all elements of the array, resulting in n recursive calls. At each recursive call, the function removes the first element of the array, so the length of the array decreases by 1. Since this operation takes O(n) time in the worst case, the time complexity of the entire function is O(n^2) in the worst case.\n",
        "\n",
        "\n",
        "The **space complexity of this code is O(n)**, because the maximum depth of the call stack is n due to the recursive nature of the function. At each recursive call, a new activation record is created on the call stack, which includes the arguments and the return address. Since the function is called n times, the maximum depth of the call stack is n, so the space complexity is O(n)."
      ],
      "metadata": {
        "id": "2evTo3VdfWDj"
      }
    },
    {
      "cell_type": "code",
      "source": [
        "def recursive_linear_search(arr, target, start_idx=0):\n",
        "    if start_idx >= len(arr):\n",
        "        return -1\n",
        "\n",
        "    if arr[start_idx] == target:\n",
        "        return start_idx\n",
        "\n",
        "    return recursive_linear_search(arr, target, start_idx + 1)\n",
        "\n",
        "# Example usage:\n",
        "arr = [4, 2, 7, 1, 9, 5]\n",
        "target_element = 7\n",
        "\n",
        "result = recursive_linear_search(arr, target_element)\n",
        "\n",
        "if result != -1:\n",
        "    print(f\"The target element {target_element} is found at index {result}.\")\n",
        "else:\n",
        "    print(\"The target element is not found in the array.\")\n"
      ],
      "metadata": {
        "colab": {
          "base_uri": "https://localhost:8080/"
        },
        "id": "XOJrvwTldtPE",
        "outputId": "aa6b6dae-a10a-4154-d53a-e420b44f9cff"
      },
      "execution_count": null,
      "outputs": [
        {
          "output_type": "stream",
          "name": "stdout",
          "text": [
            "The target element 7 is found at index 2.\n"
          ]
        }
      ]
    },
    {
      "cell_type": "markdown",
      "source": [
        "###**Time and Space Complexity:**\n"
      ],
      "metadata": {
        "id": "hVpN39ajgl1I"
      }
    },
    {
      "cell_type": "code",
      "source": [
        "def count_paths(row, col, m, n):\n",
        "    if row == m - 1 and col == n - 1:\n",
        "        return 1\n",
        "\n",
        "    if row >= m or col >= n:\n",
        "        return 0\n",
        "\n",
        "    right_path_count = count_paths(row, col + 1, m, n)\n",
        "    down_path_count = count_paths(row + 1, col, m, n)\n",
        "\n",
        "    return right_path_count + down_path_count\n",
        "\n",
        "# Example usage:\n",
        "m, n = 3, 3  # Dimensions of the grid\n",
        "total_paths = count_paths(0, 0, m, n)\n",
        "\n",
        "print(f\"The total number of paths in a {m}x{n} grid is: {total_paths}\")\n"
      ],
      "metadata": {
        "colab": {
          "base_uri": "https://localhost:8080/"
        },
        "id": "sqwmRxKpeosF",
        "outputId": "ed998856-eae0-4ef6-d4e8-baf6c4ad2839"
      },
      "execution_count": null,
      "outputs": [
        {
          "output_type": "stream",
          "name": "stdout",
          "text": [
            "The total number of paths in a 3x3 grid is: 6\n"
          ]
        }
      ]
    },
    {
      "cell_type": "markdown",
      "source": [
        "The time complexity of this code is O(2^(n+m)), where n and m are the dimensions of the input board. This is because in the worst case scenario, the function will have to explore all possible paths on the board, which is equal to the number of possible combinations of moving right or down from the starting cell to the ending cell. Since there are 2 choices (right or down) for each cell in the path, there are 2^(n+m) possible paths in total.\n",
        "\n",
        "The space complexity of this code is also O(n+m), where n and m are the dimensions of the input board. This is because the maximum depth of the call stack is equal to the maximum number of cells that can be included in a single path from the starting cell to the ending cell. Since the path can include at most n+m cells, the maximum depth of the call stack is n+m.\n",
        "\n",
        "\n",
        "\n"
      ],
      "metadata": {
        "id": "yOxGjQM7gtU7"
      }
    },
    {
      "cell_type": "markdown",
      "source": [
        "**Permutation And Unique Permuation Using Recursion**"
      ],
      "metadata": {
        "id": "y_xf4RsQLd_E"
      }
    },
    {
      "cell_type": "markdown",
      "source": [
        "Scenario: You have a list of integers, and you want to find all the possible permutations and unique permutations of that list.\n",
        "\n",
        "For example, let's say we have the list [1, 2, 3]. The permutations of this list would be:"
      ],
      "metadata": {
        "id": "IQEtgt1sHFNw"
      }
    },
    {
      "cell_type": "code",
      "source": [
        "[1, 2, 3]\n",
        "[1, 3, 2]\n",
        "[2, 1, 3]\n",
        "[2, 3, 1]\n",
        "[3, 1, 2]\n",
        "[3, 2, 1]\n"
      ],
      "metadata": {
        "id": "HwTOYny2zJoc",
        "colab": {
          "base_uri": "https://localhost:8080/"
        },
        "outputId": "bb710d6c-a6b8-4e51-ced7-2179484c739b"
      },
      "execution_count": null,
      "outputs": [
        {
          "output_type": "execute_result",
          "data": {
            "text/plain": [
              "[3, 2, 1]"
            ]
          },
          "metadata": {},
          "execution_count": 9
        }
      ]
    },
    {
      "cell_type": "markdown",
      "source": [
        "However, if we only want to find the unique permutations (i.e., remove duplicates), we would get:"
      ],
      "metadata": {
        "id": "zkYiOPazKlRE"
      }
    },
    {
      "cell_type": "code",
      "source": [
        "[1, 2, 3]\n",
        "[1, 3, 2]\n",
        "[2, 1, 3]\n",
        "[2, 3, 1]\n",
        "[3, 1, 2]\n",
        "[3, 2, 1]\n"
      ],
      "metadata": {
        "id": "nACJwTdiKmqP",
        "colab": {
          "base_uri": "https://localhost:8080/"
        },
        "outputId": "cee16b1f-53eb-450f-b24c-92f92d187f57"
      },
      "execution_count": null,
      "outputs": [
        {
          "output_type": "execute_result",
          "data": {
            "text/plain": [
              "[3, 2, 1]"
            ]
          },
          "metadata": {},
          "execution_count": 10
        }
      ]
    },
    {
      "cell_type": "markdown",
      "source": [
        "To solve this problem, we can use recursion to generate all the possible permutations, and then filter out the duplicates."
      ],
      "metadata": {
        "id": "bFw5Tn7iKp9A"
      }
    },
    {
      "cell_type": "markdown",
      "source": [
        "### **Solution**"
      ],
      "metadata": {
        "id": "p4ZejvdyHH7v"
      }
    },
    {
      "cell_type": "code",
      "source": [
        "def find_unique_permutations(objects, index, permutation, result):\n",
        "    # Base case: reached end of objects\n",
        "    if index == len(objects):\n",
        "        # Add the unique permutation to the set\n",
        "        result.add(tuple(permutation))\n",
        "        return\n",
        "\n",
        "    # Recursive case\n",
        "    for i in range(index, len(objects)):\n",
        "        # Swap the current object with the first object\n",
        "        objects[index], objects[i] = objects[i], objects[index]\n",
        "\n",
        "        # Recursively find permutations with the updated set of objects and permutation\n",
        "        find_unique_permutations(objects, index + 1, permutation + [objects[index]], result)\n",
        "\n",
        "        # Swap the objects back to the original order\n",
        "        objects[index], objects[i] = objects[i], objects[index]\n",
        "\n",
        "objects = [1, 2, 3]\n",
        "result = set()\n",
        "find_unique_permutations(objects, 0, [], result)\n",
        "\n",
        "## Output\n",
        "{(1, 2, 3), (1, 3, 2), (2, 1, 3), (2, 3, 1), (3, 2, 1), (3, 1, 2)}"
      ],
      "metadata": {
        "colab": {
          "base_uri": "https://localhost:8080/"
        },
        "id": "N-heCZ45KIkJ",
        "outputId": "b0b0a126-9596-40ca-f3fc-d90664bf513c"
      },
      "execution_count": null,
      "outputs": [
        {
          "output_type": "execute_result",
          "data": {
            "text/plain": [
              "{(1, 2, 3), (1, 3, 2), (2, 1, 3), (2, 3, 1), (3, 1, 2), (3, 2, 1)}"
            ]
          },
          "metadata": {},
          "execution_count": 11
        }
      ]
    },
    {
      "cell_type": "markdown",
      "source": [
        "We start by defining a permute function that takes in a list of integers and returns a list of all possible permutations. This function first checks if the length of the list is 1 (the base case), in which case it returns the list.\n",
        "\n",
        "If the length of the list is greater than 1, we loop through each element in the list and generate all the permutations of the remaining elements using recursion. We then append the current element to each of these permutations and add them to the result list.\n",
        "\n",
        "We then define a unique_permute function that calls permute to generate all possible permutations, and then filters out the duplicates using a simple loop."
      ],
      "metadata": {
        "id": "anCggZ62LORi"
      }
    },
    {
      "cell_type": "markdown",
      "source": [
        "###**Time and Space Complexity**"
      ],
      "metadata": {
        "id": "WQgyjtITkPJP"
      }
    },
    {
      "cell_type": "markdown",
      "source": [
        "The **time complexity of the function find_unique_permutations can be expressed as O(n!)**, where n is the number of objects in the input list. This is because the function generates all possible permutations of the input list using backtracking. Since there are n objects in the list and n choices for the first position, n-1 choices for the second position, and so on, the total number of permutations is n! (n factorial).\n",
        "\n",
        "The **space complexity of the function depends on the number of unique permutations generated. In the worst case, all permutations are unique, and the space complexity can be expressed as O(n!), which is the same as the time complexity. This is because each permutation is stored as a tuple in the result set.** The space required to store a single permutation is proportional to the number of objects in the list (n), and since there are n! permutations, the total space required is O(n!). However, in practice, many permutations may be duplicates, and the actual space required may be less than O(n!).\n",
        "\n",
        "\n",
        "\n"
      ],
      "metadata": {
        "id": "1f8j74HkkSRx"
      }
    },
    {
      "cell_type": "markdown",
      "source": [
        "## **Activity: Debug the Codes**"
      ],
      "metadata": {
        "id": "HvF73-Qt2bOy"
      }
    },
    {
      "cell_type": "markdown",
      "source": [
        "**Fill in the blanks with the correct code snippet to run the code.**"
      ],
      "metadata": {
        "id": "GqlfgcVk2eu-"
      }
    },
    {
      "cell_type": "code",
      "source": [
        "def factorial(n):\n",
        "    if __ == 0:\n",
        "        return 1\n",
        "    else:\n",
        "        return n * _______________\n",
        "\n",
        "# Example usage:\n",
        "result = factorial(5)\n",
        "print(result)\n"
      ],
      "metadata": {
        "id": "NvJ0sxaH2wJs"
      },
      "execution_count": null,
      "outputs": []
    },
    {
      "cell_type": "code",
      "source": [
        "def sum_of_natural_numbers(n):\n",
        "    if __ == 0:\n",
        "        return 0\n",
        "    else:\n",
        "        return n + ________________\n",
        "\n",
        "# Example usage:\n",
        "result = sum_of_natural_numbers(5)\n",
        "print(result)\n"
      ],
      "metadata": {
        "id": "YeVWakTI290D"
      },
      "execution_count": null,
      "outputs": []
    },
    {
      "cell_type": "markdown",
      "source": [
        "### **Answers:**"
      ],
      "metadata": {
        "id": "sS6pKTkH3DfE"
      }
    },
    {
      "cell_type": "code",
      "source": [
        "def factorial(n):\n",
        "    if n == 0:\n",
        "        return 1\n",
        "    else:\n",
        "        return n * factorial(n - 1)\n",
        "\n",
        "# Example usage:\n",
        "result = factorial(5)\n",
        "print(result)\n"
      ],
      "metadata": {
        "colab": {
          "base_uri": "https://localhost:8080/"
        },
        "id": "_VjOfO_j3Kd9",
        "outputId": "7e4fe50d-5ab7-4af5-dda4-c8f9f6de3ae6"
      },
      "execution_count": null,
      "outputs": [
        {
          "output_type": "stream",
          "name": "stdout",
          "text": [
            "120\n"
          ]
        }
      ]
    },
    {
      "cell_type": "code",
      "source": [
        "def sum_of_natural_numbers(n):\n",
        "    if n == 0:\n",
        "        return 0\n",
        "    else:\n",
        "        return n + sum_of_natural_numbers(n - 1)\n",
        "\n",
        "# Example usage:\n",
        "result = sum_of_natural_numbers(5)\n",
        "print(result)\n"
      ],
      "metadata": {
        "colab": {
          "base_uri": "https://localhost:8080/"
        },
        "id": "eGojFb0e3Le7",
        "outputId": "8f8243c1-f9d8-48eb-db9b-5551ba751bba"
      },
      "execution_count": null,
      "outputs": [
        {
          "output_type": "stream",
          "name": "stdout",
          "text": [
            "15\n"
          ]
        }
      ]
    },
    {
      "cell_type": "markdown",
      "source": [
        "## **🧘Relax🧘**\n",
        "\n",
        "Feeling overwhelmed?\n",
        "\n",
        "It's alright. These concepts are a bit complex afterall. Spend as much time and resource you need to get a grasp of the concept. Discuss with instructor and peers to clear your doubts.\n"
      ],
      "metadata": {
        "id": "XPoqhYaUnszN"
      }
    },
    {
      "cell_type": "markdown",
      "source": [
        "# **✅ Summary ✅**"
      ],
      "metadata": {
        "id": "diZ25lYKJMzB"
      }
    },
    {
      "cell_type": "markdown",
      "source": [
        "##**What did you Learn?**\n",
        "\n",
        "1. Display of Array with recursion and Reverse Display of Array with recursion: 🧮🔁 One can learn how to use recursion to display arrays and reverse arrays in Python.\n",
        "2. Find data in the array: 🔎📊 One can learn how to use recursion to search for data in arrays, helping to solve problems with large datasets.\n",
        "3. Board Path: 🎲🔍 One can learn how to recursively find all possible paths on a board of squares, starting from one corner and ending at the opposite corner. This can help them understand how to apply recursion to more complex problems.\n",
        "\n",
        "4. Unique Permutation: 🔡🆕 One can learn how to use recursion to generate unique permutations. This can help them understand how recursion can be used in more advanced algorithms.\n",
        "\n",
        "###**Best Practices/Tips**\n",
        "\n",
        "* Always have a clear understanding of the problem before starting to implement recursion. 🤔\n",
        "* Make sure to identify the base case and recursive case for each problem. 🧐\n",
        "* Always test the function with different input sizes and types to ensure correctness. 🧪\n",
        "* Use helper functions or global variables when necessary to avoid unnecessary function calls. 🤝\n",
        "* Be aware of potential stack overflow errors, especially for large inputs. 📈\n",
        "* Practice identifying and solving recursion problems step-by-step, starting with simple examples and building up to more complex ones. 📚\n",
        "* Consider using dynamic programming or memoization techniques when appropriate to optimize performance. 🚀\n",
        "* Read and understand the problem statement carefully to avoid mistakes and unnecessary complexity. 📖\n",
        "* Remember that recursion can be an elegant and powerful tool, but there are better solutions for some problems. 🤔\n",
        "Remember to enjoy the learning process and have fun exploring the fascinating world of recursion! 🎉\n",
        "\n",
        "###**Shortcomings**\n",
        "\n",
        "* 🐢 Slow Performance: Recursion can sometimes be slow and less efficient than iterative approaches. This is because recursion involves function calls and the creation of new stack frames, which can consume more memory and processing power.\n",
        "* 🐛 Stack Overflow: Recursion can sometimes cause stack overflow errors if the recursive function calls itself too many times, resulting in the stack reaching its limit and crashing the program.\n",
        "* 🤔 Complex Logic: Writing recursive functions can sometimes be more challenging than iterative approaches because the logic involved can be more complex and require a deeper understanding of the problem.\n",
        "* 📈 Difficulty in Debugging: Debugging recursive functions can be more difficult than iterative approaches because it can be harder to trace the flow of execution and understand which stack frames are responsible for which variables.\n",
        "* 🚧 Limited Recursion Depth: Depending on the programming language and implementation, recursion may have a limited depth or a maximum number of recursive calls that can be made. This can limit the scope and applicability of recursion in certain scenarios.\n"
      ],
      "metadata": {
        "id": "HnSpGk6kJRMV"
      }
    },
    {
      "cell_type": "markdown",
      "source": [
        "# **➕ Enhance your Knowledge ➕**"
      ],
      "metadata": {
        "id": "A_NWSjRA-8gz"
      }
    },
    {
      "cell_type": "markdown",
      "source": [
        "###**Mnemonic**\n",
        "\n",
        "Codegenetics is a software development company specializing in building complex algorithms using Python. One of their key areas of expertise is mastering Python recursion concepts.\n",
        "To get started, they teach their new recruits about the basics of recursion using emojis. First, they show how to display arrays and reverse arrays using recursion. 💻🧮🔁\n",
        "Next, they teach them how to find data in arrays using recursion. 🔍📊 This helps their recruits understand how recursion can be used to solve problems with large datasets.\n",
        "Moving on, they teach their recruits how to solve board path problems recursively. 🎲🔍 This helps them understand how recursion can be used to solve more complex problems involving graph traversal.\n",
        "Then, they teach them how to find subsequences of a given sequence and generate unique permutations using recursion. 🔡🆕 This helps their recruits understand how to apply recursion to more advanced algorithms.\n",
        "Finally, they teach them how to solve maze path problems using recursion, finding the shortest path from a starting point to an endpoint, and generating all possible paths from a starting point to an endpoint. 🌐🔃 This helps their recruits understand how to apply recursion to solve more complex graph traversal problems.\n",
        "After mastering these concepts, Codegenetics' recruits are ready to build complex algorithms using recursion in Python. 💪🐍\n",
        "\n",
        "### **Additional Reference Paper:**\n",
        "\n",
        "https://soamtripathy.hashnode.dev/mastering-recursion-in-python-a-comprehensive-guide\n",
        "\n"
      ],
      "metadata": {
        "id": "Zscz7ZmVk4ey"
      }
    },
    {
      "cell_type": "markdown",
      "source": [
        "## **Additional Practice Problems**"
      ],
      "metadata": {
        "id": "wan_QovgbBen"
      }
    },
    {
      "cell_type": "markdown",
      "source": [
        "###**Subsequences Using Recursion**"
      ],
      "metadata": {
        "id": "rPNVq9LnFSDn"
      }
    },
    {
      "cell_type": "markdown",
      "source": [
        "🔍 **Scenario**: Sarah is a computer science student who loves solving algorithmic problems. One day, her professor gave her a challenge to find the sum of all possible subsequences of a given sequence using recursion. Sarah is intrigued and decides to take on the challenge.\n",
        "\n",
        "❓ **Problem**: Write a recursive function to find the sum of all possible subsequences of a given sequence.\n",
        "\n",
        "**Subsequences**:\n",
        "\n",
        "In computer science, a subsequence is a sequence that can be derived from the original sequence by deleting some or none of the elements without changing the order of the remaining elements. For example, if we have a sequence [1, 2, 3], some of its subsequences are [1, 2], [2, 3], [1, 3], [1, 2, 3], [] (the empty sequence), and so on.\n",
        "\n",
        "In the given problem, we are asked to find the sum of all possible subsequences of a given sequence. The total number of possible subsequences of a sequence is 2^n, where n is the length of the sequence. Therefore, finding the sum of all possible subsequences of a sequence can be a challenging problem, and the recursive algorithm described above is one way to solve it using recursion."
      ],
      "metadata": {
        "id": "oNO-A3tlF4RK"
      }
    },
    {
      "cell_type": "code",
      "source": [
        "# Your code here"
      ],
      "metadata": {
        "id": "jolW1nn4GIGI"
      },
      "execution_count": null,
      "outputs": []
    },
    {
      "cell_type": "markdown",
      "source": [
        "#### **Solution**"
      ],
      "metadata": {
        "id": "q6HmYW18GKUd"
      }
    },
    {
      "cell_type": "code",
      "source": [
        "def subsequence_sum(seq):\n",
        "    if not seq:\n",
        "        return 0\n",
        "    else:\n",
        "        return subsequence_sum(seq[1:]) + seq[0] + subsequence_sum(seq[1:])\n"
      ],
      "metadata": {
        "id": "eAXfzQ9mGNL-"
      },
      "execution_count": null,
      "outputs": []
    },
    {
      "cell_type": "code",
      "source": [
        "subsequence_sum([])\n",
        "0\n",
        "\n",
        "subsequence_sum([1])\n",
        "1\n",
        "subsequence_sum([1, 2])\n",
        "9  # (1) + (2) + (1, 2) + (2) + (1, 2) + (1) + (1, 2) + (2) = 9\n",
        "\n",
        "subsequence_sum([1])\n",
        "40 # (1) + (2) + (1, 2) + (3) + (1, 3) + (2, 3) + (1, 2, 3) + (3) + (1, 3) + (2, 3) + (1, 2, 3) + (2) + (1, 2) + (2, 3) + (1, 2, 3) + (3) + (1, 3) + (1, 2, 3) + (2, 3) + (1, 2, 3) + (1) + (1, 2) + (1, 3) + (1, 2, 3) = 40\n"
      ],
      "metadata": {
        "colab": {
          "base_uri": "https://localhost:8080/"
        },
        "id": "-U9c-d1kBqml",
        "outputId": "a535ddfb-4d38-477d-8df5-132d5203bddb"
      },
      "execution_count": null,
      "outputs": [
        {
          "output_type": "execute_result",
          "data": {
            "text/plain": [
              "40"
            ]
          },
          "metadata": {},
          "execution_count": 13
        }
      ]
    },
    {
      "cell_type": "code",
      "source": [
        "subsequence_sum([1,2])"
      ],
      "metadata": {
        "colab": {
          "base_uri": "https://localhost:8080/"
        },
        "id": "-gxP5pgjEEsc",
        "outputId": "b900711f-3c34-4e43-ef4e-e91d9ccf0309"
      },
      "execution_count": null,
      "outputs": [
        {
          "output_type": "execute_result",
          "data": {
            "text/plain": [
              "5"
            ]
          },
          "metadata": {},
          "execution_count": 17
        }
      ]
    },
    {
      "cell_type": "markdown",
      "source": [
        "### **Maze Path Using Recursion**"
      ],
      "metadata": {
        "id": "zMA_bUjwH5Rj"
      }
    },
    {
      "cell_type": "markdown",
      "source": [
        "🌄 To find all possible paths through a maze using recursion, you can define a function that takes the maze, the current position, and a current path as input. The base case is when the current position is at the end of the maze, in which case you 👀 print the current path and 🔙 return. In the recursive case, you can check if it's possible to move right, down, left, or up from the current position. If a move is possible, update the current position and path and call the recursive function again. Once the recursive call returns, undo the move so you can explore other possible paths. To find all possible paths, you can call the recursive function with the starting position and an empty path. To find the shortest or longest path, you can keep track of the length of each path and 🔙 return the shortest or longest one found. To find multiple paths that satisfy a certain condition, such as avoiding certain cells or visiting specific cells, you can modify the recursive function accordingly."
      ],
      "metadata": {
        "id": "nfNNlrN8IYR-"
      }
    },
    {
      "cell_type": "code",
      "source": [
        "# Your Code here"
      ],
      "metadata": {
        "id": "idqas0n7IZb9"
      },
      "execution_count": null,
      "outputs": []
    },
    {
      "cell_type": "markdown",
      "source": [
        "#### **Solution**"
      ],
      "metadata": {
        "id": "TozK4eRJIbzT"
      }
    },
    {
      "cell_type": "code",
      "source": [
        "import sys\n",
        "\n",
        "def find_paths(maze, position, path, depth):\n",
        "    x, y = position\n",
        "    # Base case: if depth limit is reached or the current position is at the end of the maze, print the path\n",
        "    if depth == 0 or (x, y) == (len(maze)-1, len(maze[0])-1):\n",
        "        print(path)\n",
        "        return\n",
        "    # Check if it's possible to move right, down, left, or up\n",
        "    if y+1 < len(maze[x]) and maze[x][y+1] != 'X':\n",
        "        find_paths(maze, (x, y+1), path + 'R', depth-1)\n",
        "    if x+1 < len(maze) and maze[x+1][y] != 'X':\n",
        "        find_paths(maze, (x+1, y), path + 'D', depth-1)\n",
        "    if y-1 >= 0 and maze[x][y-1] != 'X':\n",
        "        find_paths(maze, (x, y-1), path + 'L', depth-1)\n",
        "    if x-1 >= 0 and maze[x-1][y] != 'X':\n",
        "        find_paths(maze, (x-1, y), path + 'U', depth-1)\n",
        "\n",
        "# Set a depth limit of 10 and call the function with the maze and starting position\n",
        "sys.setrecursionlimit(10000)\n",
        "maze = [['S', ' ', 'X'], [' ', ' ', 'X'], ['X', ' ', 'E']]\n",
        "find_paths(maze, (0, 0), '', 10)\n"
      ],
      "metadata": {
        "colab": {
          "base_uri": "https://localhost:8080/"
        },
        "id": "F9_hhOTXJ__F",
        "outputId": "28c8ff62-ae06-46df-c445-fd0039dee4db"
      },
      "execution_count": null,
      "outputs": [
        {
          "output_type": "stream",
          "name": "stdout",
          "text": [
            "RDDR\n",
            "RDDUDR\n",
            "RDDUDUDR\n",
            "RDDUDUDUDR\n",
            "RDDUDUDUDU\n",
            "RDDUDUDULR\n",
            "RDDUDUDULU\n",
            "RDDUDUDUUD\n",
            "RDDUDUDUUL\n",
            "RDDUDULRDR\n",
            "RDDUDULRDU\n",
            "RDDUDULRLR\n",
            "RDDUDULRLU\n",
            "RDDUDULRUD\n",
            "RDDUDULRUL\n",
            "RDDUDULURD\n",
            "RDDUDULURL\n",
            "RDDUDULUDR\n",
            "RDDUDULUDU\n",
            "RDDUDUUDDR\n",
            "RDDUDUUDDU\n",
            "RDDUDUUDLR\n",
            "RDDUDUUDLU\n",
            "RDDUDUUDUD\n",
            "RDDUDUUDUL\n",
            "RDDUDUULRD\n",
            "RDDUDUULRL\n",
            "RDDUDUULDR\n",
            "RDDUDUULDU\n",
            "RDDULRDR\n",
            "RDDULRDUDR\n",
            "RDDULRDUDU\n",
            "RDDULRDULR\n",
            "RDDULRDULU\n",
            "RDDULRDUUD\n",
            "RDDULRDUUL\n",
            "RDDULRLRDR\n",
            "RDDULRLRDU\n",
            "RDDULRLRLR\n",
            "RDDULRLRLU\n",
            "RDDULRLRUD\n",
            "RDDULRLRUL\n",
            "RDDULRLURD\n",
            "RDDULRLURL\n",
            "RDDULRLUDR\n",
            "RDDULRLUDU\n",
            "RDDULRUDDR\n",
            "RDDULRUDDU\n",
            "RDDULRUDLR\n",
            "RDDULRUDLU\n",
            "RDDULRUDUD\n",
            "RDDULRUDUL\n",
            "RDDULRULRD\n",
            "RDDULRULRL\n",
            "RDDULRULDR\n",
            "RDDULRULDU\n",
            "RDDULURDDR\n",
            "RDDULURDDU\n",
            "RDDULURDLR\n",
            "RDDULURDLU\n",
            "RDDULURDUD\n",
            "RDDULURDUL\n",
            "RDDULURLRD\n",
            "RDDULURLRL\n",
            "RDDULURLDR\n",
            "RDDULURLDU\n",
            "RDDULUDRDR\n",
            "RDDULUDRDU\n",
            "RDDULUDRLR\n",
            "RDDULUDRLU\n",
            "RDDULUDRUD\n",
            "RDDULUDRUL\n",
            "RDDULUDURD\n",
            "RDDULUDURL\n",
            "RDDULUDUDR\n",
            "RDDULUDUDU\n",
            "RDDUUDDR\n",
            "RDDUUDDUDR\n",
            "RDDUUDDUDU\n",
            "RDDUUDDULR\n",
            "RDDUUDDULU\n",
            "RDDUUDDUUD\n",
            "RDDUUDDUUL\n",
            "RDDUUDLRDR\n",
            "RDDUUDLRDU\n",
            "RDDUUDLRLR\n",
            "RDDUUDLRLU\n",
            "RDDUUDLRUD\n",
            "RDDUUDLRUL\n",
            "RDDUUDLURD\n",
            "RDDUUDLURL\n",
            "RDDUUDLUDR\n",
            "RDDUUDLUDU\n",
            "RDDUUDUDDR\n",
            "RDDUUDUDDU\n",
            "RDDUUDUDLR\n",
            "RDDUUDUDLU\n",
            "RDDUUDUDUD\n",
            "RDDUUDUDUL\n",
            "RDDUUDULRD\n",
            "RDDUUDULRL\n",
            "RDDUUDULDR\n",
            "RDDUUDULDU\n",
            "RDDUULRDDR\n",
            "RDDUULRDDU\n",
            "RDDUULRDLR\n",
            "RDDUULRDLU\n",
            "RDDUULRDUD\n",
            "RDDUULRDUL\n",
            "RDDUULRLRD\n",
            "RDDUULRLRL\n",
            "RDDUULRLDR\n",
            "RDDUULRLDU\n",
            "RDDUULDRDR\n",
            "RDDUULDRDU\n",
            "RDDUULDRLR\n",
            "RDDUULDRLU\n",
            "RDDUULDRUD\n",
            "RDDUULDRUL\n",
            "RDDUULDURD\n",
            "RDDUULDURL\n",
            "RDDUULDUDR\n",
            "RDDUULDUDU\n",
            "RDLRDR\n",
            "RDLRDUDR\n",
            "RDLRDUDUDR\n",
            "RDLRDUDUDU\n",
            "RDLRDUDULR\n",
            "RDLRDUDULU\n",
            "RDLRDUDUUD\n",
            "RDLRDUDUUL\n",
            "RDLRDULRDR\n",
            "RDLRDULRDU\n",
            "RDLRDULRLR\n",
            "RDLRDULRLU\n",
            "RDLRDULRUD\n",
            "RDLRDULRUL\n",
            "RDLRDULURD\n",
            "RDLRDULURL\n",
            "RDLRDULUDR\n",
            "RDLRDULUDU\n",
            "RDLRDUUDDR\n",
            "RDLRDUUDDU\n",
            "RDLRDUUDLR\n",
            "RDLRDUUDLU\n",
            "RDLRDUUDUD\n",
            "RDLRDUUDUL\n",
            "RDLRDUULRD\n",
            "RDLRDUULRL\n",
            "RDLRDUULDR\n",
            "RDLRDUULDU\n",
            "RDLRLRDR\n",
            "RDLRLRDUDR\n",
            "RDLRLRDUDU\n",
            "RDLRLRDULR\n",
            "RDLRLRDULU\n",
            "RDLRLRDUUD\n",
            "RDLRLRDUUL\n",
            "RDLRLRLRDR\n",
            "RDLRLRLRDU\n",
            "RDLRLRLRLR\n",
            "RDLRLRLRLU\n",
            "RDLRLRLRUD\n",
            "RDLRLRLRUL\n",
            "RDLRLRLURD\n",
            "RDLRLRLURL\n",
            "RDLRLRLUDR\n",
            "RDLRLRLUDU\n",
            "RDLRLRUDDR\n",
            "RDLRLRUDDU\n",
            "RDLRLRUDLR\n",
            "RDLRLRUDLU\n",
            "RDLRLRUDUD\n",
            "RDLRLRUDUL\n",
            "RDLRLRULRD\n",
            "RDLRLRULRL\n",
            "RDLRLRULDR\n",
            "RDLRLRULDU\n",
            "RDLRLURDDR\n",
            "RDLRLURDDU\n",
            "RDLRLURDLR\n",
            "RDLRLURDLU\n",
            "RDLRLURDUD\n",
            "RDLRLURDUL\n",
            "RDLRLURLRD\n",
            "RDLRLURLRL\n",
            "RDLRLURLDR\n",
            "RDLRLURLDU\n",
            "RDLRLUDRDR\n",
            "RDLRLUDRDU\n",
            "RDLRLUDRLR\n",
            "RDLRLUDRLU\n",
            "RDLRLUDRUD\n",
            "RDLRLUDRUL\n",
            "RDLRLUDURD\n",
            "RDLRLUDURL\n",
            "RDLRLUDUDR\n",
            "RDLRLUDUDU\n",
            "RDLRUDDR\n",
            "RDLRUDDUDR\n",
            "RDLRUDDUDU\n",
            "RDLRUDDULR\n",
            "RDLRUDDULU\n",
            "RDLRUDDUUD\n",
            "RDLRUDDUUL\n",
            "RDLRUDLRDR\n",
            "RDLRUDLRDU\n",
            "RDLRUDLRLR\n",
            "RDLRUDLRLU\n",
            "RDLRUDLRUD\n",
            "RDLRUDLRUL\n",
            "RDLRUDLURD\n",
            "RDLRUDLURL\n",
            "RDLRUDLUDR\n",
            "RDLRUDLUDU\n",
            "RDLRUDUDDR\n",
            "RDLRUDUDDU\n",
            "RDLRUDUDLR\n",
            "RDLRUDUDLU\n",
            "RDLRUDUDUD\n",
            "RDLRUDUDUL\n",
            "RDLRUDULRD\n",
            "RDLRUDULRL\n",
            "RDLRUDULDR\n",
            "RDLRUDULDU\n",
            "RDLRULRDDR\n",
            "RDLRULRDDU\n",
            "RDLRULRDLR\n",
            "RDLRULRDLU\n",
            "RDLRULRDUD\n",
            "RDLRULRDUL\n",
            "RDLRULRLRD\n",
            "RDLRULRLRL\n",
            "RDLRULRLDR\n",
            "RDLRULRLDU\n",
            "RDLRULDRDR\n",
            "RDLRULDRDU\n",
            "RDLRULDRLR\n",
            "RDLRULDRLU\n",
            "RDLRULDRUD\n",
            "RDLRULDRUL\n",
            "RDLRULDURD\n",
            "RDLRULDURL\n",
            "RDLRULDUDR\n",
            "RDLRULDUDU\n",
            "RDLURDDR\n",
            "RDLURDDUDR\n",
            "RDLURDDUDU\n",
            "RDLURDDULR\n",
            "RDLURDDULU\n",
            "RDLURDDUUD\n",
            "RDLURDDUUL\n",
            "RDLURDLRDR\n",
            "RDLURDLRDU\n",
            "RDLURDLRLR\n",
            "RDLURDLRLU\n",
            "RDLURDLRUD\n",
            "RDLURDLRUL\n",
            "RDLURDLURD\n",
            "RDLURDLURL\n",
            "RDLURDLUDR\n",
            "RDLURDLUDU\n",
            "RDLURDUDDR\n",
            "RDLURDUDDU\n",
            "RDLURDUDLR\n",
            "RDLURDUDLU\n",
            "RDLURDUDUD\n",
            "RDLURDUDUL\n",
            "RDLURDULRD\n",
            "RDLURDULRL\n",
            "RDLURDULDR\n",
            "RDLURDULDU\n",
            "RDLURLRDDR\n",
            "RDLURLRDDU\n",
            "RDLURLRDLR\n",
            "RDLURLRDLU\n",
            "RDLURLRDUD\n",
            "RDLURLRDUL\n",
            "RDLURLRLRD\n",
            "RDLURLRLRL\n",
            "RDLURLRLDR\n",
            "RDLURLRLDU\n",
            "RDLURLDRDR\n",
            "RDLURLDRDU\n",
            "RDLURLDRLR\n",
            "RDLURLDRLU\n",
            "RDLURLDRUD\n",
            "RDLURLDRUL\n",
            "RDLURLDURD\n",
            "RDLURLDURL\n",
            "RDLURLDUDR\n",
            "RDLURLDUDU\n",
            "RDLUDRDR\n",
            "RDLUDRDUDR\n",
            "RDLUDRDUDU\n",
            "RDLUDRDULR\n",
            "RDLUDRDULU\n",
            "RDLUDRDUUD\n",
            "RDLUDRDUUL\n",
            "RDLUDRLRDR\n",
            "RDLUDRLRDU\n",
            "RDLUDRLRLR\n",
            "RDLUDRLRLU\n",
            "RDLUDRLRUD\n",
            "RDLUDRLRUL\n",
            "RDLUDRLURD\n",
            "RDLUDRLURL\n",
            "RDLUDRLUDR\n",
            "RDLUDRLUDU\n",
            "RDLUDRUDDR\n",
            "RDLUDRUDDU\n",
            "RDLUDRUDLR\n",
            "RDLUDRUDLU\n",
            "RDLUDRUDUD\n",
            "RDLUDRUDUL\n",
            "RDLUDRULRD\n",
            "RDLUDRULRL\n",
            "RDLUDRULDR\n",
            "RDLUDRULDU\n",
            "RDLUDURDDR\n",
            "RDLUDURDDU\n",
            "RDLUDURDLR\n",
            "RDLUDURDLU\n",
            "RDLUDURDUD\n",
            "RDLUDURDUL\n",
            "RDLUDURLRD\n",
            "RDLUDURLRL\n",
            "RDLUDURLDR\n",
            "RDLUDURLDU\n",
            "RDLUDUDRDR\n",
            "RDLUDUDRDU\n",
            "RDLUDUDRLR\n",
            "RDLUDUDRLU\n",
            "RDLUDUDRUD\n",
            "RDLUDUDRUL\n",
            "RDLUDUDURD\n",
            "RDLUDUDURL\n",
            "RDLUDUDUDR\n",
            "RDLUDUDUDU\n",
            "RDUDDR\n",
            "RDUDDUDR\n",
            "RDUDDUDUDR\n",
            "RDUDDUDUDU\n",
            "RDUDDUDULR\n",
            "RDUDDUDULU\n",
            "RDUDDUDUUD\n",
            "RDUDDUDUUL\n",
            "RDUDDULRDR\n",
            "RDUDDULRDU\n",
            "RDUDDULRLR\n",
            "RDUDDULRLU\n",
            "RDUDDULRUD\n",
            "RDUDDULRUL\n",
            "RDUDDULURD\n",
            "RDUDDULURL\n",
            "RDUDDULUDR\n",
            "RDUDDULUDU\n",
            "RDUDDUUDDR\n",
            "RDUDDUUDDU\n",
            "RDUDDUUDLR\n",
            "RDUDDUUDLU\n",
            "RDUDDUUDUD\n",
            "RDUDDUUDUL\n",
            "RDUDDUULRD\n",
            "RDUDDUULRL\n",
            "RDUDDUULDR\n",
            "RDUDDUULDU\n",
            "RDUDLRDR\n",
            "RDUDLRDUDR\n",
            "RDUDLRDUDU\n",
            "RDUDLRDULR\n",
            "RDUDLRDULU\n",
            "RDUDLRDUUD\n",
            "RDUDLRDUUL\n",
            "RDUDLRLRDR\n",
            "RDUDLRLRDU\n",
            "RDUDLRLRLR\n",
            "RDUDLRLRLU\n",
            "RDUDLRLRUD\n",
            "RDUDLRLRUL\n",
            "RDUDLRLURD\n",
            "RDUDLRLURL\n",
            "RDUDLRLUDR\n",
            "RDUDLRLUDU\n",
            "RDUDLRUDDR\n",
            "RDUDLRUDDU\n",
            "RDUDLRUDLR\n",
            "RDUDLRUDLU\n",
            "RDUDLRUDUD\n",
            "RDUDLRUDUL\n",
            "RDUDLRULRD\n",
            "RDUDLRULRL\n",
            "RDUDLRULDR\n",
            "RDUDLRULDU\n",
            "RDUDLURDDR\n",
            "RDUDLURDDU\n",
            "RDUDLURDLR\n",
            "RDUDLURDLU\n",
            "RDUDLURDUD\n",
            "RDUDLURDUL\n",
            "RDUDLURLRD\n",
            "RDUDLURLRL\n",
            "RDUDLURLDR\n",
            "RDUDLURLDU\n",
            "RDUDLUDRDR\n",
            "RDUDLUDRDU\n",
            "RDUDLUDRLR\n",
            "RDUDLUDRLU\n",
            "RDUDLUDRUD\n",
            "RDUDLUDRUL\n",
            "RDUDLUDURD\n",
            "RDUDLUDURL\n",
            "RDUDLUDUDR\n",
            "RDUDLUDUDU\n",
            "RDUDUDDR\n",
            "RDUDUDDUDR\n",
            "RDUDUDDUDU\n",
            "RDUDUDDULR\n",
            "RDUDUDDULU\n",
            "RDUDUDDUUD\n",
            "RDUDUDDUUL\n",
            "RDUDUDLRDR\n",
            "RDUDUDLRDU\n",
            "RDUDUDLRLR\n",
            "RDUDUDLRLU\n",
            "RDUDUDLRUD\n",
            "RDUDUDLRUL\n",
            "RDUDUDLURD\n",
            "RDUDUDLURL\n",
            "RDUDUDLUDR\n",
            "RDUDUDLUDU\n",
            "RDUDUDUDDR\n",
            "RDUDUDUDDU\n",
            "RDUDUDUDLR\n",
            "RDUDUDUDLU\n",
            "RDUDUDUDUD\n",
            "RDUDUDUDUL\n",
            "RDUDUDULRD\n",
            "RDUDUDULRL\n",
            "RDUDUDULDR\n",
            "RDUDUDULDU\n",
            "RDUDULRDDR\n",
            "RDUDULRDDU\n",
            "RDUDULRDLR\n",
            "RDUDULRDLU\n",
            "RDUDULRDUD\n",
            "RDUDULRDUL\n",
            "RDUDULRLRD\n",
            "RDUDULRLRL\n",
            "RDUDULRLDR\n",
            "RDUDULRLDU\n",
            "RDUDULDRDR\n",
            "RDUDULDRDU\n",
            "RDUDULDRLR\n",
            "RDUDULDRLU\n",
            "RDUDULDRUD\n",
            "RDUDULDRUL\n",
            "RDUDULDURD\n",
            "RDUDULDURL\n",
            "RDUDULDUDR\n",
            "RDUDULDUDU\n",
            "RDULRDDR\n",
            "RDULRDDUDR\n",
            "RDULRDDUDU\n",
            "RDULRDDULR\n",
            "RDULRDDULU\n",
            "RDULRDDUUD\n",
            "RDULRDDUUL\n",
            "RDULRDLRDR\n",
            "RDULRDLRDU\n",
            "RDULRDLRLR\n",
            "RDULRDLRLU\n",
            "RDULRDLRUD\n",
            "RDULRDLRUL\n",
            "RDULRDLURD\n",
            "RDULRDLURL\n",
            "RDULRDLUDR\n",
            "RDULRDLUDU\n",
            "RDULRDUDDR\n",
            "RDULRDUDDU\n",
            "RDULRDUDLR\n",
            "RDULRDUDLU\n",
            "RDULRDUDUD\n",
            "RDULRDUDUL\n",
            "RDULRDULRD\n",
            "RDULRDULRL\n",
            "RDULRDULDR\n",
            "RDULRDULDU\n",
            "RDULRLRDDR\n",
            "RDULRLRDDU\n",
            "RDULRLRDLR\n",
            "RDULRLRDLU\n",
            "RDULRLRDUD\n",
            "RDULRLRDUL\n",
            "RDULRLRLRD\n",
            "RDULRLRLRL\n",
            "RDULRLRLDR\n",
            "RDULRLRLDU\n",
            "RDULRLDRDR\n",
            "RDULRLDRDU\n",
            "RDULRLDRLR\n",
            "RDULRLDRLU\n",
            "RDULRLDRUD\n",
            "RDULRLDRUL\n",
            "RDULRLDURD\n",
            "RDULRLDURL\n",
            "RDULRLDUDR\n",
            "RDULRLDUDU\n",
            "RDULDRDR\n",
            "RDULDRDUDR\n",
            "RDULDRDUDU\n",
            "RDULDRDULR\n",
            "RDULDRDULU\n",
            "RDULDRDUUD\n",
            "RDULDRDUUL\n",
            "RDULDRLRDR\n",
            "RDULDRLRDU\n",
            "RDULDRLRLR\n",
            "RDULDRLRLU\n",
            "RDULDRLRUD\n",
            "RDULDRLRUL\n",
            "RDULDRLURD\n",
            "RDULDRLURL\n",
            "RDULDRLUDR\n",
            "RDULDRLUDU\n",
            "RDULDRUDDR\n",
            "RDULDRUDDU\n",
            "RDULDRUDLR\n",
            "RDULDRUDLU\n",
            "RDULDRUDUD\n",
            "RDULDRUDUL\n",
            "RDULDRULRD\n",
            "RDULDRULRL\n",
            "RDULDRULDR\n",
            "RDULDRULDU\n",
            "RDULDURDDR\n",
            "RDULDURDDU\n",
            "RDULDURDLR\n",
            "RDULDURDLU\n",
            "RDULDURDUD\n",
            "RDULDURDUL\n",
            "RDULDURLRD\n",
            "RDULDURLRL\n",
            "RDULDURLDR\n",
            "RDULDURLDU\n",
            "RDULDUDRDR\n",
            "RDULDUDRDU\n",
            "RDULDUDRLR\n",
            "RDULDUDRLU\n",
            "RDULDUDRUD\n",
            "RDULDUDRUL\n",
            "RDULDUDURD\n",
            "RDULDUDURL\n",
            "RDULDUDUDR\n",
            "RDULDUDUDU\n",
            "RLRDDR\n",
            "RLRDDUDR\n",
            "RLRDDUDUDR\n",
            "RLRDDUDUDU\n",
            "RLRDDUDULR\n",
            "RLRDDUDULU\n",
            "RLRDDUDUUD\n",
            "RLRDDUDUUL\n",
            "RLRDDULRDR\n",
            "RLRDDULRDU\n",
            "RLRDDULRLR\n",
            "RLRDDULRLU\n",
            "RLRDDULRUD\n",
            "RLRDDULRUL\n",
            "RLRDDULURD\n",
            "RLRDDULURL\n",
            "RLRDDULUDR\n",
            "RLRDDULUDU\n",
            "RLRDDUUDDR\n",
            "RLRDDUUDDU\n",
            "RLRDDUUDLR\n",
            "RLRDDUUDLU\n",
            "RLRDDUUDUD\n",
            "RLRDDUUDUL\n",
            "RLRDDUULRD\n",
            "RLRDDUULRL\n",
            "RLRDDUULDR\n",
            "RLRDDUULDU\n",
            "RLRDLRDR\n",
            "RLRDLRDUDR\n",
            "RLRDLRDUDU\n",
            "RLRDLRDULR\n",
            "RLRDLRDULU\n",
            "RLRDLRDUUD\n",
            "RLRDLRDUUL\n",
            "RLRDLRLRDR\n",
            "RLRDLRLRDU\n",
            "RLRDLRLRLR\n",
            "RLRDLRLRLU\n",
            "RLRDLRLRUD\n",
            "RLRDLRLRUL\n",
            "RLRDLRLURD\n",
            "RLRDLRLURL\n",
            "RLRDLRLUDR\n",
            "RLRDLRLUDU\n",
            "RLRDLRUDDR\n",
            "RLRDLRUDDU\n",
            "RLRDLRUDLR\n",
            "RLRDLRUDLU\n",
            "RLRDLRUDUD\n",
            "RLRDLRUDUL\n",
            "RLRDLRULRD\n",
            "RLRDLRULRL\n",
            "RLRDLRULDR\n",
            "RLRDLRULDU\n",
            "RLRDLURDDR\n",
            "RLRDLURDDU\n",
            "RLRDLURDLR\n",
            "RLRDLURDLU\n",
            "RLRDLURDUD\n",
            "RLRDLURDUL\n",
            "RLRDLURLRD\n",
            "RLRDLURLRL\n",
            "RLRDLURLDR\n",
            "RLRDLURLDU\n",
            "RLRDLUDRDR\n",
            "RLRDLUDRDU\n",
            "RLRDLUDRLR\n",
            "RLRDLUDRLU\n",
            "RLRDLUDRUD\n",
            "RLRDLUDRUL\n",
            "RLRDLUDURD\n",
            "RLRDLUDURL\n",
            "RLRDLUDUDR\n",
            "RLRDLUDUDU\n",
            "RLRDUDDR\n",
            "RLRDUDDUDR\n",
            "RLRDUDDUDU\n",
            "RLRDUDDULR\n",
            "RLRDUDDULU\n",
            "RLRDUDDUUD\n",
            "RLRDUDDUUL\n",
            "RLRDUDLRDR\n",
            "RLRDUDLRDU\n",
            "RLRDUDLRLR\n",
            "RLRDUDLRLU\n",
            "RLRDUDLRUD\n",
            "RLRDUDLRUL\n",
            "RLRDUDLURD\n",
            "RLRDUDLURL\n",
            "RLRDUDLUDR\n",
            "RLRDUDLUDU\n",
            "RLRDUDUDDR\n",
            "RLRDUDUDDU\n",
            "RLRDUDUDLR\n",
            "RLRDUDUDLU\n",
            "RLRDUDUDUD\n",
            "RLRDUDUDUL\n",
            "RLRDUDULRD\n",
            "RLRDUDULRL\n",
            "RLRDUDULDR\n",
            "RLRDUDULDU\n",
            "RLRDULRDDR\n",
            "RLRDULRDDU\n",
            "RLRDULRDLR\n",
            "RLRDULRDLU\n",
            "RLRDULRDUD\n",
            "RLRDULRDUL\n",
            "RLRDULRLRD\n",
            "RLRDULRLRL\n",
            "RLRDULRLDR\n",
            "RLRDULRLDU\n",
            "RLRDULDRDR\n",
            "RLRDULDRDU\n",
            "RLRDULDRLR\n",
            "RLRDULDRLU\n",
            "RLRDULDRUD\n",
            "RLRDULDRUL\n",
            "RLRDULDURD\n",
            "RLRDULDURL\n",
            "RLRDULDUDR\n",
            "RLRDULDUDU\n",
            "RLRLRDDR\n",
            "RLRLRDDUDR\n",
            "RLRLRDDUDU\n",
            "RLRLRDDULR\n",
            "RLRLRDDULU\n",
            "RLRLRDDUUD\n",
            "RLRLRDDUUL\n",
            "RLRLRDLRDR\n",
            "RLRLRDLRDU\n",
            "RLRLRDLRLR\n",
            "RLRLRDLRLU\n",
            "RLRLRDLRUD\n",
            "RLRLRDLRUL\n",
            "RLRLRDLURD\n",
            "RLRLRDLURL\n",
            "RLRLRDLUDR\n",
            "RLRLRDLUDU\n",
            "RLRLRDUDDR\n",
            "RLRLRDUDDU\n",
            "RLRLRDUDLR\n",
            "RLRLRDUDLU\n",
            "RLRLRDUDUD\n",
            "RLRLRDUDUL\n",
            "RLRLRDULRD\n",
            "RLRLRDULRL\n",
            "RLRLRDULDR\n",
            "RLRLRDULDU\n",
            "RLRLRLRDDR\n",
            "RLRLRLRDDU\n",
            "RLRLRLRDLR\n",
            "RLRLRLRDLU\n",
            "RLRLRLRDUD\n",
            "RLRLRLRDUL\n",
            "RLRLRLRLRD\n",
            "RLRLRLRLRL\n",
            "RLRLRLRLDR\n",
            "RLRLRLRLDU\n",
            "RLRLRLDRDR\n",
            "RLRLRLDRDU\n",
            "RLRLRLDRLR\n",
            "RLRLRLDRLU\n",
            "RLRLRLDRUD\n",
            "RLRLRLDRUL\n",
            "RLRLRLDURD\n",
            "RLRLRLDURL\n",
            "RLRLRLDUDR\n",
            "RLRLRLDUDU\n",
            "RLRLDRDR\n",
            "RLRLDRDUDR\n",
            "RLRLDRDUDU\n",
            "RLRLDRDULR\n",
            "RLRLDRDULU\n",
            "RLRLDRDUUD\n",
            "RLRLDRDUUL\n",
            "RLRLDRLRDR\n",
            "RLRLDRLRDU\n",
            "RLRLDRLRLR\n",
            "RLRLDRLRLU\n",
            "RLRLDRLRUD\n",
            "RLRLDRLRUL\n",
            "RLRLDRLURD\n",
            "RLRLDRLURL\n",
            "RLRLDRLUDR\n",
            "RLRLDRLUDU\n",
            "RLRLDRUDDR\n",
            "RLRLDRUDDU\n",
            "RLRLDRUDLR\n",
            "RLRLDRUDLU\n",
            "RLRLDRUDUD\n",
            "RLRLDRUDUL\n",
            "RLRLDRULRD\n",
            "RLRLDRULRL\n",
            "RLRLDRULDR\n",
            "RLRLDRULDU\n",
            "RLRLDURDDR\n",
            "RLRLDURDDU\n",
            "RLRLDURDLR\n",
            "RLRLDURDLU\n",
            "RLRLDURDUD\n",
            "RLRLDURDUL\n",
            "RLRLDURLRD\n",
            "RLRLDURLRL\n",
            "RLRLDURLDR\n",
            "RLRLDURLDU\n",
            "RLRLDUDRDR\n",
            "RLRLDUDRDU\n",
            "RLRLDUDRLR\n",
            "RLRLDUDRLU\n",
            "RLRLDUDRUD\n",
            "RLRLDUDRUL\n",
            "RLRLDUDURD\n",
            "RLRLDUDURL\n",
            "RLRLDUDUDR\n",
            "RLRLDUDUDU\n",
            "RLDRDR\n",
            "RLDRDUDR\n",
            "RLDRDUDUDR\n",
            "RLDRDUDUDU\n",
            "RLDRDUDULR\n",
            "RLDRDUDULU\n",
            "RLDRDUDUUD\n",
            "RLDRDUDUUL\n",
            "RLDRDULRDR\n",
            "RLDRDULRDU\n",
            "RLDRDULRLR\n",
            "RLDRDULRLU\n",
            "RLDRDULRUD\n",
            "RLDRDULRUL\n",
            "RLDRDULURD\n",
            "RLDRDULURL\n",
            "RLDRDULUDR\n",
            "RLDRDULUDU\n",
            "RLDRDUUDDR\n",
            "RLDRDUUDDU\n",
            "RLDRDUUDLR\n",
            "RLDRDUUDLU\n",
            "RLDRDUUDUD\n",
            "RLDRDUUDUL\n",
            "RLDRDUULRD\n",
            "RLDRDUULRL\n",
            "RLDRDUULDR\n",
            "RLDRDUULDU\n",
            "RLDRLRDR\n",
            "RLDRLRDUDR\n",
            "RLDRLRDUDU\n",
            "RLDRLRDULR\n",
            "RLDRLRDULU\n",
            "RLDRLRDUUD\n",
            "RLDRLRDUUL\n",
            "RLDRLRLRDR\n",
            "RLDRLRLRDU\n",
            "RLDRLRLRLR\n",
            "RLDRLRLRLU\n",
            "RLDRLRLRUD\n",
            "RLDRLRLRUL\n",
            "RLDRLRLURD\n",
            "RLDRLRLURL\n",
            "RLDRLRLUDR\n",
            "RLDRLRLUDU\n",
            "RLDRLRUDDR\n",
            "RLDRLRUDDU\n",
            "RLDRLRUDLR\n",
            "RLDRLRUDLU\n",
            "RLDRLRUDUD\n",
            "RLDRLRUDUL\n",
            "RLDRLRULRD\n",
            "RLDRLRULRL\n",
            "RLDRLRULDR\n",
            "RLDRLRULDU\n",
            "RLDRLURDDR\n",
            "RLDRLURDDU\n",
            "RLDRLURDLR\n",
            "RLDRLURDLU\n",
            "RLDRLURDUD\n",
            "RLDRLURDUL\n",
            "RLDRLURLRD\n",
            "RLDRLURLRL\n",
            "RLDRLURLDR\n",
            "RLDRLURLDU\n",
            "RLDRLUDRDR\n",
            "RLDRLUDRDU\n",
            "RLDRLUDRLR\n",
            "RLDRLUDRLU\n",
            "RLDRLUDRUD\n",
            "RLDRLUDRUL\n",
            "RLDRLUDURD\n",
            "RLDRLUDURL\n",
            "RLDRLUDUDR\n",
            "RLDRLUDUDU\n",
            "RLDRUDDR\n",
            "RLDRUDDUDR\n",
            "RLDRUDDUDU\n",
            "RLDRUDDULR\n",
            "RLDRUDDULU\n",
            "RLDRUDDUUD\n",
            "RLDRUDDUUL\n",
            "RLDRUDLRDR\n",
            "RLDRUDLRDU\n",
            "RLDRUDLRLR\n",
            "RLDRUDLRLU\n",
            "RLDRUDLRUD\n",
            "RLDRUDLRUL\n",
            "RLDRUDLURD\n",
            "RLDRUDLURL\n",
            "RLDRUDLUDR\n",
            "RLDRUDLUDU\n",
            "RLDRUDUDDR\n",
            "RLDRUDUDDU\n",
            "RLDRUDUDLR\n",
            "RLDRUDUDLU\n",
            "RLDRUDUDUD\n",
            "RLDRUDUDUL\n",
            "RLDRUDULRD\n",
            "RLDRUDULRL\n",
            "RLDRUDULDR\n",
            "RLDRUDULDU\n",
            "RLDRULRDDR\n",
            "RLDRULRDDU\n",
            "RLDRULRDLR\n",
            "RLDRULRDLU\n",
            "RLDRULRDUD\n",
            "RLDRULRDUL\n",
            "RLDRULRLRD\n",
            "RLDRULRLRL\n",
            "RLDRULRLDR\n",
            "RLDRULRLDU\n",
            "RLDRULDRDR\n",
            "RLDRULDRDU\n",
            "RLDRULDRLR\n",
            "RLDRULDRLU\n",
            "RLDRULDRUD\n",
            "RLDRULDRUL\n",
            "RLDRULDURD\n",
            "RLDRULDURL\n",
            "RLDRULDUDR\n",
            "RLDRULDUDU\n",
            "RLDURDDR\n",
            "RLDURDDUDR\n",
            "RLDURDDUDU\n",
            "RLDURDDULR\n",
            "RLDURDDULU\n",
            "RLDURDDUUD\n",
            "RLDURDDUUL\n",
            "RLDURDLRDR\n",
            "RLDURDLRDU\n",
            "RLDURDLRLR\n",
            "RLDURDLRLU\n",
            "RLDURDLRUD\n",
            "RLDURDLRUL\n",
            "RLDURDLURD\n",
            "RLDURDLURL\n",
            "RLDURDLUDR\n",
            "RLDURDLUDU\n",
            "RLDURDUDDR\n",
            "RLDURDUDDU\n",
            "RLDURDUDLR\n",
            "RLDURDUDLU\n",
            "RLDURDUDUD\n",
            "RLDURDUDUL\n",
            "RLDURDULRD\n",
            "RLDURDULRL\n",
            "RLDURDULDR\n",
            "RLDURDULDU\n",
            "RLDURLRDDR\n",
            "RLDURLRDDU\n",
            "RLDURLRDLR\n",
            "RLDURLRDLU\n",
            "RLDURLRDUD\n",
            "RLDURLRDUL\n",
            "RLDURLRLRD\n",
            "RLDURLRLRL\n",
            "RLDURLRLDR\n",
            "RLDURLRLDU\n",
            "RLDURLDRDR\n",
            "RLDURLDRDU\n",
            "RLDURLDRLR\n",
            "RLDURLDRLU\n",
            "RLDURLDRUD\n",
            "RLDURLDRUL\n",
            "RLDURLDURD\n",
            "RLDURLDURL\n",
            "RLDURLDUDR\n",
            "RLDURLDUDU\n",
            "RLDUDRDR\n",
            "RLDUDRDUDR\n",
            "RLDUDRDUDU\n",
            "RLDUDRDULR\n",
            "RLDUDRDULU\n",
            "RLDUDRDUUD\n",
            "RLDUDRDUUL\n",
            "RLDUDRLRDR\n",
            "RLDUDRLRDU\n",
            "RLDUDRLRLR\n",
            "RLDUDRLRLU\n",
            "RLDUDRLRUD\n",
            "RLDUDRLRUL\n",
            "RLDUDRLURD\n",
            "RLDUDRLURL\n",
            "RLDUDRLUDR\n",
            "RLDUDRLUDU\n",
            "RLDUDRUDDR\n",
            "RLDUDRUDDU\n",
            "RLDUDRUDLR\n",
            "RLDUDRUDLU\n",
            "RLDUDRUDUD\n",
            "RLDUDRUDUL\n",
            "RLDUDRULRD\n",
            "RLDUDRULRL\n",
            "RLDUDRULDR\n",
            "RLDUDRULDU\n",
            "RLDUDURDDR\n",
            "RLDUDURDDU\n",
            "RLDUDURDLR\n",
            "RLDUDURDLU\n",
            "RLDUDURDUD\n",
            "RLDUDURDUL\n",
            "RLDUDURLRD\n",
            "RLDUDURLRL\n",
            "RLDUDURLDR\n",
            "RLDUDURLDU\n",
            "RLDUDUDRDR\n",
            "RLDUDUDRDU\n",
            "RLDUDUDRLR\n",
            "RLDUDUDRLU\n",
            "RLDUDUDRUD\n",
            "RLDUDUDRUL\n",
            "RLDUDUDURD\n",
            "RLDUDUDURL\n",
            "RLDUDUDUDR\n",
            "RLDUDUDUDU\n",
            "DRDR\n",
            "DRDUDR\n",
            "DRDUDUDR\n",
            "DRDUDUDUDR\n",
            "DRDUDUDUDU\n",
            "DRDUDUDULR\n",
            "DRDUDUDULU\n",
            "DRDUDUDUUD\n",
            "DRDUDUDUUL\n",
            "DRDUDULRDR\n",
            "DRDUDULRDU\n",
            "DRDUDULRLR\n",
            "DRDUDULRLU\n",
            "DRDUDULRUD\n",
            "DRDUDULRUL\n",
            "DRDUDULURD\n",
            "DRDUDULURL\n",
            "DRDUDULUDR\n",
            "DRDUDULUDU\n",
            "DRDUDUUDDR\n",
            "DRDUDUUDDU\n",
            "DRDUDUUDLR\n",
            "DRDUDUUDLU\n",
            "DRDUDUUDUD\n",
            "DRDUDUUDUL\n",
            "DRDUDUULRD\n",
            "DRDUDUULRL\n",
            "DRDUDUULDR\n",
            "DRDUDUULDU\n",
            "DRDULRDR\n",
            "DRDULRDUDR\n",
            "DRDULRDUDU\n",
            "DRDULRDULR\n",
            "DRDULRDULU\n",
            "DRDULRDUUD\n",
            "DRDULRDUUL\n",
            "DRDULRLRDR\n",
            "DRDULRLRDU\n",
            "DRDULRLRLR\n",
            "DRDULRLRLU\n",
            "DRDULRLRUD\n",
            "DRDULRLRUL\n",
            "DRDULRLURD\n",
            "DRDULRLURL\n",
            "DRDULRLUDR\n",
            "DRDULRLUDU\n",
            "DRDULRUDDR\n",
            "DRDULRUDDU\n",
            "DRDULRUDLR\n",
            "DRDULRUDLU\n",
            "DRDULRUDUD\n",
            "DRDULRUDUL\n",
            "DRDULRULRD\n",
            "DRDULRULRL\n",
            "DRDULRULDR\n",
            "DRDULRULDU\n",
            "DRDULURDDR\n",
            "DRDULURDDU\n",
            "DRDULURDLR\n",
            "DRDULURDLU\n",
            "DRDULURDUD\n",
            "DRDULURDUL\n",
            "DRDULURLRD\n",
            "DRDULURLRL\n",
            "DRDULURLDR\n",
            "DRDULURLDU\n",
            "DRDULUDRDR\n",
            "DRDULUDRDU\n",
            "DRDULUDRLR\n",
            "DRDULUDRLU\n",
            "DRDULUDRUD\n",
            "DRDULUDRUL\n",
            "DRDULUDURD\n",
            "DRDULUDURL\n",
            "DRDULUDUDR\n",
            "DRDULUDUDU\n",
            "DRDUUDDR\n",
            "DRDUUDDUDR\n",
            "DRDUUDDUDU\n",
            "DRDUUDDULR\n",
            "DRDUUDDULU\n",
            "DRDUUDDUUD\n",
            "DRDUUDDUUL\n",
            "DRDUUDLRDR\n",
            "DRDUUDLRDU\n",
            "DRDUUDLRLR\n",
            "DRDUUDLRLU\n",
            "DRDUUDLRUD\n",
            "DRDUUDLRUL\n",
            "DRDUUDLURD\n",
            "DRDUUDLURL\n",
            "DRDUUDLUDR\n",
            "DRDUUDLUDU\n",
            "DRDUUDUDDR\n",
            "DRDUUDUDDU\n",
            "DRDUUDUDLR\n",
            "DRDUUDUDLU\n",
            "DRDUUDUDUD\n",
            "DRDUUDUDUL\n",
            "DRDUUDULRD\n",
            "DRDUUDULRL\n",
            "DRDUUDULDR\n",
            "DRDUUDULDU\n",
            "DRDUULRDDR\n",
            "DRDUULRDDU\n",
            "DRDUULRDLR\n",
            "DRDUULRDLU\n",
            "DRDUULRDUD\n",
            "DRDUULRDUL\n",
            "DRDUULRLRD\n",
            "DRDUULRLRL\n",
            "DRDUULRLDR\n",
            "DRDUULRLDU\n",
            "DRDUULDRDR\n",
            "DRDUULDRDU\n",
            "DRDUULDRLR\n",
            "DRDUULDRLU\n",
            "DRDUULDRUD\n",
            "DRDUULDRUL\n",
            "DRDUULDURD\n",
            "DRDUULDURL\n",
            "DRDUULDUDR\n",
            "DRDUULDUDU\n",
            "DRLRDR\n",
            "DRLRDUDR\n",
            "DRLRDUDUDR\n",
            "DRLRDUDUDU\n",
            "DRLRDUDULR\n",
            "DRLRDUDULU\n",
            "DRLRDUDUUD\n",
            "DRLRDUDUUL\n",
            "DRLRDULRDR\n",
            "DRLRDULRDU\n",
            "DRLRDULRLR\n",
            "DRLRDULRLU\n",
            "DRLRDULRUD\n",
            "DRLRDULRUL\n",
            "DRLRDULURD\n",
            "DRLRDULURL\n",
            "DRLRDULUDR\n",
            "DRLRDULUDU\n",
            "DRLRDUUDDR\n",
            "DRLRDUUDDU\n",
            "DRLRDUUDLR\n",
            "DRLRDUUDLU\n",
            "DRLRDUUDUD\n",
            "DRLRDUUDUL\n",
            "DRLRDUULRD\n",
            "DRLRDUULRL\n",
            "DRLRDUULDR\n",
            "DRLRDUULDU\n",
            "DRLRLRDR\n",
            "DRLRLRDUDR\n",
            "DRLRLRDUDU\n",
            "DRLRLRDULR\n",
            "DRLRLRDULU\n",
            "DRLRLRDUUD\n",
            "DRLRLRDUUL\n",
            "DRLRLRLRDR\n",
            "DRLRLRLRDU\n",
            "DRLRLRLRLR\n",
            "DRLRLRLRLU\n",
            "DRLRLRLRUD\n",
            "DRLRLRLRUL\n",
            "DRLRLRLURD\n",
            "DRLRLRLURL\n",
            "DRLRLRLUDR\n",
            "DRLRLRLUDU\n",
            "DRLRLRUDDR\n",
            "DRLRLRUDDU\n",
            "DRLRLRUDLR\n",
            "DRLRLRUDLU\n",
            "DRLRLRUDUD\n",
            "DRLRLRUDUL\n",
            "DRLRLRULRD\n",
            "DRLRLRULRL\n",
            "DRLRLRULDR\n",
            "DRLRLRULDU\n",
            "DRLRLURDDR\n",
            "DRLRLURDDU\n",
            "DRLRLURDLR\n",
            "DRLRLURDLU\n",
            "DRLRLURDUD\n",
            "DRLRLURDUL\n",
            "DRLRLURLRD\n",
            "DRLRLURLRL\n",
            "DRLRLURLDR\n",
            "DRLRLURLDU\n",
            "DRLRLUDRDR\n",
            "DRLRLUDRDU\n",
            "DRLRLUDRLR\n",
            "DRLRLUDRLU\n",
            "DRLRLUDRUD\n",
            "DRLRLUDRUL\n",
            "DRLRLUDURD\n",
            "DRLRLUDURL\n",
            "DRLRLUDUDR\n",
            "DRLRLUDUDU\n",
            "DRLRUDDR\n",
            "DRLRUDDUDR\n",
            "DRLRUDDUDU\n",
            "DRLRUDDULR\n",
            "DRLRUDDULU\n",
            "DRLRUDDUUD\n",
            "DRLRUDDUUL\n",
            "DRLRUDLRDR\n",
            "DRLRUDLRDU\n",
            "DRLRUDLRLR\n",
            "DRLRUDLRLU\n",
            "DRLRUDLRUD\n",
            "DRLRUDLRUL\n",
            "DRLRUDLURD\n",
            "DRLRUDLURL\n",
            "DRLRUDLUDR\n",
            "DRLRUDLUDU\n",
            "DRLRUDUDDR\n",
            "DRLRUDUDDU\n",
            "DRLRUDUDLR\n",
            "DRLRUDUDLU\n",
            "DRLRUDUDUD\n",
            "DRLRUDUDUL\n",
            "DRLRUDULRD\n",
            "DRLRUDULRL\n",
            "DRLRUDULDR\n",
            "DRLRUDULDU\n",
            "DRLRULRDDR\n",
            "DRLRULRDDU\n",
            "DRLRULRDLR\n",
            "DRLRULRDLU\n",
            "DRLRULRDUD\n",
            "DRLRULRDUL\n",
            "DRLRULRLRD\n",
            "DRLRULRLRL\n",
            "DRLRULRLDR\n",
            "DRLRULRLDU\n",
            "DRLRULDRDR\n",
            "DRLRULDRDU\n",
            "DRLRULDRLR\n",
            "DRLRULDRLU\n",
            "DRLRULDRUD\n",
            "DRLRULDRUL\n",
            "DRLRULDURD\n",
            "DRLRULDURL\n",
            "DRLRULDUDR\n",
            "DRLRULDUDU\n",
            "DRLURDDR\n",
            "DRLURDDUDR\n",
            "DRLURDDUDU\n",
            "DRLURDDULR\n",
            "DRLURDDULU\n",
            "DRLURDDUUD\n",
            "DRLURDDUUL\n",
            "DRLURDLRDR\n",
            "DRLURDLRDU\n",
            "DRLURDLRLR\n",
            "DRLURDLRLU\n",
            "DRLURDLRUD\n",
            "DRLURDLRUL\n",
            "DRLURDLURD\n",
            "DRLURDLURL\n",
            "DRLURDLUDR\n",
            "DRLURDLUDU\n",
            "DRLURDUDDR\n",
            "DRLURDUDDU\n",
            "DRLURDUDLR\n",
            "DRLURDUDLU\n",
            "DRLURDUDUD\n",
            "DRLURDUDUL\n",
            "DRLURDULRD\n",
            "DRLURDULRL\n",
            "DRLURDULDR\n",
            "DRLURDULDU\n",
            "DRLURLRDDR\n",
            "DRLURLRDDU\n",
            "DRLURLRDLR\n",
            "DRLURLRDLU\n",
            "DRLURLRDUD\n",
            "DRLURLRDUL\n",
            "DRLURLRLRD\n",
            "DRLURLRLRL\n",
            "DRLURLRLDR\n",
            "DRLURLRLDU\n",
            "DRLURLDRDR\n",
            "DRLURLDRDU\n",
            "DRLURLDRLR\n",
            "DRLURLDRLU\n",
            "DRLURLDRUD\n",
            "DRLURLDRUL\n",
            "DRLURLDURD\n",
            "DRLURLDURL\n",
            "DRLURLDUDR\n",
            "DRLURLDUDU\n",
            "DRLUDRDR\n",
            "DRLUDRDUDR\n",
            "DRLUDRDUDU\n",
            "DRLUDRDULR\n",
            "DRLUDRDULU\n",
            "DRLUDRDUUD\n",
            "DRLUDRDUUL\n",
            "DRLUDRLRDR\n",
            "DRLUDRLRDU\n",
            "DRLUDRLRLR\n",
            "DRLUDRLRLU\n",
            "DRLUDRLRUD\n",
            "DRLUDRLRUL\n",
            "DRLUDRLURD\n",
            "DRLUDRLURL\n",
            "DRLUDRLUDR\n",
            "DRLUDRLUDU\n",
            "DRLUDRUDDR\n",
            "DRLUDRUDDU\n",
            "DRLUDRUDLR\n",
            "DRLUDRUDLU\n",
            "DRLUDRUDUD\n",
            "DRLUDRUDUL\n",
            "DRLUDRULRD\n",
            "DRLUDRULRL\n",
            "DRLUDRULDR\n",
            "DRLUDRULDU\n",
            "DRLUDURDDR\n",
            "DRLUDURDDU\n",
            "DRLUDURDLR\n",
            "DRLUDURDLU\n",
            "DRLUDURDUD\n",
            "DRLUDURDUL\n",
            "DRLUDURLRD\n",
            "DRLUDURLRL\n",
            "DRLUDURLDR\n",
            "DRLUDURLDU\n",
            "DRLUDUDRDR\n",
            "DRLUDUDRDU\n",
            "DRLUDUDRLR\n",
            "DRLUDUDRLU\n",
            "DRLUDUDRUD\n",
            "DRLUDUDRUL\n",
            "DRLUDUDURD\n",
            "DRLUDUDURL\n",
            "DRLUDUDUDR\n",
            "DRLUDUDUDU\n",
            "DRUDDR\n",
            "DRUDDUDR\n",
            "DRUDDUDUDR\n",
            "DRUDDUDUDU\n",
            "DRUDDUDULR\n",
            "DRUDDUDULU\n",
            "DRUDDUDUUD\n",
            "DRUDDUDUUL\n",
            "DRUDDULRDR\n",
            "DRUDDULRDU\n",
            "DRUDDULRLR\n",
            "DRUDDULRLU\n",
            "DRUDDULRUD\n",
            "DRUDDULRUL\n",
            "DRUDDULURD\n",
            "DRUDDULURL\n",
            "DRUDDULUDR\n",
            "DRUDDULUDU\n",
            "DRUDDUUDDR\n",
            "DRUDDUUDDU\n",
            "DRUDDUUDLR\n",
            "DRUDDUUDLU\n",
            "DRUDDUUDUD\n",
            "DRUDDUUDUL\n",
            "DRUDDUULRD\n",
            "DRUDDUULRL\n",
            "DRUDDUULDR\n",
            "DRUDDUULDU\n",
            "DRUDLRDR\n",
            "DRUDLRDUDR\n",
            "DRUDLRDUDU\n",
            "DRUDLRDULR\n",
            "DRUDLRDULU\n",
            "DRUDLRDUUD\n",
            "DRUDLRDUUL\n",
            "DRUDLRLRDR\n",
            "DRUDLRLRDU\n",
            "DRUDLRLRLR\n",
            "DRUDLRLRLU\n",
            "DRUDLRLRUD\n",
            "DRUDLRLRUL\n",
            "DRUDLRLURD\n",
            "DRUDLRLURL\n",
            "DRUDLRLUDR\n",
            "DRUDLRLUDU\n",
            "DRUDLRUDDR\n",
            "DRUDLRUDDU\n",
            "DRUDLRUDLR\n",
            "DRUDLRUDLU\n",
            "DRUDLRUDUD\n",
            "DRUDLRUDUL\n",
            "DRUDLRULRD\n",
            "DRUDLRULRL\n",
            "DRUDLRULDR\n",
            "DRUDLRULDU\n",
            "DRUDLURDDR\n",
            "DRUDLURDDU\n",
            "DRUDLURDLR\n",
            "DRUDLURDLU\n",
            "DRUDLURDUD\n",
            "DRUDLURDUL\n",
            "DRUDLURLRD\n",
            "DRUDLURLRL\n",
            "DRUDLURLDR\n",
            "DRUDLURLDU\n",
            "DRUDLUDRDR\n",
            "DRUDLUDRDU\n",
            "DRUDLUDRLR\n",
            "DRUDLUDRLU\n",
            "DRUDLUDRUD\n",
            "DRUDLUDRUL\n",
            "DRUDLUDURD\n",
            "DRUDLUDURL\n",
            "DRUDLUDUDR\n",
            "DRUDLUDUDU\n",
            "DRUDUDDR\n",
            "DRUDUDDUDR\n",
            "DRUDUDDUDU\n",
            "DRUDUDDULR\n",
            "DRUDUDDULU\n",
            "DRUDUDDUUD\n",
            "DRUDUDDUUL\n",
            "DRUDUDLRDR\n",
            "DRUDUDLRDU\n",
            "DRUDUDLRLR\n",
            "DRUDUDLRLU\n",
            "DRUDUDLRUD\n",
            "DRUDUDLRUL\n",
            "DRUDUDLURD\n",
            "DRUDUDLURL\n",
            "DRUDUDLUDR\n",
            "DRUDUDLUDU\n",
            "DRUDUDUDDR\n",
            "DRUDUDUDDU\n",
            "DRUDUDUDLR\n",
            "DRUDUDUDLU\n",
            "DRUDUDUDUD\n",
            "DRUDUDUDUL\n",
            "DRUDUDULRD\n",
            "DRUDUDULRL\n",
            "DRUDUDULDR\n",
            "DRUDUDULDU\n",
            "DRUDULRDDR\n",
            "DRUDULRDDU\n",
            "DRUDULRDLR\n",
            "DRUDULRDLU\n",
            "DRUDULRDUD\n",
            "DRUDULRDUL\n",
            "DRUDULRLRD\n",
            "DRUDULRLRL\n",
            "DRUDULRLDR\n",
            "DRUDULRLDU\n",
            "DRUDULDRDR\n",
            "DRUDULDRDU\n",
            "DRUDULDRLR\n",
            "DRUDULDRLU\n",
            "DRUDULDRUD\n",
            "DRUDULDRUL\n",
            "DRUDULDURD\n",
            "DRUDULDURL\n",
            "DRUDULDUDR\n",
            "DRUDULDUDU\n",
            "DRULRDDR\n",
            "DRULRDDUDR\n",
            "DRULRDDUDU\n",
            "DRULRDDULR\n",
            "DRULRDDULU\n",
            "DRULRDDUUD\n",
            "DRULRDDUUL\n",
            "DRULRDLRDR\n",
            "DRULRDLRDU\n",
            "DRULRDLRLR\n",
            "DRULRDLRLU\n",
            "DRULRDLRUD\n",
            "DRULRDLRUL\n",
            "DRULRDLURD\n",
            "DRULRDLURL\n",
            "DRULRDLUDR\n",
            "DRULRDLUDU\n",
            "DRULRDUDDR\n",
            "DRULRDUDDU\n",
            "DRULRDUDLR\n",
            "DRULRDUDLU\n",
            "DRULRDUDUD\n",
            "DRULRDUDUL\n",
            "DRULRDULRD\n",
            "DRULRDULRL\n",
            "DRULRDULDR\n",
            "DRULRDULDU\n",
            "DRULRLRDDR\n",
            "DRULRLRDDU\n",
            "DRULRLRDLR\n",
            "DRULRLRDLU\n",
            "DRULRLRDUD\n",
            "DRULRLRDUL\n",
            "DRULRLRLRD\n",
            "DRULRLRLRL\n",
            "DRULRLRLDR\n",
            "DRULRLRLDU\n",
            "DRULRLDRDR\n",
            "DRULRLDRDU\n",
            "DRULRLDRLR\n",
            "DRULRLDRLU\n",
            "DRULRLDRUD\n",
            "DRULRLDRUL\n",
            "DRULRLDURD\n",
            "DRULRLDURL\n",
            "DRULRLDUDR\n",
            "DRULRLDUDU\n",
            "DRULDRDR\n",
            "DRULDRDUDR\n",
            "DRULDRDUDU\n",
            "DRULDRDULR\n",
            "DRULDRDULU\n",
            "DRULDRDUUD\n",
            "DRULDRDUUL\n",
            "DRULDRLRDR\n",
            "DRULDRLRDU\n",
            "DRULDRLRLR\n",
            "DRULDRLRLU\n",
            "DRULDRLRUD\n",
            "DRULDRLRUL\n",
            "DRULDRLURD\n",
            "DRULDRLURL\n",
            "DRULDRLUDR\n",
            "DRULDRLUDU\n",
            "DRULDRUDDR\n",
            "DRULDRUDDU\n",
            "DRULDRUDLR\n",
            "DRULDRUDLU\n",
            "DRULDRUDUD\n",
            "DRULDRUDUL\n",
            "DRULDRULRD\n",
            "DRULDRULRL\n",
            "DRULDRULDR\n",
            "DRULDRULDU\n",
            "DRULDURDDR\n",
            "DRULDURDDU\n",
            "DRULDURDLR\n",
            "DRULDURDLU\n",
            "DRULDURDUD\n",
            "DRULDURDUL\n",
            "DRULDURLRD\n",
            "DRULDURLRL\n",
            "DRULDURLDR\n",
            "DRULDURLDU\n",
            "DRULDUDRDR\n",
            "DRULDUDRDU\n",
            "DRULDUDRLR\n",
            "DRULDUDRLU\n",
            "DRULDUDRUD\n",
            "DRULDUDRUL\n",
            "DRULDUDURD\n",
            "DRULDUDURL\n",
            "DRULDUDUDR\n",
            "DRULDUDUDU\n",
            "DURDDR\n",
            "DURDDUDR\n",
            "DURDDUDUDR\n",
            "DURDDUDUDU\n",
            "DURDDUDULR\n",
            "DURDDUDULU\n",
            "DURDDUDUUD\n",
            "DURDDUDUUL\n",
            "DURDDULRDR\n",
            "DURDDULRDU\n",
            "DURDDULRLR\n",
            "DURDDULRLU\n",
            "DURDDULRUD\n",
            "DURDDULRUL\n",
            "DURDDULURD\n",
            "DURDDULURL\n",
            "DURDDULUDR\n",
            "DURDDULUDU\n",
            "DURDDUUDDR\n",
            "DURDDUUDDU\n",
            "DURDDUUDLR\n",
            "DURDDUUDLU\n",
            "DURDDUUDUD\n",
            "DURDDUUDUL\n",
            "DURDDUULRD\n",
            "DURDDUULRL\n",
            "DURDDUULDR\n",
            "DURDDUULDU\n",
            "DURDLRDR\n",
            "DURDLRDUDR\n",
            "DURDLRDUDU\n",
            "DURDLRDULR\n",
            "DURDLRDULU\n",
            "DURDLRDUUD\n",
            "DURDLRDUUL\n",
            "DURDLRLRDR\n",
            "DURDLRLRDU\n",
            "DURDLRLRLR\n",
            "DURDLRLRLU\n",
            "DURDLRLRUD\n",
            "DURDLRLRUL\n",
            "DURDLRLURD\n",
            "DURDLRLURL\n",
            "DURDLRLUDR\n",
            "DURDLRLUDU\n",
            "DURDLRUDDR\n",
            "DURDLRUDDU\n",
            "DURDLRUDLR\n",
            "DURDLRUDLU\n",
            "DURDLRUDUD\n",
            "DURDLRUDUL\n",
            "DURDLRULRD\n",
            "DURDLRULRL\n",
            "DURDLRULDR\n",
            "DURDLRULDU\n",
            "DURDLURDDR\n",
            "DURDLURDDU\n",
            "DURDLURDLR\n",
            "DURDLURDLU\n",
            "DURDLURDUD\n",
            "DURDLURDUL\n",
            "DURDLURLRD\n",
            "DURDLURLRL\n",
            "DURDLURLDR\n",
            "DURDLURLDU\n",
            "DURDLUDRDR\n",
            "DURDLUDRDU\n",
            "DURDLUDRLR\n",
            "DURDLUDRLU\n",
            "DURDLUDRUD\n",
            "DURDLUDRUL\n",
            "DURDLUDURD\n",
            "DURDLUDURL\n",
            "DURDLUDUDR\n",
            "DURDLUDUDU\n",
            "DURDUDDR\n",
            "DURDUDDUDR\n",
            "DURDUDDUDU\n",
            "DURDUDDULR\n",
            "DURDUDDULU\n",
            "DURDUDDUUD\n",
            "DURDUDDUUL\n",
            "DURDUDLRDR\n",
            "DURDUDLRDU\n",
            "DURDUDLRLR\n",
            "DURDUDLRLU\n",
            "DURDUDLRUD\n",
            "DURDUDLRUL\n",
            "DURDUDLURD\n",
            "DURDUDLURL\n",
            "DURDUDLUDR\n",
            "DURDUDLUDU\n",
            "DURDUDUDDR\n",
            "DURDUDUDDU\n",
            "DURDUDUDLR\n",
            "DURDUDUDLU\n",
            "DURDUDUDUD\n",
            "DURDUDUDUL\n",
            "DURDUDULRD\n",
            "DURDUDULRL\n",
            "DURDUDULDR\n",
            "DURDUDULDU\n",
            "DURDULRDDR\n",
            "DURDULRDDU\n",
            "DURDULRDLR\n",
            "DURDULRDLU\n",
            "DURDULRDUD\n",
            "DURDULRDUL\n",
            "DURDULRLRD\n",
            "DURDULRLRL\n",
            "DURDULRLDR\n",
            "DURDULRLDU\n",
            "DURDULDRDR\n",
            "DURDULDRDU\n",
            "DURDULDRLR\n",
            "DURDULDRLU\n",
            "DURDULDRUD\n",
            "DURDULDRUL\n",
            "DURDULDURD\n",
            "DURDULDURL\n",
            "DURDULDUDR\n",
            "DURDULDUDU\n",
            "DURLRDDR\n",
            "DURLRDDUDR\n",
            "DURLRDDUDU\n",
            "DURLRDDULR\n",
            "DURLRDDULU\n",
            "DURLRDDUUD\n",
            "DURLRDDUUL\n",
            "DURLRDLRDR\n",
            "DURLRDLRDU\n",
            "DURLRDLRLR\n",
            "DURLRDLRLU\n",
            "DURLRDLRUD\n",
            "DURLRDLRUL\n",
            "DURLRDLURD\n",
            "DURLRDLURL\n",
            "DURLRDLUDR\n",
            "DURLRDLUDU\n",
            "DURLRDUDDR\n",
            "DURLRDUDDU\n",
            "DURLRDUDLR\n",
            "DURLRDUDLU\n",
            "DURLRDUDUD\n",
            "DURLRDUDUL\n",
            "DURLRDULRD\n",
            "DURLRDULRL\n",
            "DURLRDULDR\n",
            "DURLRDULDU\n",
            "DURLRLRDDR\n",
            "DURLRLRDDU\n",
            "DURLRLRDLR\n",
            "DURLRLRDLU\n",
            "DURLRLRDUD\n",
            "DURLRLRDUL\n",
            "DURLRLRLRD\n",
            "DURLRLRLRL\n",
            "DURLRLRLDR\n",
            "DURLRLRLDU\n",
            "DURLRLDRDR\n",
            "DURLRLDRDU\n",
            "DURLRLDRLR\n",
            "DURLRLDRLU\n",
            "DURLRLDRUD\n",
            "DURLRLDRUL\n",
            "DURLRLDURD\n",
            "DURLRLDURL\n",
            "DURLRLDUDR\n",
            "DURLRLDUDU\n",
            "DURLDRDR\n",
            "DURLDRDUDR\n",
            "DURLDRDUDU\n",
            "DURLDRDULR\n",
            "DURLDRDULU\n",
            "DURLDRDUUD\n",
            "DURLDRDUUL\n",
            "DURLDRLRDR\n",
            "DURLDRLRDU\n",
            "DURLDRLRLR\n",
            "DURLDRLRLU\n",
            "DURLDRLRUD\n",
            "DURLDRLRUL\n",
            "DURLDRLURD\n",
            "DURLDRLURL\n",
            "DURLDRLUDR\n",
            "DURLDRLUDU\n",
            "DURLDRUDDR\n",
            "DURLDRUDDU\n",
            "DURLDRUDLR\n",
            "DURLDRUDLU\n",
            "DURLDRUDUD\n",
            "DURLDRUDUL\n",
            "DURLDRULRD\n",
            "DURLDRULRL\n",
            "DURLDRULDR\n",
            "DURLDRULDU\n",
            "DURLDURDDR\n",
            "DURLDURDDU\n",
            "DURLDURDLR\n",
            "DURLDURDLU\n",
            "DURLDURDUD\n",
            "DURLDURDUL\n",
            "DURLDURLRD\n",
            "DURLDURLRL\n",
            "DURLDURLDR\n",
            "DURLDURLDU\n",
            "DURLDUDRDR\n",
            "DURLDUDRDU\n",
            "DURLDUDRLR\n",
            "DURLDUDRLU\n",
            "DURLDUDRUD\n",
            "DURLDUDRUL\n",
            "DURLDUDURD\n",
            "DURLDUDURL\n",
            "DURLDUDUDR\n",
            "DURLDUDUDU\n",
            "DUDRDR\n",
            "DUDRDUDR\n",
            "DUDRDUDUDR\n",
            "DUDRDUDUDU\n",
            "DUDRDUDULR\n",
            "DUDRDUDULU\n",
            "DUDRDUDUUD\n",
            "DUDRDUDUUL\n",
            "DUDRDULRDR\n",
            "DUDRDULRDU\n",
            "DUDRDULRLR\n",
            "DUDRDULRLU\n",
            "DUDRDULRUD\n",
            "DUDRDULRUL\n",
            "DUDRDULURD\n",
            "DUDRDULURL\n",
            "DUDRDULUDR\n",
            "DUDRDULUDU\n",
            "DUDRDUUDDR\n",
            "DUDRDUUDDU\n",
            "DUDRDUUDLR\n",
            "DUDRDUUDLU\n",
            "DUDRDUUDUD\n",
            "DUDRDUUDUL\n",
            "DUDRDUULRD\n",
            "DUDRDUULRL\n",
            "DUDRDUULDR\n",
            "DUDRDUULDU\n",
            "DUDRLRDR\n",
            "DUDRLRDUDR\n",
            "DUDRLRDUDU\n",
            "DUDRLRDULR\n",
            "DUDRLRDULU\n",
            "DUDRLRDUUD\n",
            "DUDRLRDUUL\n",
            "DUDRLRLRDR\n",
            "DUDRLRLRDU\n",
            "DUDRLRLRLR\n",
            "DUDRLRLRLU\n",
            "DUDRLRLRUD\n",
            "DUDRLRLRUL\n",
            "DUDRLRLURD\n",
            "DUDRLRLURL\n",
            "DUDRLRLUDR\n",
            "DUDRLRLUDU\n",
            "DUDRLRUDDR\n",
            "DUDRLRUDDU\n",
            "DUDRLRUDLR\n",
            "DUDRLRUDLU\n",
            "DUDRLRUDUD\n",
            "DUDRLRUDUL\n",
            "DUDRLRULRD\n",
            "DUDRLRULRL\n",
            "DUDRLRULDR\n",
            "DUDRLRULDU\n",
            "DUDRLURDDR\n",
            "DUDRLURDDU\n",
            "DUDRLURDLR\n",
            "DUDRLURDLU\n",
            "DUDRLURDUD\n",
            "DUDRLURDUL\n",
            "DUDRLURLRD\n",
            "DUDRLURLRL\n",
            "DUDRLURLDR\n",
            "DUDRLURLDU\n",
            "DUDRLUDRDR\n",
            "DUDRLUDRDU\n",
            "DUDRLUDRLR\n",
            "DUDRLUDRLU\n",
            "DUDRLUDRUD\n",
            "DUDRLUDRUL\n",
            "DUDRLUDURD\n",
            "DUDRLUDURL\n",
            "DUDRLUDUDR\n",
            "DUDRLUDUDU\n",
            "DUDRUDDR\n",
            "DUDRUDDUDR\n",
            "DUDRUDDUDU\n",
            "DUDRUDDULR\n",
            "DUDRUDDULU\n",
            "DUDRUDDUUD\n",
            "DUDRUDDUUL\n",
            "DUDRUDLRDR\n",
            "DUDRUDLRDU\n",
            "DUDRUDLRLR\n",
            "DUDRUDLRLU\n",
            "DUDRUDLRUD\n",
            "DUDRUDLRUL\n",
            "DUDRUDLURD\n",
            "DUDRUDLURL\n",
            "DUDRUDLUDR\n",
            "DUDRUDLUDU\n",
            "DUDRUDUDDR\n",
            "DUDRUDUDDU\n",
            "DUDRUDUDLR\n",
            "DUDRUDUDLU\n",
            "DUDRUDUDUD\n",
            "DUDRUDUDUL\n",
            "DUDRUDULRD\n",
            "DUDRUDULRL\n",
            "DUDRUDULDR\n",
            "DUDRUDULDU\n",
            "DUDRULRDDR\n",
            "DUDRULRDDU\n",
            "DUDRULRDLR\n",
            "DUDRULRDLU\n",
            "DUDRULRDUD\n",
            "DUDRULRDUL\n",
            "DUDRULRLRD\n",
            "DUDRULRLRL\n",
            "DUDRULRLDR\n",
            "DUDRULRLDU\n",
            "DUDRULDRDR\n",
            "DUDRULDRDU\n",
            "DUDRULDRLR\n",
            "DUDRULDRLU\n",
            "DUDRULDRUD\n",
            "DUDRULDRUL\n",
            "DUDRULDURD\n",
            "DUDRULDURL\n",
            "DUDRULDUDR\n",
            "DUDRULDUDU\n",
            "DUDURDDR\n",
            "DUDURDDUDR\n",
            "DUDURDDUDU\n",
            "DUDURDDULR\n",
            "DUDURDDULU\n",
            "DUDURDDUUD\n",
            "DUDURDDUUL\n",
            "DUDURDLRDR\n",
            "DUDURDLRDU\n",
            "DUDURDLRLR\n",
            "DUDURDLRLU\n",
            "DUDURDLRUD\n",
            "DUDURDLRUL\n",
            "DUDURDLURD\n",
            "DUDURDLURL\n",
            "DUDURDLUDR\n",
            "DUDURDLUDU\n",
            "DUDURDUDDR\n",
            "DUDURDUDDU\n",
            "DUDURDUDLR\n",
            "DUDURDUDLU\n",
            "DUDURDUDUD\n",
            "DUDURDUDUL\n",
            "DUDURDULRD\n",
            "DUDURDULRL\n",
            "DUDURDULDR\n",
            "DUDURDULDU\n",
            "DUDURLRDDR\n",
            "DUDURLRDDU\n",
            "DUDURLRDLR\n",
            "DUDURLRDLU\n",
            "DUDURLRDUD\n",
            "DUDURLRDUL\n",
            "DUDURLRLRD\n",
            "DUDURLRLRL\n",
            "DUDURLRLDR\n",
            "DUDURLRLDU\n",
            "DUDURLDRDR\n",
            "DUDURLDRDU\n",
            "DUDURLDRLR\n",
            "DUDURLDRLU\n",
            "DUDURLDRUD\n",
            "DUDURLDRUL\n",
            "DUDURLDURD\n",
            "DUDURLDURL\n",
            "DUDURLDUDR\n",
            "DUDURLDUDU\n",
            "DUDUDRDR\n",
            "DUDUDRDUDR\n",
            "DUDUDRDUDU\n",
            "DUDUDRDULR\n",
            "DUDUDRDULU\n",
            "DUDUDRDUUD\n",
            "DUDUDRDUUL\n",
            "DUDUDRLRDR\n",
            "DUDUDRLRDU\n",
            "DUDUDRLRLR\n",
            "DUDUDRLRLU\n",
            "DUDUDRLRUD\n",
            "DUDUDRLRUL\n",
            "DUDUDRLURD\n",
            "DUDUDRLURL\n",
            "DUDUDRLUDR\n",
            "DUDUDRLUDU\n",
            "DUDUDRUDDR\n",
            "DUDUDRUDDU\n",
            "DUDUDRUDLR\n",
            "DUDUDRUDLU\n",
            "DUDUDRUDUD\n",
            "DUDUDRUDUL\n",
            "DUDUDRULRD\n",
            "DUDUDRULRL\n",
            "DUDUDRULDR\n",
            "DUDUDRULDU\n",
            "DUDUDURDDR\n",
            "DUDUDURDDU\n",
            "DUDUDURDLR\n",
            "DUDUDURDLU\n",
            "DUDUDURDUD\n",
            "DUDUDURDUL\n",
            "DUDUDURLRD\n",
            "DUDUDURLRL\n",
            "DUDUDURLDR\n",
            "DUDUDURLDU\n",
            "DUDUDUDRDR\n",
            "DUDUDUDRDU\n",
            "DUDUDUDRLR\n",
            "DUDUDUDRLU\n",
            "DUDUDUDRUD\n",
            "DUDUDUDRUL\n",
            "DUDUDUDURD\n",
            "DUDUDUDURL\n",
            "DUDUDUDUDR\n",
            "DUDUDUDUDU\n"
          ]
        }
      ]
    },
    {
      "cell_type": "markdown",
      "source": [
        "### **Find all interleaving of given strings**"
      ],
      "metadata": {
        "id": "FoI_93DrbdgT"
      }
    },
    {
      "cell_type": "code",
      "source": [
        "def interleavings(s1, s2):\n",
        "    if not s1:\n",
        "        yield s2\n",
        "    elif not s2:\n",
        "        yield s1\n",
        "    else:\n",
        "        for i in range(len(s1)):\n",
        "            for j in range(len(s2)):\n",
        "                yield s1[:i] + s2[j] + s1[i:] if i > 0 else s2[j] + s1\n",
        "                for res in interleavings(s1[i:], s2[j+1:]):\n",
        "                    yield s1[:i] + s2[j] + res if i > 0 else s2[j] + res\n",
        "\n",
        "# example usage\n",
        "s1 = 'ab'\n",
        "s2 = 'de'\n",
        "print(list(interleavings(s1, s2)))"
      ],
      "metadata": {
        "colab": {
          "base_uri": "https://localhost:8080/"
        },
        "id": "oVEysrIRbnYg",
        "outputId": "1c76b579-22c9-41bb-c7fd-04bcb82fc98b"
      },
      "execution_count": null,
      "outputs": [
        {
          "output_type": "stream",
          "name": "stdout",
          "text": [
            "['dab', 'deab', 'deab', 'daeb', 'daeb', 'eab', 'eab', 'adb', 'adeb', 'adeb', 'aeb', 'aeb']\n"
          ]
        }
      ]
    },
    {
      "cell_type": "markdown",
      "source": [
        "### **Determine whether a string is a palindrome or not**"
      ],
      "metadata": {
        "id": "pyXzO5n4cB1O"
      }
    },
    {
      "cell_type": "code",
      "source": [
        "def is_palindrome(s):\n",
        "    \"\"\"\n",
        "    Returns True if s is a palindrome, otherwise False.\n",
        "    \"\"\"\n",
        "    s = s.lower() # convert to lowercase\n",
        "    s = ''.join(c for c in s if c.isalnum()) # remove non-alphanumeric characters\n",
        "    return s == s[::-1]\n",
        "\n",
        "# example usage\n",
        "s1 = \"A man, a plan, a canal: Panama\"\n",
        "s2 = \"race a car\"\n",
        "print(is_palindrome(s1))\n",
        "print(is_palindrome(s2))"
      ],
      "metadata": {
        "colab": {
          "base_uri": "https://localhost:8080/"
        },
        "id": "wHCHtPUccFqa",
        "outputId": "45fda47b-8fe1-4fac-90e0-1a8f2f89a6fb"
      },
      "execution_count": null,
      "outputs": [
        {
          "output_type": "stream",
          "name": "stdout",
          "text": [
            "True\n",
            "False\n"
          ]
        }
      ]
    },
    {
      "cell_type": "markdown",
      "source": [
        "### **Remove adjacent duplicate characters from a string Using Recursion**"
      ],
      "metadata": {
        "id": "BeKOd9hgcN07"
      }
    },
    {
      "cell_type": "code",
      "source": [
        "def remove_adjacent_duplicates(s):\n",
        "\n",
        "    result = []\n",
        "    for c in s:\n",
        "        if not result or c != result[-1]:\n",
        "            result.append(c)\n",
        "    return ''.join(result)\n",
        "\n",
        "# example usage\n",
        "s = \"abbaca\"\n",
        "print(remove_adjacent_duplicates(s))"
      ],
      "metadata": {
        "colab": {
          "base_uri": "https://localhost:8080/"
        },
        "id": "OHY1vRoMcTky",
        "outputId": "4e77c57b-daea-456e-ea42-d23b3e031127"
      },
      "execution_count": null,
      "outputs": [
        {
          "output_type": "stream",
          "name": "stdout",
          "text": [
            "abaca\n"
          ]
        }
      ]
    },
    {
      "cell_type": "markdown",
      "source": [
        "### **Maximum Product Subset Problem Using Recursion**"
      ],
      "metadata": {
        "id": "gPGU2e_CcnC2"
      }
    },
    {
      "cell_type": "code",
      "source": [
        "def max_product_subset(arr):\n",
        "\n",
        "    n = len(arr)\n",
        "    if n == 1:\n",
        "        return arr[0]\n",
        "    count_neg = count_zero = 0\n",
        "    min_neg = float('inf')\n",
        "    prod = 1\n",
        "    for i in range(n):\n",
        "        if arr[i] == 0:\n",
        "            count_zero += 1\n",
        "            continue\n",
        "        if arr[i] < 0:\n",
        "            count_neg += 1\n",
        "            min_neg = min(min_neg, abs(arr[i]))\n",
        "        prod *= arr[i]\n",
        "    if count_zero == n:\n",
        "        return 0\n",
        "    if count_neg % 2 == 0:\n",
        "        return prod\n",
        "    if count_neg == 1 and count_zero > 0 and count_zero + count_neg == n:\n",
        "        return 0\n",
        "    return prod // min_neg\n",
        "\n",
        "# example usage\n",
        "arr1 = [1, -2, -3, 0, 7, -8, -2]\n",
        "arr2 = [-1, -1, -2, 4, 3]\n",
        "arr3 = [0, 0, 0]\n",
        "print(max_product_subset(arr1))\n",
        "print(max_product_subset(arr2))\n",
        "print(max_product_subset(arr3))\n"
      ],
      "metadata": {
        "colab": {
          "base_uri": "https://localhost:8080/"
        },
        "id": "XetK0P6Scrgt",
        "outputId": "80f58172-c7f4-4c85-8387-f57a05622ff1"
      },
      "execution_count": null,
      "outputs": [
        {
          "output_type": "stream",
          "name": "stdout",
          "text": [
            "672\n",
            "-24\n",
            "0\n"
          ]
        }
      ]
    },
    {
      "cell_type": "markdown",
      "source": [
        "### **Maximum Product Subset Problem**"
      ],
      "metadata": {
        "id": "1YgdwaxLdS_i"
      }
    },
    {
      "cell_type": "code",
      "source": [
        "def max_product_subset(arr):\n",
        "    \"\"\"\n",
        "    Returns the maximum product that can be obtained from a subset of the given array.\n",
        "    \"\"\"\n",
        "    n = len(arr)\n",
        "\n",
        "    # Count the number of negative elements, positive elements, and zeros in the array\n",
        "    negative_count = 0\n",
        "    positive_count = 0\n",
        "    zero_count = 0\n",
        "    for i in range(n):\n",
        "        if arr[i] < 0:\n",
        "            negative_count += 1\n",
        "        elif arr[i] > 0:\n",
        "            positive_count += 1\n",
        "        else:\n",
        "            zero_count += 1\n",
        "\n",
        "    # If there are no positive elements and at most one zero, return the maximum negative element\n",
        "    if positive_count == 0:\n",
        "        if zero_count == 1:\n",
        "            return 0\n",
        "        else:\n",
        "            return max(arr)\n",
        "\n",
        "    # If there are no negative elements, return the product of all positive elements\n",
        "    if negative_count == 0:\n",
        "        product = 1\n",
        "        for i in range(n):\n",
        "            product *= arr[i]\n",
        "        return product\n",
        "\n",
        "    # If there are both positive and negative elements, calculate the product of all positive elements\n",
        "    # and the product of all negative elements except the absolute value of the smallest one\n",
        "    max_neg = float('-inf')\n",
        "    min_pos = float('inf')\n",
        "    neg_product = 1\n",
        "    pos_product = 1\n",
        "    for i in range(n):\n",
        "        if arr[i] < 0:\n",
        "            neg_product *= arr[i]\n",
        "            if arr[i] > max_neg:\n",
        "                max_neg = arr[i]\n",
        "        elif arr[i] > 0:\n",
        "            pos_product *= arr[i]\n",
        "            if arr[i] < min_pos:\n",
        "                min_pos = arr[i]\n",
        "    if negative_count % 2 == 0:\n",
        "        return pos_product * neg_product\n",
        "    else:\n",
        "        return (pos_product // min_pos) * neg_product * max_neg"
      ],
      "metadata": {
        "id": "FgM2f35Vgc90"
      },
      "execution_count": null,
      "outputs": []
    },
    {
      "cell_type": "code",
      "source": [
        "# Example 1\n",
        "arr = [1, -2, -3, 0, 7, -8, -2]\n",
        "print(max_product_subset(arr))\n",
        "\n",
        "# Example 2\n",
        "arr = [-1, -1, -2, 4, 3]\n",
        "print(max_product_subset(arr))\n",
        "\n",
        "# Example 3\n",
        "arr = [0, 0, 0, 0, 0]\n",
        "print(max_product_subset(arr))"
      ],
      "metadata": {
        "colab": {
          "base_uri": "https://localhost:8080/"
        },
        "id": "dysWcEcXghv9",
        "outputId": "46bc0dee-1277-41c3-b351-28037532f325"
      },
      "execution_count": null,
      "outputs": [
        {
          "output_type": "stream",
          "name": "stdout",
          "text": [
            "672\n",
            "8\n",
            "0\n"
          ]
        }
      ]
    },
    {
      "cell_type": "markdown",
      "source": [
        "### **Medium Level**"
      ],
      "metadata": {
        "id": "o6uH-omDgp0v"
      }
    },
    {
      "cell_type": "markdown",
      "source": [
        "### **Check if a repeated subsequence is present in a string or not**"
      ],
      "metadata": {
        "id": "JXTzrSpDgu6Y"
      }
    },
    {
      "cell_type": "code",
      "source": [
        "def repeated_subsequence(s):\n",
        "    \"\"\"\n",
        "    Returns True if a repeated subsequence is present in the given string s, False otherwise.\n",
        "    \"\"\"\n",
        "    n = len(s)\n",
        "\n",
        "    # Create a 2D array to store the lengths of longest repeated subsequences\n",
        "    dp = [[0] * (n+1) for i in range(n+1)]\n",
        "\n",
        "    # Fill the 2D array using dynamic programming\n",
        "    for i in range(1, n+1):\n",
        "        for j in range(1, n+1):\n",
        "            if s[i-1] == s[j-1] and i != j:\n",
        "                dp[i][j] = 1 + dp[i-1][j-1]\n",
        "            else:\n",
        "                dp[i][j] = max(dp[i-1][j], dp[i][j-1])\n",
        "\n",
        "    # If the length of the longest repeated subsequence is greater than 1, a repeated subsequence is present\n",
        "    if dp[n][n] > 1:\n",
        "        return True\n",
        "    else:\n",
        "        return False"
      ],
      "metadata": {
        "id": "LCZmPTsNg28Q"
      },
      "execution_count": null,
      "outputs": []
    },
    {
      "cell_type": "code",
      "source": [
        "# Example 1\n",
        "s = \"ABCD\"\n",
        "print(repeated_subsequence(s))\n",
        "\n",
        "# Example 2\n",
        "s = \"AAB\"\n",
        "print(repeated_subsequence(s))\n",
        "\n",
        "# Example 3\n",
        "s = \"ABB\"\n",
        "print(repeated_subsequence(s))"
      ],
      "metadata": {
        "colab": {
          "base_uri": "https://localhost:8080/"
        },
        "id": "bY_PbJHQhN-f",
        "outputId": "35eb197b-624b-4fba-c4b1-bbcd20a2511e"
      },
      "execution_count": null,
      "outputs": [
        {
          "output_type": "stream",
          "name": "stdout",
          "text": [
            "False\n",
            "False\n",
            "False\n"
          ]
        }
      ]
    },
    {
      "cell_type": "markdown",
      "source": [
        "### **Find all strings of a given length containing balanced parentheses**"
      ],
      "metadata": {
        "id": "D6BHf5-3hfha"
      }
    },
    {
      "cell_type": "code",
      "source": [
        "def balanced_parentheses(n):\n",
        "\n",
        "    if n == 0:\n",
        "        return ['']\n",
        "\n",
        "    result = []\n",
        "    for i in range(n):\n",
        "        for left in balanced_parentheses(i):\n",
        "            for right in balanced_parentheses(n-i-1):\n",
        "                result.append('({}){}'.format(left, right))\n",
        "\n",
        "    return result"
      ],
      "metadata": {
        "id": "U5WYoGJkhh-A"
      },
      "execution_count": null,
      "outputs": []
    },
    {
      "cell_type": "code",
      "source": [
        "# Example 1\n",
        "n = 1\n",
        "print(balanced_parentheses(n))\n",
        "\n",
        "# Example 2\n",
        "n = 2\n",
        "print(balanced_parentheses(n))\n",
        "\n",
        "# Example 3\n",
        "n = 3\n",
        "print(balanced_parentheses(n))"
      ],
      "metadata": {
        "colab": {
          "base_uri": "https://localhost:8080/"
        },
        "id": "gHTMba00hna1",
        "outputId": "752171a3-877d-4923-be9d-813441c04811"
      },
      "execution_count": null,
      "outputs": [
        {
          "output_type": "stream",
          "name": "stdout",
          "text": [
            "['()']\n",
            "['()()', '(())']\n",
            "['()()()', '()(())', '(())()', '(()())', '((()))']\n"
          ]
        }
      ]
    },
    {
      "cell_type": "markdown",
      "source": [
        "### **Find a triplet with the given sum in an array**"
      ],
      "metadata": {
        "id": "NsXHrzzSh3Ol"
      }
    },
    {
      "cell_type": "code",
      "source": [
        "def find_triplet(arr, target):\n",
        "\n",
        "    n = len(arr)\n",
        "    arr.sort()\n",
        "\n",
        "    for i in range(n-2):\n",
        "        left = i+1\n",
        "        right = n-1\n",
        "        while left < right:\n",
        "            curr_sum = arr[i] + arr[left] + arr[right]\n",
        "            if curr_sum == target:\n",
        "                return (arr[i], arr[left], arr[right])\n",
        "            elif curr_sum < target:\n",
        "                left += 1\n",
        "            else:\n",
        "                right -= 1\n",
        "\n",
        "    return None"
      ],
      "metadata": {
        "id": "mf2BLAgYh5tw"
      },
      "execution_count": null,
      "outputs": []
    },
    {
      "cell_type": "code",
      "source": [
        "# Example 1\n",
        "arr = [1, 2, 3, 4, 5]\n",
        "target = 9\n",
        "print(find_triplet(arr, target))\n",
        "\n",
        "# Example 2\n",
        "arr = [1, 2, 3, 4, 5]\n",
        "target = 10\n",
        "print(find_triplet(arr, target))\n",
        "\n",
        "# Example 3\n",
        "arr = [3, 5, 2, 8, 11, 7]\n",
        "target = 23\n",
        "print(find_triplet(arr, target))"
      ],
      "metadata": {
        "colab": {
          "base_uri": "https://localhost:8080/"
        },
        "id": "t5TCHD-9h_S-",
        "outputId": "c6fa924d-c37f-4561-e620-7320e5f5cc27"
      },
      "execution_count": null,
      "outputs": [
        {
          "output_type": "stream",
          "name": "stdout",
          "text": [
            "(1, 3, 5)\n",
            "(1, 4, 5)\n",
            "(5, 7, 11)\n"
          ]
        }
      ]
    },
    {
      "cell_type": "markdown",
      "source": [
        "### **Generate the power set of a given set**"
      ],
      "metadata": {
        "id": "xhI4V6HsiTBB"
      }
    },
    {
      "cell_type": "code",
      "source": [
        "def power_set(s):\n",
        "\n",
        "    if len(s) == 0:\n",
        "        return [set()]\n",
        "    else:\n",
        "        lst = list(s)\n",
        "        subsets = power_set(lst[:-1])\n",
        "        return subsets + [subset.union(set([lst[-1]])) for subset in subsets]"
      ],
      "metadata": {
        "id": "T1FXNaAniueM"
      },
      "execution_count": null,
      "outputs": []
    },
    {
      "cell_type": "code",
      "source": [
        "# Example 1\n",
        "s = set([1, 2, 3])\n",
        "print(power_set(s))\n",
        "\n",
        "# Example 2\n",
        "s = set(['a', 'b', 'c'])\n",
        "print(power_set(s))"
      ],
      "metadata": {
        "colab": {
          "base_uri": "https://localhost:8080/"
        },
        "id": "n5XRGWNKi2Tn",
        "outputId": "c38d494b-71a3-43d1-b07d-45a957b83403"
      },
      "execution_count": null,
      "outputs": [
        {
          "output_type": "stream",
          "name": "stdout",
          "text": [
            "[set(), {1}, {2}, {1, 2}, {3}, {1, 3}, {2, 3}, {1, 2, 3}]\n",
            "[set(), {'a'}, {'c'}, {'a', 'c'}, {'b'}, {'a', 'b'}, {'c', 'b'}, {'a', 'c', 'b'}]\n"
          ]
        }
      ]
    },
    {
      "cell_type": "markdown",
      "source": [
        "### **Print matrix in spiral order**"
      ],
      "metadata": {
        "id": "hJyJ4inOjISJ"
      }
    },
    {
      "cell_type": "code",
      "source": [
        "def spiral_print(matrix, row_start, row_end, col_start, col_end):\n",
        "\n",
        "    # Base case: if the row or column boundaries cross or meet, we are done\n",
        "    if row_start >= row_end or col_start >= col_end:\n",
        "        return\n",
        "\n",
        "    # Print the first row from left to right\n",
        "    for j in range(col_start, col_end):\n",
        "        print(matrix[row_start][j], end=' ')\n",
        "\n",
        "    # Print the last column from top to bottom\n",
        "    for i in range(row_start+1, row_end):\n",
        "        print(matrix[i][col_end-1], end=' ')\n",
        "\n",
        "    # Print the last row from right to left\n",
        "    for j in range(col_end-2, col_start-1, -1):\n",
        "        print(matrix[row_end-1][j], end=' ')\n",
        "\n",
        "    # Print the first column from bottom to top\n",
        "    for i in range(row_end-2, row_start, -1):\n",
        "        print(matrix[i][col_start], end=' ')\n",
        "\n",
        "    # Recursively print the remaining submatrix\n",
        "    spiral_print(matrix, row_start+1, row_end-1, col_start+1, col_end-1)"
      ],
      "metadata": {
        "id": "SNFd71PfjK2A"
      },
      "execution_count": null,
      "outputs": []
    },
    {
      "cell_type": "code",
      "source": [
        "# Example 1\n",
        "matrix2 = [\n",
        "    [1, 2, 3, 4],\n",
        "    [5, 6, 7, 8],\n",
        "    [9, 10, 11, 12]\n",
        "]\n",
        "spiral_print(matrix2, 0, len(matrix2), 0, len(matrix2[0]))\n",
        "# Output: 1 2 3 4 8 12 11 10 9 5 6 7\n"
      ],
      "metadata": {
        "colab": {
          "base_uri": "https://localhost:8080/"
        },
        "id": "Y_PVYIgGjXI-",
        "outputId": "1a447665-efb2-4b61-b283-651dbe9b73f2"
      },
      "execution_count": null,
      "outputs": [
        {
          "output_type": "stream",
          "name": "stdout",
          "text": [
            "1 2 3 4 8 12 11 10 9 5 6 7 6 "
          ]
        }
      ]
    },
    {
      "cell_type": "markdown",
      "source": [
        "**Hard Level**"
      ],
      "metadata": {
        "id": "hg8RmFmbjlQn"
      }
    },
    {
      "cell_type": "markdown",
      "source": [
        "### **Find all n-digit numbers with a given sum of digits**"
      ],
      "metadata": {
        "id": "Rje3iJdajorP"
      }
    },
    {
      "cell_type": "code",
      "source": [
        "def n_digit_numbers_sum(n, s, num=''):\n",
        "    if n == 0:\n",
        "        if s == 0:\n",
        "            return [num]\n",
        "        else:\n",
        "            return []\n",
        "    res = []\n",
        "    for i in range(10):\n",
        "        if s - i >= 0:\n",
        "            res += n_digit_numbers_sum(n-1, s-i, num+str(i))\n",
        "    return res"
      ],
      "metadata": {
        "id": "XGIh3Y8vj2Tm"
      },
      "execution_count": null,
      "outputs": []
    },
    {
      "cell_type": "code",
      "source": [
        "# Example\n",
        "n = 3\n",
        "s = 6\n",
        "print(n_digit_numbers_sum(n, s))"
      ],
      "metadata": {
        "colab": {
          "base_uri": "https://localhost:8080/"
        },
        "id": "6mxRRqwmj8OH",
        "outputId": "8e15cd60-f63c-4a68-9177-6bd18e12e7ba"
      },
      "execution_count": null,
      "outputs": [
        {
          "output_type": "stream",
          "name": "stdout",
          "text": [
            "['006', '015', '024', '033', '042', '051', '060', '105', '114', '123', '132', '141', '150', '204', '213', '222', '231', '240', '303', '312', '321', '330', '402', '411', '420', '501', '510', '600']\n"
          ]
        }
      ]
    },
    {
      "cell_type": "markdown",
      "source": [
        "### **Number to word conversion**"
      ],
      "metadata": {
        "id": "hNEAffoUkApI"
      }
    },
    {
      "cell_type": "code",
      "source": [
        "def number_to_words(num):\n",
        "    if num == 0:\n",
        "        return 'Zero'\n",
        "    ones = ['','One','Two','Three','Four','Five','Six','Seven','Eight','Nine']\n",
        "    tens = ['','','Twenty','Thirty','Forty','Fifty','Sixty','Seventy','Eighty','Ninety']\n",
        "    teens = ['Ten','Eleven','Twelve','Thirteen','Fourteen','Fifteen','Sixteen','Seventeen','Eighteen','Nineteen']\n",
        "    thousands = ['','Thousand','Million','Billion','Trillion']\n",
        "\n",
        "    def convert_below_1000(n):\n",
        "        if n == 0:\n",
        "            return ''\n",
        "        elif n < 10:\n",
        "            return ones[n]\n",
        "        elif n < 20:\n",
        "            return teens[n-10]\n",
        "        elif n < 100:\n",
        "            return tens[n//10] + ' ' + ones[n%10]\n",
        "        else:\n",
        "            return ones[n//100] + ' Hundred ' + convert_below_1000(n%100)\n",
        "\n",
        "    words = ''\n",
        "    i = 0\n",
        "    while num > 0:\n",
        "        if num % 1000 != 0:\n",
        "            words = convert_below_1000(num % 1000) + thousands[i] + ' ' + words\n",
        "        num //= 1000\n",
        "        i += 1\n",
        "    return words.strip()"
      ],
      "metadata": {
        "id": "par63xsgkIDZ"
      },
      "execution_count": null,
      "outputs": []
    },
    {
      "cell_type": "code",
      "source": [
        "# Example\n",
        "num = 123456789\n",
        "print(number_to_words(num))"
      ],
      "metadata": {
        "colab": {
          "base_uri": "https://localhost:8080/"
        },
        "id": "HEEpYwOtkRSC",
        "outputId": "47580743-4268-493e-a956-d6035dfcf8e4"
      },
      "execution_count": null,
      "outputs": [
        {
          "output_type": "stream",
          "name": "stdout",
          "text": [
            "One Hundred Twenty ThreeMillion Four Hundred Fifty SixThousand Seven Hundred Eighty Nine\n"
          ]
        }
      ]
    },
    {
      "cell_type": "markdown",
      "source": [
        "### **Add elements of two arrays into a new array**"
      ],
      "metadata": {
        "id": "CM4ECWBJkXKt"
      }
    },
    {
      "cell_type": "code",
      "source": [
        "def add_arrays(arr1, arr2):\n",
        "    if len(arr1) != len(arr2):\n",
        "        return \"Arrays must have the same length\"\n",
        "    result = []\n",
        "    for i in range(len(arr1)):\n",
        "        result.append(arr1[i] + arr2[i])\n",
        "    return result"
      ],
      "metadata": {
        "id": "G6UUrO34kfko"
      },
      "execution_count": null,
      "outputs": []
    },
    {
      "cell_type": "code",
      "source": [
        "arr1 = [1, 2, 3, 4]\n",
        "arr2 = [5, 6, 7, 8]\n",
        "print(add_arrays(arr1, arr2))\n",
        "\n",
        "arr3 = [1, 2, 3]\n",
        "arr4 = [4, 5, 6, 7]\n",
        "print(add_arrays(arr3, arr4))"
      ],
      "metadata": {
        "colab": {
          "base_uri": "https://localhost:8080/"
        },
        "id": "DizH2qP9kiDa",
        "outputId": "33781a4b-906f-4f05-b440-34d343327b0a"
      },
      "execution_count": null,
      "outputs": [
        {
          "output_type": "stream",
          "name": "stdout",
          "text": [
            "[6, 8, 10, 12]\n",
            "Arrays must have the same length\n"
          ]
        }
      ]
    },
    {
      "cell_type": "markdown",
      "source": [
        "### **Print all combinations of positive integers in increasing order that sums to a given number**"
      ],
      "metadata": {
        "id": "BgAoMy_7ksNt"
      }
    },
    {
      "cell_type": "code",
      "source": [
        "def print_combinations(target_sum, current_sum, start_num, combination):\n",
        "    if current_sum == target_sum:\n",
        "        print(combination)\n",
        "    elif current_sum > target_sum:\n",
        "        return\n",
        "    else:\n",
        "        for i in range(start_num, target_sum - current_sum + 1):\n",
        "            print_combinations(target_sum, current_sum+i, i, combination+[i])\n",
        "\n",
        "\n",
        "# Example usage:\n",
        "print_combinations(5, 0, 1, [])"
      ],
      "metadata": {
        "colab": {
          "base_uri": "https://localhost:8080/"
        },
        "id": "ttlPMzNgk3I9",
        "outputId": "5ffea3aa-1507-4016-8713-806e0014b3fb"
      },
      "execution_count": null,
      "outputs": [
        {
          "output_type": "stream",
          "name": "stdout",
          "text": [
            "[1, 1, 1, 1, 1]\n",
            "[1, 1, 1, 2]\n",
            "[1, 1, 3]\n",
            "[1, 2, 2]\n",
            "[1, 4]\n",
            "[2, 3]\n",
            "[5]\n"
          ]
        }
      ]
    },
    {
      "cell_type": "markdown",
      "source": [
        "# **Try it Yourself 📃**\n",
        "\n",
        "Are you ready to put your coding skills to the test and gain practical knowledge? We have some exciting coding questions waiting for you to solve! 🚀\n",
        "\n",
        "Your task is to attempt the coding questions associated with this lesson. These challenges have been thoughtfully designed to reinforce your understanding of the concepts covered in the course. You can find them in your dashboard under this lesson.\n",
        "\n",
        "Don't be shy! Share your findings, experiences, and any insights you gained while tackling these coding questions on the AlmaBetter community platform. Engage in discussions, help each other out, and celebrate your victories together!\n",
        "\n",
        "Remember, coding is not just about learning theory; it's about applying that knowledge to solve real-world problems. So, dive in, experiment, and have fun while honing your coding skills!\n",
        "Let's learn, grow, and inspire each other as a vibrant community of passionate learners. Happy coding! 💻 😊"
      ],
      "metadata": {
        "id": "gs3OZOsZzd8W"
      }
    },
    {
      "cell_type": "markdown",
      "source": [
        "## **Task 1:**"
      ],
      "metadata": {
        "id": "dcEVML5Pug8o"
      }
    },
    {
      "cell_type": "markdown",
      "source": [
        "###**Activity 1**\n",
        "\n",
        "Display of Array with recursion and Reverse Display of Array with recursion\n",
        "\n",
        "To display an array in it's original order using recursion, we can define a recursive function that takes the array and the index of the current element as arguments. The function will print the current element and call itself recursively, passing the index of the next element as an argument until the end of the array is reached.\n",
        "\n",
        "Here is an example of how this can be implemented in Python:\n"
      ],
      "metadata": {
        "id": "-Tsb8tOKxljN"
      }
    },
    {
      "cell_type": "code",
      "source": [
        "# Your code here\n",
        "#Display of array\n",
        "def disp_arr(arr,index):\n",
        "  if index==len(arr):\n",
        "    return\n",
        "  else:\n",
        "    print(arr[index])\n",
        "    disp_arr(arr,index+1)\n",
        "\n",
        "my_array=[1,2,3,4,5,6,7]\n",
        "print(disp_arr(my_array,0))"
      ],
      "metadata": {
        "id": "YehSsRdKznIO",
        "outputId": "86f42567-9321-4068-cd51-e6c22ddc826d",
        "colab": {
          "base_uri": "https://localhost:8080/"
        }
      },
      "execution_count": 7,
      "outputs": [
        {
          "output_type": "stream",
          "name": "stdout",
          "text": [
            "1\n",
            "2\n",
            "3\n",
            "4\n",
            "5\n",
            "6\n",
            "7\n",
            "None\n"
          ]
        }
      ]
    },
    {
      "cell_type": "code",
      "source": [
        "#Reverse of a array\n",
        "def rev_arr(arr,index):\n",
        "  if index == 0:\n",
        "    print(arr[index])\n",
        "    return\n",
        "  else:\n",
        "    print(arr[index])\n",
        "    rev_arr(arr,index-1)\n",
        "\n",
        "my_array=[1,2,3,4,5,6,7]\n",
        "disp_arr(my_array,len(my_array)-1)"
      ],
      "metadata": {
        "id": "5RuKlPSVa5HG",
        "outputId": "a8620aad-eac4-47a0-d55f-ecdbd9c804e4",
        "colab": {
          "base_uri": "https://localhost:8080/"
        }
      },
      "execution_count": 19,
      "outputs": [
        {
          "output_type": "stream",
          "name": "stdout",
          "text": [
            "7\n"
          ]
        }
      ]
    },
    {
      "cell_type": "code",
      "source": [
        "def rev_arr(arr, index):\n",
        "    if index == 0:\n",
        "        print(arr[index])\n",
        "        return\n",
        "    else:\n",
        "        print(arr[index])\n",
        "        rev_arr(arr, index - 1)\n",
        "\n",
        "my_array = [1, 2, 3, 4, 5, 6, 7]\n",
        "rev_arr(my_array, len(my_array) - 1)"
      ],
      "metadata": {
        "id": "rRtFCei9kNas",
        "outputId": "74a67876-4c6b-4ad2-8c2e-c646768b6aa9",
        "colab": {
          "base_uri": "https://localhost:8080/"
        }
      },
      "execution_count": 18,
      "outputs": [
        {
          "output_type": "stream",
          "name": "stdout",
          "text": [
            "7\n",
            "6\n",
            "5\n",
            "4\n",
            "3\n",
            "2\n",
            "1\n"
          ]
        }
      ]
    },
    {
      "cell_type": "markdown",
      "source": [
        "###**Activity 2:**\n",
        "Find Data In Array Using Recursion\n",
        "\n",
        "To search for data in an array using recursion, you need to define a recursive function that takes a box 📦, its length 📏, and a magnifying glass 🔍 as arguments. The function will check if the length 📏 is less than or equal to 0, return a cross mark ❌. If the first element of the box is equal to the magnifying glass , return a check mark ✅. Otherwise, call the function recursively with the box sliced from the second element to the end of the the new length (length - 1), and the magnifying glass . Repeat this process 🔁 until the magnifying glass is found or the length becomes 0. Finally, if the magnifying glass is not found after all recursive calls, return a cross mark ❌."
      ],
      "metadata": {
        "id": "Z6j15df60w36"
      }
    },
    {
      "cell_type": "code",
      "source": [
        "# Your code here\n",
        "def find_ele(arr,len,key):\n",
        "  #Base Case\n",
        "  if len<=0:\n",
        "    return False\n",
        "  elif arr[0]==key:\n",
        "    return True\n",
        "  else:\n",
        "    return find_ele(arr[1:],len-1,key)\n",
        "\n",
        "\n",
        "\n",
        "my_array=[1,2,3,4,5,6,7,8]\n",
        "key=8\n",
        "find_ele(my_array,len(my_array),8)"
      ],
      "metadata": {
        "id": "J6hfhgd804cu",
        "outputId": "5b89f936-4308-42c2-ce9e-e6d8e72fa43e",
        "colab": {
          "base_uri": "https://localhost:8080/"
        }
      },
      "execution_count": 11,
      "outputs": [
        {
          "output_type": "execute_result",
          "data": {
            "text/plain": [
              "True"
            ]
          },
          "metadata": {},
          "execution_count": 11
        }
      ]
    },
    {
      "cell_type": "markdown",
      "source": [
        "###**Activity 3:**\n",
        "Board Path Using Recursion\n",
        "\n",
        "🎲🕹️ Imagine you are playing a game on a 4x4 game board. You start at the top-left corner and your goal is to reach the bottom-right corner. However, there are obstacles on some of the squares that you cannot step on. To make matters worse, you can only move down or right on the board.\n",
        "\n",
        "👉 Your task is to write a Python function that uses recursion to count the number of possible paths to reach the bottom-right corner from the top-left corner of the board while avoiding the obstacles.\n",
        "\n",
        "🧩 Here's an example of the game board:"
      ],
      "metadata": {
        "id": "5qr3G4T81J70"
      }
    },
    {
      "cell_type": "code",
      "source": [
        "  S   1   2   3\n",
        "1 O   O   O   X\n",
        "2 X   O   O   X\n",
        "3 O   O   O   O\n",
        "4 X   X   O   E\n"
      ],
      "metadata": {
        "id": "FiZoTz5n1T6A"
      },
      "execution_count": null,
      "outputs": []
    },
    {
      "cell_type": "markdown",
      "source": [
        "* S: Starting point\n",
        "* E: Ending point\n",
        "* X: Obstacle\n",
        "* O: Accessible square\n",
        "\n",
        "👨‍💻 Your function should take in the game board as a 2D array and return the total number of possible paths. Here's a sample input and output:"
      ],
      "metadata": {
        "id": "3dTOAoax1YjE"
      }
    },
    {
      "cell_type": "code",
      "source": [
        "def find_paths(board):\n",
        "  #Your code here\n",
        "\n",
        "\n",
        "# Example Usage\n",
        "board = [[0, 0, 0, 0],\n",
        "         [1, 1, 0, 1],\n",
        "         [0, 0, 0, 0],\n",
        "         [1, 1, 0, 0]]\n",
        "\n",
        "find_paths(board) ## ➞ 3"
      ],
      "metadata": {
        "id": "7_Car79pz9Fy"
      },
      "execution_count": null,
      "outputs": []
    },
    {
      "cell_type": "markdown",
      "source": [
        "👉 In the above example, there are three possible paths to reach the end without stepping on any obstacles:\n",
        "\n",
        "(0,0) -> (1,0) -> (2,0) -> (2,1) -> (2,2) -> (3,2) -> (3,3)\n",
        "(0,0) -> (1,0) -> (2,0) -> (2,1) -> (2,2) -> (2,3) -> (3,3)\n",
        "(0,0) -> (0,1) -> (1,1) -> (2,1) -> (2,2) -> (3,2) -> (3,3)\n",
        "🏆 Good luck!"
      ],
      "metadata": {
        "id": "RljE-cM91wfd"
      }
    },
    {
      "cell_type": "markdown",
      "source": [
        "###**Activity 4:** Salary Combinations 💰 💰\n",
        "\n",
        "A company has a list of employees and their respective salaries. The HR department wants to generate a report of all possible salary combinations that could be given to a group of employees. The report should include all possible combinations of salaries for groups of employees with the same total salary. Using recursion in Python, write a function to generate this report.\n",
        "\n",
        "For example, suppose the company has 5 employees with the following salaries: [2000, 3000, 3500, 4000, 4500]. One possible report could be:"
      ],
      "metadata": {
        "id": "aUrt_Mj23G2l"
      }
    },
    {
      "cell_type": "code",
      "source": [
        "\n",
        "Total Salary: 4500\n",
        "Employee Salaries: [4500]\n",
        "Employee Salaries: [3000, 1500]\n",
        "Employee Salaries: [3500, 1000]\n",
        "Employee Salaries: [2000, 2000, 1500]\n",
        "Employee Salaries: [2000, 1500, 1500, 1500]"
      ],
      "metadata": {
        "id": "ghHsU6Qu3HdZ"
      },
      "execution_count": null,
      "outputs": []
    },
    {
      "cell_type": "markdown",
      "source": [
        "Write a function that takes in a list of employee salaries and generates a report of all possible salary combinations with the same total salary using recursion in Python."
      ],
      "metadata": {
        "id": "ZcCRD4oy3RjJ"
      }
    },
    {
      "cell_type": "markdown",
      "source": [
        "## **Task 2:**"
      ],
      "metadata": {
        "id": "_rhE72U1udMP"
      }
    },
    {
      "cell_type": "markdown",
      "source": [
        "**🔵 Share your approach to a challenge in the AlmaBetter Community Platform if it is different from the solution given.**"
      ],
      "metadata": {
        "id": "SjaBeCJsbvwG"
      }
    }
  ]
}