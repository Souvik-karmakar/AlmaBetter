{
  "nbformat": 4,
  "nbformat_minor": 0,
  "metadata": {
    "colab": {
      "provenance": [],
      "collapsed_sections": [
        "BMTPNLgaMXM_"
      ]
    },
    "kernelspec": {
      "name": "python3",
      "display_name": "Python 3"
    },
    "language_info": {
      "name": "python"
    }
  },
  "cells": [
    {
      "cell_type": "markdown",
      "source": [
        "## **Session Flow:**\n"
      ],
      "metadata": {
        "id": "6-tnoLftLy-c"
      }
    },
    {
      "cell_type": "markdown",
      "source": [
        "👨🏻‍🎓 Learning Objective:\n",
        "\n",
        "* Introduction\n",
        "* Theme\n",
        "* Primary Goals\n",
        "\n",
        "Introduction to Custom Functions 🚀💻🤖\n",
        "\n",
        "- Understanding the concept and significance of custom functions in programming.\n",
        "- Benefits of using custom functions for code organization and reusability.\n",
        "- Real-world examples highlighting the importance of custom functions.\n",
        "* Activity 1\n",
        "\n",
        "Defining and Calling Custom Functions in Python 🔧💪📞\n",
        "\n",
        "- Syntax for creating user-defined functions in Python.\n",
        "- Utilizing function names, parameters, and indentation to define functions.\n",
        "- Calling custom functions to execute code blocks.\n",
        "* Activity 2\n",
        "* Activity 3\n",
        "\n",
        "Working with Arguments and Return Values 🔍👀\n",
        "\n",
        "- Exploring the flexibility of passing arguments to functions.\n",
        "- Understanding the use of return statements to yield values from functions.\n",
        "- Practical applications of arguments and return values in different scenarios.\n",
        "\n",
        "Best Practices for Designing Custom Functions 📏📝✨\n",
        "\n",
        "- Guidelines for writing clean, efficient, and readable functions.\n",
        "- Choosing meaningful names for functions and parameters.\n",
        "- Employing comments and docstrings for better documentation.\n",
        "\n",
        "Pitfalls to Avoid When Using Custom Functions 🚫💣⚠️\n",
        "\n",
        "- Common errors and mistakes in custom function implementation.\n",
        "- Strategies for debugging and troubleshooting functions.\n",
        "- Techniques to handle exceptions and ensure smooth function execution.\n",
        "\n",
        "Application: Creating Your Own Custom Functions 👨‍💻🔧🚀\n",
        "\n",
        "- Putting theory into practice by designing and implementing custom functions.\n",
        "- Building custom functions to solve specific programming challenges.\n",
        "- Encouraging creativity and experimentation to reinforce learning.\n",
        "\n",
        "\n",
        "📝 Summary\n",
        "\n",
        "* What did we learn?\n",
        "* Shortcomings & Challenges\n",
        "* Best Practices & Tips\n",
        "\n",
        "🔗 Enhance your Knowledge\n",
        "\n",
        "* Mnemonic\n",
        "* Additional Resources\n",
        "\n",
        "🔍 Try it Yourself\n",
        "\n",
        "* Activities\n",
        "* Social Engagement"
      ],
      "metadata": {
        "id": "pvlBkgynL2cs"
      }
    },
    {
      "cell_type": "markdown",
      "source": [
        "# **👨🏻‍🎓 Learning Objective 👨🏻‍🎓**"
      ],
      "metadata": {
        "id": "BMTPNLgaMXM_"
      }
    },
    {
      "cell_type": "markdown",
      "source": [
        "###**Introduction**\n",
        "👋 Welcome, students! Today, we'll be diving into the exciting world of custom functions! 💻🤖 Functions are like building blocks in programming, and mastering them is essential for writing efficient and reusable code. In this lesson, we'll cover how to define your own custom functions in Python, how to pass arguments to them, and how to return values. We'll also explore best practices for designing and naming functions, as well as some common pitfalls to avoid. By the end of this lesson, you'll have a solid understanding of functions and be ready to start creating your own custom functions! 🔧💪🚀\n",
        "\n",
        "\n",
        "* Class Duration: 2 hour\n",
        "* Assignment Duration: 1 hour\n",
        "* Focus: Custom functions, scope of functions, Introduction to Recursion\n",
        "\n",
        "### 🎯 **Theme:**\n",
        "\n",
        "In the lesson \"Custom Functions,\" you will gain a comprehensive understanding of the concept and significance of custom functions in programming. You will learn how to define and call custom functions in Python, allowing you to efficiently organize and reuse code. Discover the versatility of passing arguments to functions and returning values to enhance the functionality of your programs. Explore best practices for designing and naming custom functions, ensuring code clarity and maintainability. Additionally, you will identify and steer clear of common pitfalls when working with custom functions, ensuring robust and error-free code. Finally, apply your newfound knowledge to unleash your creativity and build your own custom functions, empowering you to elevate your programming skills and embark on exciting coding adventures!\n",
        "\n",
        "###**Primary Goals**\n",
        "\n",
        "* Understand the concept of custom functions and their importance in programming. 💻🤖\n",
        "* Learn how to define and call custom functions in Python. 🔧💪\n",
        "* Understand how to pass arguments to custom functions and return values. 🔍👀\n",
        "* Explore best practices for designing and naming custom functions. 📏📝\n",
        "* Identify and avoid common pitfalls when working with custom functions. 🚫💣\n",
        "* Apply your newfound knowledge to create your own custom functions! 🚀👨‍💻\n",
        "\n",
        "\n",
        "\n",
        "\n",
        "\n",
        "\n",
        "\n",
        "\n",
        "\n",
        "\n",
        "\n"
      ],
      "metadata": {
        "id": "hQVMGQLeMdv0"
      }
    },
    {
      "cell_type": "markdown",
      "source": [
        "# **📖 Learning Material 📖**"
      ],
      "metadata": {
        "id": "yT9eLw4YqqRW"
      }
    },
    {
      "cell_type": "markdown",
      "source": [
        "Today's lesson is all about Custom Functions in programming. Custom functions are user-defined functions in a programming language that allow developers to encapsulate a block of code with a specific functionality, which can be called repeatedly throughout their programs.\n",
        "\n",
        "🔍🔪 We'll dive into using Custom Functions of Python and play a critical role in programming.\n",
        "\n",
        "🔢🍴 By the end of this lesson, you'll have a solid grasp of how to utilize Loops and iterations in your code.\n",
        "\n",
        "🚀 So, let's get started and learn these essential skills!"
      ],
      "metadata": {
        "id": "lyJTvCn42Qxg"
      }
    },
    {
      "cell_type": "markdown",
      "source": [
        "##**Introduction to Custom Functions**"
      ],
      "metadata": {
        "id": "AUiIsQg9Ucrl"
      }
    },
    {
      "cell_type": "markdown",
      "source": [
        "👋 Hi there! Custom functions 🛠️ are blocks of code created by programmers to perform specific tasks or operations within a program. They can be created in most programming languages and are often used to simplify and modularize code by separating out specific functions that can be called upon multiple times within the program.\n",
        "\n",
        "A custom function 🧰 can be designed to take one or more input parameters 🎛️, which can be used to customize its behavior. These parameters allow the function to be called with different arguments, enabling it to perform the same operation on different sets of data 📊. The output of a function can also be customized, allowing it to return specific results based on its inputs.\n",
        "\n",
        "One of the main advantages of custom functions is that they can be reused ♻️ throughout a program or even across multiple programs 🌐. This reduces the amount of code that needs to be written, which can save time and effort 💪. Custom functions also make code easier to read and understand because they encapsulate complex operations in a single function with a clear name and purpose 🤓.\n",
        "\n",
        "Custom functions are widely used in programming tasks such as data processing, mathematical calculations 🧮, and user interface design 🖥️. They are an essential tool 🔧 for any programmer looking to write efficient and maintainable code.\n"
      ],
      "metadata": {
        "id": "tIkNz0CnU0Nr"
      }
    },
    {
      "cell_type": "markdown",
      "source": [
        "###Let's break down the syntax:"
      ],
      "metadata": {
        "id": "IFRQ_hhcX3Ut"
      }
    },
    {
      "cell_type": "markdown",
      "source": [
        "**In Python, you can create your own functions using the def keyword. Here is the basic syntax for defining a function:**"
      ],
      "metadata": {
        "id": "OMBq6vqFXrkm"
      }
    },
    {
      "cell_type": "code",
      "source": [
        "def function_name(parameters :\"Parameter Hints\" = \"Default Parameter Value\"):\n",
        "  \"\"\"\n",
        "  Docstring\n",
        "\n",
        "  \"\"\"\n",
        "\n",
        "    # function code goes here\n",
        "  return output_value"
      ],
      "metadata": {
        "id": "9tz72ZVeXypT"
      },
      "execution_count": null,
      "outputs": []
    },
    {
      "cell_type": "markdown",
      "source": [
        "* **def**: This keyword indicates the start of a function definition. It stands for \"define\"\n",
        "\n",
        "\n",
        "\n",
        "* **Function_name**: This is the name of the function you are defining.\n",
        "\n",
        "* **Parameters**: These are the input values that the function will take. They are optional, and you can have as many or as few as you need.\n",
        "\n",
        "* **Parameter Hints** : Pressing \"Shift+Tab\" while calling a function will display the parameter hints that were initially defined.\n",
        "\n",
        "* **Default Parameter Value** : If a value is not provided when calling a function, this value will be used instead.\n",
        "\n",
        "* **Docstring** : A docstring is a string literal that appears as the first statement in a module, function, class, or method definition. Its purpose is to provide documentation for the code and to describe what the function does, what arguments it takes, and what it returns.\n",
        "\n",
        "* **Function code** : This is the code that gets executed when the function is called. It can be any valid Python code.\n",
        "\n",
        "* **return**: This keyword indicates the value that the function will return. This is also optional, and you can have multiple return statements in a function."
      ],
      "metadata": {
        "id": "NYBDZzhoYELE"
      }
    },
    {
      "cell_type": "markdown",
      "source": [
        "###Real-Time Application"
      ],
      "metadata": {
        "id": "x5Nd7_pDWmiq"
      }
    },
    {
      "cell_type": "markdown",
      "source": [
        "Imagine that you are the manager of a coffee shop ☕️ and you need to keep track of your sales for each day of the week. However, you don't want to manually enter the sales data for each day because it's time-consuming and prone to errors.\n",
        "\n",
        "So, you decide to create a custom function 📊 that automatically calculates the total sales for each day of the week. You start by defining the function name, let's call it \"calculate_sales\", and specifying the inputs required, which are the sales figures for each day.\n",
        "\n",
        "Then, you write the code for the function to sum up the sales figures and return the total. You can also add some conditional statements to handle errors or special cases, such as if there are no sales on a particular day.\n",
        "\n",
        "Now, every time you enter the sales figures for a day, you can simply use the \"calculate_sales\" function to get the total for that day. This saves you time and reduces the risk of errors. 🙌"
      ],
      "metadata": {
        "id": "Hww_Pm91Wur0"
      }
    },
    {
      "cell_type": "code",
      "source": [
        "\n",
        "def calculate_sales(monday_sales=0, tuesday_sales=0, wednesday_sales=0, thursday_sales=0, friday_sales=0, saturday_sales=0, sunday_sales=0):\n",
        "    \"\"\"\n",
        "    Calculates the total sales for a given week by adding up the sales for each day of the week.\n",
        "\n",
        "    Args:\n",
        "        monday_sales (float): Sales figure for Monday.\n",
        "        tuesday_sales (float): Sales figure for Tuesday.\n",
        "        wednesday_sales (float): Sales figure for Wednesday.\n",
        "        thursday_sales (float): Sales figure for Thursday.\n",
        "        friday_sales (float): Sales figure for Friday.\n",
        "        saturday_sales (float): Sales figure for Saturday.\n",
        "        sunday_sales (float): Sales figure for Sunday.\n",
        "\n",
        "    Returns:\n",
        "        float: The total sales for the week.\n",
        "    \"\"\"\n",
        "    # Sum up the sales figures for each day of the week\n",
        "    total_sales = monday_sales + tuesday_sales + wednesday_sales + thursday_sales + friday_sales + saturday_sales + sunday_sales\n",
        "\n",
        "    # Return the total sales\n",
        "    return total_sales\n"
      ],
      "metadata": {
        "id": "2GY2yF7lTDTh"
      },
      "execution_count": null,
      "outputs": []
    },
    {
      "cell_type": "code",
      "source": [
        "total_sales = calculate_sales(monday_sales = 100, tuesday_sales = 200, wednesday_sales=150, thursday_sales=300, friday_sales=250, saturday_sales=180, sunday_sales=150)\n",
        "print(total_sales)\n"
      ],
      "metadata": {
        "colab": {
          "base_uri": "https://localhost:8080/"
        },
        "id": "uqtZl0GGUBqX",
        "outputId": "aa0bcaaa-4224-4a05-c697-985695ac0ee1"
      },
      "execution_count": null,
      "outputs": [
        {
          "output_type": "stream",
          "name": "stdout",
          "text": [
            "1330\n"
          ]
        }
      ]
    },
    {
      "cell_type": "markdown",
      "source": [
        "###Now let's work around a few problems to help you to strengthen the concepts you learned."
      ],
      "metadata": {
        "id": "1a0eYCcsay13"
      }
    },
    {
      "cell_type": "markdown",
      "source": [
        "## **Let us practice hands-on coding question**"
      ],
      "metadata": {
        "id": "FKmCwiXxnAVg"
      }
    },
    {
      "cell_type": "markdown",
      "source": [
        "Write a program which would calculate the count of each unique characters in a words and returns an appropriate dictionary. Use a custom function to achieve this.\n",
        "\n",
        "word = \"Custom Function\""
      ],
      "metadata": {
        "id": "xEAp0llDZKp-"
      }
    },
    {
      "cell_type": "code",
      "source": [
        "def count_letters(word):\n",
        "\n",
        "    letter_count = {}\n",
        "    for letter in word:\n",
        "        if letter.isalpha():\n",
        "            letter = letter.lower()\n",
        "            letter_count[letter] = letter_count.get(letter, 0) + 1\n",
        "    return letter_count\n",
        "\n",
        "# Try out here\n",
        "word = \"Custom Function\"\n",
        "result = count_letters(word)\n",
        "print(result)\n"
      ],
      "metadata": {
        "id": "UYL9mnUVoNEP"
      },
      "execution_count": null,
      "outputs": []
    },
    {
      "cell_type": "markdown",
      "source": [
        "##**Activity 1:**"
      ],
      "metadata": {
        "id": "3N4pFPooXXOY"
      }
    },
    {
      "cell_type": "markdown",
      "source": [
        "### **True or False**"
      ],
      "metadata": {
        "id": "Cx0wHLEGnRuL"
      }
    },
    {
      "cell_type": "markdown",
      "source": [
        "**Question 1:**\n",
        "Custom functions can only have one parameter in Python.\n",
        "\n",
        "**Question 2:**\n",
        "Custom functions cannot return any value in Python.\n",
        "\n",
        "**Question 3:**\n",
        "Custom functions can be defined inside another custom function in Python.\n",
        "\n",
        "**Question 4:**\n",
        "Custom functions can only be called from within the same Python file where they are defined.\n"
      ],
      "metadata": {
        "id": "ZQVr90yZnR3H"
      }
    },
    {
      "cell_type": "markdown",
      "source": [
        "#### **Answers**"
      ],
      "metadata": {
        "id": "2tnMaEkHnk1_"
      }
    },
    {
      "cell_type": "markdown",
      "source": [
        "1. **Answer:** False\n",
        "\n",
        "  Explanation: Custom functions in Python can have multiple parameters, allowing them to accept multiple inputs and perform calculations based on these inputs.\n",
        "\n",
        "\n",
        "2. **Answer:** False\n",
        "\n",
        "  Explanation: Custom functions in Python can return values using the return statement. The returned value can be used in other parts of the program.\n",
        "\n",
        "3. **Answer:** True\n",
        "\n",
        "  Explanation: In Python, it is possible to define one function inside another function. These are known as nested functions. The inner function can only be called from within the outer function.\n",
        "\n",
        "4. **Answer:** False\n",
        "\n",
        "  Explanation: Custom functions in Python can be defined in one Python file and called from other Python files as long as they are in the same directory or accessible through the Python path.\n",
        "\n"
      ],
      "metadata": {
        "id": "zGdn7XcfnR-4"
      }
    },
    {
      "cell_type": "markdown",
      "source": [
        "##**Global and Local Variables** 🌎\n"
      ],
      "metadata": {
        "id": "lW2qGy9yKIT9"
      }
    },
    {
      "cell_type": "markdown",
      "source": [
        "In Python, variables that are defined outside of a function are called global variables, while variables that are defined inside a function are called local variables. The scope of a variable refers to the area of the program where it can be accessed and used.\n",
        "\n",
        "Global variables can be accessed and modified by any part of the program, including within functions. However, local variables are only accessible within the function where they are defined.\n",
        "\n",
        "Here's an example to illustrate the concept of global and local variables in custom functions:"
      ],
      "metadata": {
        "id": "qSZ-dpLkKNB_"
      }
    },
    {
      "cell_type": "code",
      "source": [
        "# Defining a global variable\n",
        "global_var = 10\n",
        "\n",
        "def modify_global_var():\n",
        "    \"\"\"\n",
        "    Modifies the global variable by adding 5 to its current value.\n",
        "    \"\"\"\n",
        "    # Accessing the global variable\n",
        "    global global_var\n",
        "\n",
        "    # Modifying the global variable\n",
        "    global_var += 5\n",
        "\n",
        "def use_local_var():\n",
        "    \"\"\"\n",
        "    Prints the value of a local variable.\n",
        "    \"\"\"\n",
        "    # Defining a local variable\n",
        "    local_var = 20\n",
        "\n",
        "    # Printing the value of the local variable\n",
        "    print(\"Local variable value: \", local_var)\n",
        "\n",
        "# Calling the functions\n",
        "\n",
        "# Modifying the global variable using the modify_global_var function\n",
        "modify_global_var()\n",
        "\n",
        "# Printing the new value of the global variable\n",
        "print(\"Global variable value: \", global_var)\n",
        "\n",
        "# Using the use_local_var function to print the value of a local variable\n",
        "use_local_var()\n"
      ],
      "metadata": {
        "colab": {
          "base_uri": "https://localhost:8080/"
        },
        "id": "Rtzu3oTSKTcE",
        "outputId": "0cd34bdc-57c3-4bd0-ac98-91f5ec7070d3"
      },
      "execution_count": null,
      "outputs": [
        {
          "output_type": "stream",
          "name": "stdout",
          "text": [
            "Global variable value:  15\n",
            "Local variable value:  20\n"
          ]
        }
      ]
    },
    {
      "cell_type": "markdown",
      "source": [
        "👉 In the above example, global_var is a global variable that can be accessed from any part of the program, including within functions. The modify_global_var() function modifies the value of global_var by adding 5️⃣ to it. To modify a global variable within a function, you need to use the global keyword before the variable name.\n",
        "\n",
        "👉 The use_local_var() function defines a local variable local_var within the function. This variable is only accessible within the function and cannot be accessed outside of it. When the function is called, it prints the value of local_var.\n",
        "\n",
        "👉 It is generally considered best practice to use local variables whenever possible, rather than global variables. This is because local variables have a smaller scope, meaning they are only accessible within the function where they are defined. This can help to prevent unintended changes to the variable value and make the code more modular.\n",
        "\n",
        "👉 On the other hand, global variables can be accessed and modified from any part of the program, which can make it harder to keep track of changes to the variable value. Additionally, if multiple functions or modules in a program use the same global variable, it can lead to naming conflicts and make the code harder to maintain.\n",
        "\n",
        "👉 However, there may be situations where using global variables is necessary. For example, if a variable needs to be accessed and modified by multiple functions or modules in a program, using a global variable may be the best option.\n",
        "\n",
        "\n",
        "\n"
      ],
      "metadata": {
        "id": "29slM6uUKei4"
      }
    },
    {
      "cell_type": "markdown",
      "source": [
        "## **Let us practice hands-on coding question**"
      ],
      "metadata": {
        "id": "PCAWT-ZCoZJY"
      }
    },
    {
      "cell_type": "markdown",
      "source": [
        "Write a function which takes a string arguments and returns the reversed string to the user.\n",
        "\n",
        "my_string = \"Hello, world!\""
      ],
      "metadata": {
        "id": "egdt4_tKG8MT"
      }
    },
    {
      "cell_type": "code",
      "source": [
        "def reverse_string(string_input):\n",
        "\n",
        "    reversed_string = string_input[::-1]\n",
        "    return reversed_string\n",
        "\n",
        "# Try out here\n",
        "input_string = \"Hello, World!\"\n",
        "reversed_string = reverse_string(input_string)\n",
        "print(reversed_string)\n"
      ],
      "metadata": {
        "id": "t3Ks6Dc8scwg"
      },
      "execution_count": null,
      "outputs": []
    },
    {
      "cell_type": "markdown",
      "source": [
        "##**Activity 2:**"
      ],
      "metadata": {
        "id": "4p2U39aoZ28J"
      }
    },
    {
      "cell_type": "markdown",
      "source": [
        "### **Pick the odd one**"
      ],
      "metadata": {
        "id": "7YDnaBpAsPwG"
      }
    },
    {
      "cell_type": "markdown",
      "source": [
        "1. Which of the following custom functions contains an error?\n",
        "\n",
        "  a)\n",
        "  ```\n",
        "  def calculate_area(radius):\n",
        "      return 3.14 * radius ** 2\n",
        "  ```\n",
        "  b)\n",
        "\n",
        "  ```\n",
        "  def calculate_perimeter(length, width):\n",
        "      return 2 * (length + width)\n",
        "  ```\n",
        "  c)\n",
        "\n",
        "  ```\n",
        "  def greet(name):\n",
        "      print(\"Hello, \" + name + \"! How are you?\")\n",
        "  ```\n",
        "  d) None\n",
        "\n",
        "2. Which custom function has an error in its parameters?\n",
        "\n",
        "  a)\n",
        "\n",
        "  ```\n",
        "  def calculate_area(length, width):\n",
        "      return length * width\n",
        "  ```\n",
        "  b)\n",
        "\n",
        "  ```\n",
        "  def greet(name, age):\n",
        "      return \"Hello, \" + name + \"! You are \" + age + \" years old.\"\n",
        "  ```\n",
        "  c)\n",
        "\n",
        "  ```\n",
        "  def calculate_volume(radius, height):\n",
        "      return 3.14 * radius ** 2 * height\n",
        "  ```\n"
      ],
      "metadata": {
        "id": "79Ehc3GysP10"
      }
    },
    {
      "cell_type": "markdown",
      "source": [
        "#### **Answers**"
      ],
      "metadata": {
        "id": "oDcuZlXisP7I"
      }
    },
    {
      "cell_type": "markdown",
      "source": [
        "1. **Answer:** d)\n",
        "  None of the custom functions contain an error. All of them have valid function definitions:\n",
        "\n",
        "  a) calculate_area calculates the area of a circle.\n",
        "  \n",
        "  b) calculate_perimeter calculates the perimeter of a rectangle.\n",
        "  \n",
        "  c) greet prints a greeting message to the console.\n",
        "\n",
        "2. **Answer:** b)\n",
        "\n",
        "  Explanation: Option b) is the correct answer as it contains an error in its parameters. The function \"greet\" has two parameters, \"name\" and \"age\", which are used correctly in the function. However, when concatenating the strings to create the greeting message, the \"age\" parameter is used without converting it to a string. To fix the error, the \"age\" parameter should be converted to a string using str(age) before concatenation.\n",
        "\n"
      ],
      "metadata": {
        "id": "45dd_5fesQB0"
      }
    },
    {
      "cell_type": "markdown",
      "source": [
        "##**🤔Do you know🤔**\n"
      ],
      "metadata": {
        "id": "5agx0fTVGfza"
      }
    },
    {
      "cell_type": "markdown",
      "source": [
        "\n",
        "It's important to note that default parameters should always come after non-default parameters in the function definition. This is because Python assigns values to parameters based on their position in the argument list."
      ],
      "metadata": {
        "id": "5vxHUQOlH604"
      }
    },
    {
      "cell_type": "code",
      "source": [
        "# This is not allowed, since non-default parameter follows default parameter\n",
        "def my_function(y=10, x):\n",
        "  return x+y\n",
        "    # do something with x and y\n",
        "\n",
        "my_function(10)"
      ],
      "metadata": {
        "id": "XDBSFemaHzJc",
        "colab": {
          "base_uri": "https://localhost:8080/",
          "height": 142
        },
        "outputId": "7740f251-d233-4ab7-8102-8406ed2ec4f2"
      },
      "execution_count": null,
      "outputs": [
        {
          "output_type": "error",
          "ename": "SyntaxError",
          "evalue": "ignored",
          "traceback": [
            "\u001b[0;36m  File \u001b[0;32m\"<ipython-input-1-7ce9ea7cc632>\"\u001b[0;36m, line \u001b[0;32m2\u001b[0m\n\u001b[0;31m    def my_function(y=10, x):\u001b[0m\n\u001b[0m                          ^\u001b[0m\n\u001b[0;31mSyntaxError\u001b[0m\u001b[0;31m:\u001b[0m non-default argument follows default argument\n"
          ]
        }
      ]
    },
    {
      "cell_type": "markdown",
      "source": [
        "Keep this in mind while designing your functions!"
      ],
      "metadata": {
        "id": "iYBa9Ko1GO7k"
      }
    },
    {
      "cell_type": "markdown",
      "source": [
        "###Got the hang of using custom functions? Easy and convenient right? Let's level up the game a bit. 😉"
      ],
      "metadata": {
        "id": "Bgr2eHW3HMaf"
      }
    },
    {
      "cell_type": "markdown",
      "source": [
        "## **Let us practice hands-on coding question**"
      ],
      "metadata": {
        "id": "tztKXZiKt4ii"
      }
    },
    {
      "cell_type": "markdown",
      "source": [
        "🏋️‍♀️💻📱: You are developing a fitness app and need a function to calculate calories burned. Users input workout duration and activity type (🏃‍♀️,🏊‍♂️,🚴‍♂️), and the function calculates calories burned.\n",
        "\n",
        "📝👨‍💻: Write a function that uses a while loop to calculate calories burned. The function takes workout duration and activity type as input and calculates calories burned based on the duration and activity type.\n",
        "\n",
        "Refer to following chart:\n",
        "Running- Burns 10 calories per minute\n",
        "Swimming- Burns 8 calories per minute\n",
        "Cycling- Burn 6 calories per minute"
      ],
      "metadata": {
        "id": "ygmUb83rIWTs"
      }
    },
    {
      "cell_type": "code",
      "source": [
        "def calculate_calories_burned(duration_mins, activity):\n",
        "\n",
        "    calories_burned = 0\n",
        "    while duration_mins > 0:\n",
        "        if activity.lower() == \"running\":\n",
        "            calories_burned += 10\n",
        "        elif activity.lower() == \"swimming\":\n",
        "            calories_burned += 8\n",
        "        elif activity.lower() == \"cycling\":\n",
        "            calories_burned += 6\n",
        "        duration_mins -= 1\n",
        "\n",
        "    return f\"You burned {calories_burned} calories during the {activity} workout.\"\n",
        "\n",
        "# Test the function\n",
        "calculate_calories_burned(duration_mins=20, activity=\"running\")"
      ],
      "metadata": {
        "colab": {
          "base_uri": "https://localhost:8080/",
          "height": 35
        },
        "id": "rmzGsYft1nlB",
        "outputId": "ec10d598-3d54-409c-d4d2-2056157b846f"
      },
      "execution_count": null,
      "outputs": [
        {
          "output_type": "execute_result",
          "data": {
            "text/plain": [
              "'You burned 200 calories during the running workout.'"
            ],
            "application/vnd.google.colaboratory.intrinsic+json": {
              "type": "string"
            }
          },
          "metadata": {},
          "execution_count": 3
        }
      ]
    },
    {
      "cell_type": "markdown",
      "source": [
        "## 🤔 Curious about the calories burnt for two activities?\n",
        "\n",
        "🔢 Try this out: calculate_calories_burned(20, \"running\") + calculate_calories_burned(20, \"swimming\")\n",
        "\n",
        "🔍 See how the function works!"
      ],
      "metadata": {
        "id": "gZea_hzgb-iH"
      }
    },
    {
      "cell_type": "markdown",
      "source": [
        "##**Activity 3:**"
      ],
      "metadata": {
        "id": "F7cCA90oaiaP"
      }
    },
    {
      "cell_type": "markdown",
      "source": [
        "### **Fill in the blanks**"
      ],
      "metadata": {
        "id": "RdDQG7fQuFbL"
      }
    },
    {
      "cell_type": "markdown",
      "source": [
        "\n",
        "**Question 1:**\n",
        "The keyword used to define a custom function in Python is __________.\n",
        "\n",
        "\n",
        "\n",
        "**Question 2:**\n",
        "The data passed to a custom function when it is called are called __________.\n",
        "\n",
        "\n",
        "\n",
        "**Question 3:**\n",
        "A custom function can use the __________ statement to return a value back to the calling code.\n",
        "\n"
      ],
      "metadata": {
        "id": "tsQvmKLtuFk4"
      }
    },
    {
      "cell_type": "markdown",
      "source": [
        "#### **Answers**"
      ],
      "metadata": {
        "id": "8g8NpbRruFun"
      }
    },
    {
      "cell_type": "markdown",
      "source": [
        "1. **Answer:** def\n",
        "\n",
        "  Explanation: In Python, the def keyword is used to define a custom function. It is followed by the function name and a set of parentheses containing any parameters the function takes.\n",
        "\n",
        "1. **Answer:** arguments\n",
        "\n",
        "  Explanation: Arguments are the data passed to a custom function when it is called. They can be used as input for calculations or to modify the behavior of the function.\n",
        "\n",
        "1. **Answer:** return\n",
        "\n",
        "  Explanation: The return statement is used in a custom function to return a value back to the calling code. This allows the function to produce a result that can be used in other parts of the program."
      ],
      "metadata": {
        "id": "e5PriSsduGH5"
      }
    },
    {
      "cell_type": "markdown",
      "source": [
        "## **Let us practice hands-on coding question**"
      ],
      "metadata": {
        "id": "jxgHrB2UuNbc"
      }
    },
    {
      "cell_type": "markdown",
      "source": [
        "📝 Problem Scenario:\n",
        "\n",
        "A bookstore wants to keep track of their inventory and generate a report of the books that need to be restocked. They want to create a custom function in Python to calculate the quantity of books to order for each title. They have a list of books and their current stock quantity. They want to calculate the quantity of books to order **such that the inventory of each books is at least 10**.\n",
        "The function takes a dictionary of book titles as keys and current stock as values, as the input and should return a dictionary consisting of title as the key and number of books to be ordered as the value."
      ],
      "metadata": {
        "id": "ESRBcKYKJV8p"
      }
    },
    {
      "cell_type": "code",
      "source": [
        "# List of books and their current stock\n",
        "books = {\n",
        "    \"Harry Potter\": 10,\n",
        "    \"Lord of the Rings\": 5,\n",
        "    \"Game of Thrones\": 2,\n",
        "    \"The Hunger Games\": 8,\n",
        "    \"To Kill a Mockingbird\": 4\n",
        "}"
      ],
      "metadata": {
        "id": "5UAr55LfzQFO"
      },
      "execution_count": 7,
      "outputs": []
    },
    {
      "cell_type": "code",
      "source": [
        "def calculate_books_to_order(books):\n",
        "  #Your code here\n",
        "  order={}\n",
        "  for name,qty in books.items():\n",
        "    if qty>=10:\n",
        "      order[name]=0\n",
        "    else:\n",
        "      order[name]=10-qty\n",
        "  return order\n",
        "\n",
        "\n",
        "\n",
        "\n",
        "\n",
        "# Calculate books to order\n",
        "calculate_books_to_order(books)"
      ],
      "metadata": {
        "id": "-kVkrS2DzQOw",
        "colab": {
          "base_uri": "https://localhost:8080/"
        },
        "outputId": "ea91cb17-548f-434c-d0db-93c142a4a1ac"
      },
      "execution_count": 12,
      "outputs": [
        {
          "output_type": "execute_result",
          "data": {
            "text/plain": [
              "{'Harry Potter': 0,\n",
              " 'Lord of the Rings': 5,\n",
              " 'Game of Thrones': 8,\n",
              " 'The Hunger Games': 2,\n",
              " 'To Kill a Mockingbird': 6}"
            ]
          },
          "metadata": {},
          "execution_count": 12
        }
      ]
    },
    {
      "cell_type": "markdown",
      "source": [
        "##**Recursion 🔃🔃🔃**"
      ],
      "metadata": {
        "id": "A8uXqlXGcIyH"
      }
    },
    {
      "cell_type": "markdown",
      "source": [
        "Recursion is a 👊 powerful concept in programming where a function calls itself from within its own 💻. In Python, recursion is often used to solve problems that can be broken down into smaller, similar problems.\n",
        "\n",
        "In a recursive function, the function is called with a parameter that is gradually reduced or changed until it reaches a 🧱 base case that can be directly solved. The base case is the simplest possible case that the function can solve without calling itself.\n",
        "\n",
        "Recursive functions can be used to solve problems like searching through a list, or finding the factorial of a number 🧮. However, it's important to be careful when using recursion, as it can lead to infinite loops or stack overflow errors if not implemented correctly.\n",
        "\n",
        "\n",
        "\n"
      ],
      "metadata": {
        "id": "kZh3TVMBdJU6"
      }
    },
    {
      "cell_type": "markdown",
      "source": [
        "Here's an example:"
      ],
      "metadata": {
        "id": "vejZn4mte5Oy"
      }
    },
    {
      "cell_type": "code",
      "source": [
        "def factorial(n=0):\n",
        "    \"\"\"\n",
        "    Calculates the factorial of a non-negative integer.\n",
        "\n",
        "    Args:\n",
        "        n (int): A non-negative integer to calculate the factorial of.\n",
        "\n",
        "    Returns:\n",
        "        int: The factorial of the input integer.\n",
        "    \"\"\"\n",
        "    # Base case: if n is 0, the factorial is 1\n",
        "    if n == 0:\n",
        "        return 1\n",
        "    # Recursive case: multiply n by the factorial of n-1\n",
        "    else:\n",
        "        return n * factorial(n-1)\n"
      ],
      "metadata": {
        "id": "15Etd8lqe4RI"
      },
      "execution_count": null,
      "outputs": []
    },
    {
      "cell_type": "markdown",
      "source": [
        "In this function, we check for the base case where n is equal to 0. If it is, we return 1 since the factorial of 0 is 1. If n is not 0, we return n multiplied by the factorial of n-1. This will recursively call the factorial() function with n-1 until it reaches the base case.\n",
        "\n",
        "For example, if we call factorial(4), it will first return 4 * factorial(3), which will in turn return 4 * 3 * factorial(2), and so on, until it reaches factorial(0) which will return 1. Then the previous function calls will be resolved as shown below:\n",
        "\n",
        "\n",
        "factorial(4) = 4 * factorial(3) = 4 * 3 * factorial(2) = 4 * 3 * 2 * factorial(1) = 4 * 3 * 2 * 1 * factorial(0) = 4 * 3 * 2 * 1 * 1 = 24\n"
      ],
      "metadata": {
        "id": "bcokLYdzfB1h"
      }
    },
    {
      "cell_type": "code",
      "source": [
        "factorial(4)"
      ],
      "metadata": {
        "colab": {
          "base_uri": "https://localhost:8080/"
        },
        "id": "si4S1PKXfBdq",
        "outputId": "908ed978-d873-4cf7-e22a-3e7ddde9625a"
      },
      "execution_count": null,
      "outputs": [
        {
          "output_type": "execute_result",
          "data": {
            "text/plain": [
              "24"
            ]
          },
          "metadata": {},
          "execution_count": 21
        }
      ]
    },
    {
      "cell_type": "markdown",
      "source": [
        "# **✅ Summary ✅**"
      ],
      "metadata": {
        "id": "EG5btUz0OA3Y"
      }
    },
    {
      "cell_type": "markdown",
      "source": [
        "## **What did you learn:**\n",
        "\n",
        "Custom functions in Python are a way to group together instructions or algorithms to perform a specific task or operation. They offer modularity, abstraction, encapsulation, reusability, and parameterization, which simplifies writing, managing, and debugging code. Functions can be tailored to accommodate various input parameters and can be used across several programs or scripts. Through custom functions, developers can create more efficient, reusable ♻️, and adaptable 💪 code.\n",
        "\n",
        "\n",
        "\n",
        "\n",
        "\n",
        "\n",
        "\n",
        "\n",
        "\n",
        "\n",
        "\n",
        "\n",
        "\n"
      ],
      "metadata": {
        "id": "eVr09ThVOInZ"
      }
    },
    {
      "cell_type": "markdown",
      "source": [
        "##**Best Practices/Tips**\n",
        "\n",
        "1. 🔍 Keep your functions small and focused: Each function should have a single responsibility, making it easier to read, understand, and test.\n",
        "2. 🏷️ Use clear and descriptive names: Choose a name that accurately reflects what the function does, making it easier to use and maintain.\n",
        "3. 📝 Write docstrings: Use docstrings to describe the purpose, input parameters, and output of your function. This makes it easier for other developers to understand and use your code.\n",
        "4. 🛡️ Use default arguments: Use default arguments to make your functions more flexible and adaptable to different use cases.\n",
        "5. 🚫 Avoid global variables: Global variables can make it harder to debug and maintain your code. Instead, pass all necessary data as input parameters.\n",
        "6. 🙅‍♀️ Avoid side effects: A function should not modify any variables outside of its scope or have any side effects. This can make your code harder to reason about and debug.\n",
        "7. ✅ Test your functions: Create test cases for your functions to ensure that they work as expected and handle edge cases correctly.\n",
        "8. 🔁 Be consistent: Follow a consistent style throughout your code, including naming conventions, formatting, and variable naming.\n",
        "\n",
        "\n",
        "\n",
        "\n"
      ],
      "metadata": {
        "id": "xXd3kn7VQVrh"
      }
    },
    {
      "cell_type": "markdown",
      "source": [
        "##**Shortcomings**\n",
        "1. 🐌 Performance overhead: Depending on the complexity of the function and the amount of data being processed, using a custom function can sometimes result in slower execution times than writing the code inline.\n",
        "\n",
        "2. 👀 Abstraction can be a double-edged sword: While abstraction can help make your code more modular and easier to understand, it can also make it harder to see the underlying implementation details and performance implications.\n",
        "\n",
        "3. 🕸️ Dependencies and compatibility issues: If you're using custom functions from external libraries or packages, you may run into issues with compatibility or versioning.\n",
        "\n",
        "4. 🤖 Debugging can be tricky: If you're using a lot of custom functions in your code, it can be challenging to debug errors or trace the flow of data through your program.\n",
        "\n",
        "5. 🧪 Testing can be time-consuming: Creating robust test cases for your custom functions can be time-consuming, but it's crucial to ensure that your code is working as expected.\n",
        "\n",
        "\n",
        "\n",
        "\n",
        "\n",
        "\n",
        "\n",
        "\n",
        "\n",
        "\n",
        "\n",
        "\n",
        "\n"
      ],
      "metadata": {
        "id": "imIg9fjFQiPu"
      }
    },
    {
      "cell_type": "markdown",
      "source": [
        "# **➕ Additional Reading ➕**"
      ],
      "metadata": {
        "id": "XX9n6caJQH1_"
      }
    },
    {
      "cell_type": "markdown",
      "source": [
        "##**Mnemonic**\n",
        "\n",
        "\n",
        "Once upon a time, there was a 💻 programmer named Sarah who was working on a project that required a lot of repetitive tasks. She realized that writing the same code over and over again was not only ⏰time-consuming but also prone to errors.\n",
        "\n",
        "So Sarah decided to create custom functions in Python to automate the repetitive tasks. She started by identifying the common patterns in the code and breaking them down into separate functions. She gave each function a clear name that reflected its purpose, making it easier to understand and maintain.\n",
        "\n",
        "🧱 Sarah's custom functions allowed her to modularize her code and avoid duplicating it. She was able to write more efficient and readable code, as she could reuse the same functions across multiple parts of her program.\n",
        "\n",
        "With her custom functions, Sarah was also able to abstract away the complexity of the code, making it easier to understand and reason about. She parameterized her functions to make them adaptable to different inputs, giving her more flexibility and allowing her to create more reusable code.\n",
        "\n",
        "Thanks to her custom functions, Sarah was able to complete her project on time and with fewer errors. She also realized that by creating reusable functions, she had made her code more adaptable for future projects. Sarah learned that creating custom functions was an essential skill for any 💻 programmer who wants to write efficient, readable, and maintainable code.\n",
        "\n",
        "\n",
        "\n",
        "\n"
      ],
      "metadata": {
        "id": "8WacSKM3P5Yt"
      }
    },
    {
      "cell_type": "markdown",
      "source": [
        "##**Additional Practice Problems.**"
      ],
      "metadata": {
        "id": "TyGgEEWJHvcv"
      }
    },
    {
      "cell_type": "markdown",
      "source": [
        "\n",
        "\n",
        "1. **A teacher wants to create a Python function to grade a multiple-choice test. The function should take one argument: a list of answers given by a student. The function should compare the answers given by the student with the predefined answer key and return the score obtained. Each correct answer is worth 1 point, and each incorrect  answer is worth 0 points.**"
      ],
      "metadata": {
        "id": "QacdQLFGjz9G"
      }
    },
    {
      "cell_type": "code",
      "source": [
        "# Here is the answer key\n",
        "answer_key = [\"A\", \"B\", \"C\", \"D\", \"E\"]\n",
        "\n",
        "# Here are the student's answers\n",
        "student_answers = [\"A\", \"C\", \"A\", \"D\", \"E\"]"
      ],
      "metadata": {
        "id": "Ni7WUHgRMkDC"
      },
      "execution_count": null,
      "outputs": []
    },
    {
      "cell_type": "code",
      "source": [
        "# Try out here\n",
        "student_ans = [\"A\", \"C\", \"A\", \"D\", \"E\"]\n",
        "def grade(student_ans):\n",
        "  answer = [\"A\", \"B\", \"C\", \"D\", \"E\"]\n",
        "  scr=0\n",
        "  for i in range(len(student_ans)):\n",
        "    if student_ans[i]==answer[i]:\n",
        "      scr+=1\n",
        "    else:\n",
        "      scr+=0\n",
        "  return scr\n",
        "\n",
        "\n",
        "grade(student_ans)\n",
        "\n",
        "\n"
      ],
      "metadata": {
        "id": "BxJtYXjHNSRu",
        "colab": {
          "base_uri": "https://localhost:8080/"
        },
        "outputId": "b6c99f3d-73b1-42a0-f239-2e86c36db841"
      },
      "execution_count": 17,
      "outputs": [
        {
          "output_type": "execute_result",
          "data": {
            "text/plain": [
              "3"
            ]
          },
          "metadata": {},
          "execution_count": 17
        }
      ]
    },
    {
      "cell_type": "code",
      "source": [
        "def grade_test(student_answers):\n",
        "    \"\"\"\n",
        "    Grades a test based on the student's answers and an answer key.\n",
        "\n",
        "    Args:\n",
        "        student_answers (list): A list of the student's answers to the test questions.\n",
        "\n",
        "    Returns:\n",
        "        int: The student's score on the test.\n",
        "    \"\"\"\n",
        "    answer_key = [\"A\", \"B\", \"C\", \"D\", \"E\"]\n",
        "    score = 0\n",
        "\n",
        "    # Loop through each answer and compare it to the corresponding answer in the answer key\n",
        "    for i in range(len(student_answers)):\n",
        "        if student_answers[i] == answer_key[i]:\n",
        "            score += 1  # Increment the score if the answer is correct\n",
        "        else:\n",
        "            score += 0  # No change in score if the answer is incorrect\n",
        "\n",
        "    return score\n"
      ],
      "metadata": {
        "id": "eW3rE3SnMY-A"
      },
      "execution_count": null,
      "outputs": []
    },
    {
      "cell_type": "code",
      "source": [
        "# Grade the test and print the score\n",
        "score = grade_test(student_answers)\n",
        "print(score)"
      ],
      "metadata": {
        "colab": {
          "base_uri": "https://localhost:8080/"
        },
        "id": "XYfW4Zo_MrQF",
        "outputId": "014bcfef-22e1-47ef-e249-9f0b98ef51fe"
      },
      "execution_count": null,
      "outputs": [
        {
          "output_type": "stream",
          "name": "stdout",
          "text": [
            "3\n"
          ]
        }
      ]
    },
    {
      "cell_type": "markdown",
      "source": [
        "2. **Write a function that takes a list of integers as input and returns the sum of the squares of the even numbers in the list.**"
      ],
      "metadata": {
        "id": "d2_4Xun7allS"
      }
    },
    {
      "cell_type": "code",
      "source": [
        "def sum_of_even_squares(lst):\n",
        "   \"\"\"\n",
        "    Calculates the sum of the squares of all even numbers in a list.\n",
        "\n",
        "    Args:\n",
        "        lst (list): A list of numbers.\n",
        "\n",
        "    Returns:\n",
        "        int: The sum of the squares of all even numbers in the list.\n",
        "    \"\"\"\n",
        "    total = 0\n",
        "    for num in lst:\n",
        "        if num % 2 == 0:\n",
        "            total += num ** 2\n",
        "    return total"
      ],
      "metadata": {
        "id": "hGd1rOc3bO9v"
      },
      "execution_count": null,
      "outputs": []
    },
    {
      "cell_type": "code",
      "source": [
        "numbers = [1, 2, 3, 4, 5, 6, 7, 8, 9, 10]\n",
        "even_squares_sum = sum_of_even_squares(numbers)\n",
        "print(even_squares_sum)"
      ],
      "metadata": {
        "colab": {
          "base_uri": "https://localhost:8080/"
        },
        "id": "_Pzi7zpKbncO",
        "outputId": "313ff1ec-e29e-45e2-9014-b1dc4b7789fd"
      },
      "execution_count": null,
      "outputs": [
        {
          "output_type": "stream",
          "name": "stdout",
          "text": [
            "220\n"
          ]
        }
      ]
    },
    {
      "cell_type": "markdown",
      "source": [
        "3. **Write a function that takes a string as input and returns a new string with all vowels removed.**"
      ],
      "metadata": {
        "id": "VrK-FEkAbeAz"
      }
    },
    {
      "cell_type": "code",
      "source": [
        "def remove_vowels(string):\n",
        "  \"\"\"\n",
        "    Removes vowels from a given string and returns the new string.\n",
        "\n",
        "    Args:\n",
        "        string (str): The input string.\n",
        "\n",
        "    Returns:\n",
        "        str: The input string with vowels removed.\n",
        "  \"\"\"\n",
        "    vowels = \"aeiouAEIOU\"\n",
        "    new_string = \"\"\n",
        "    for char in string:\n",
        "        if char not in vowels:\n",
        "            new_string += char\n",
        "    return new_string"
      ],
      "metadata": {
        "id": "jUOaRY-rbgos"
      },
      "execution_count": null,
      "outputs": []
    },
    {
      "cell_type": "code",
      "source": [
        "my_string = \"Hello, World!\"\n",
        "no_vowels_string = remove_vowels(my_string)\n",
        "print(no_vowels_string)"
      ],
      "metadata": {
        "colab": {
          "base_uri": "https://localhost:8080/"
        },
        "id": "4pR9UOTXbvpS",
        "outputId": "eacca1a4-5f22-4111-fa85-6a8399d3f3c8"
      },
      "execution_count": null,
      "outputs": [
        {
          "output_type": "stream",
          "name": "stdout",
          "text": [
            "Hll, Wrld!\n"
          ]
        }
      ]
    },
    {
      "cell_type": "markdown",
      "source": [
        "4. **Write a function that takes a list of strings as input and returns a new list with all strings in uppercase.**"
      ],
      "metadata": {
        "id": "JSsuJSPZb3qI"
      }
    },
    {
      "cell_type": "code",
      "source": [
        "def uppercase_list(lst):\n",
        "   \"\"\"\n",
        "    Converts all strings in a list to uppercase.\n",
        "\n",
        "    Args:\n",
        "        lst (list): A list of strings.\n",
        "\n",
        "    Returns:\n",
        "        list: A new list with all strings in uppercase.\n",
        "    \"\"\"\n",
        "    new_list = []\n",
        "    for string in lst:\n",
        "        new_list.append(string.upper())\n",
        "    return new_list"
      ],
      "metadata": {
        "id": "MPzdlrBrb6FB"
      },
      "execution_count": null,
      "outputs": []
    },
    {
      "cell_type": "code",
      "source": [
        "words = [\"apple\", \"banana\", \"cherry\", \"date\"]\n",
        "upper_words = uppercase_list(words)\n",
        "print(upper_words)"
      ],
      "metadata": {
        "colab": {
          "base_uri": "https://localhost:8080/"
        },
        "id": "O7MiUD-KcL2I",
        "outputId": "9471f600-4715-41b1-bc5e-c5dc4e558b38"
      },
      "execution_count": null,
      "outputs": [
        {
          "output_type": "stream",
          "name": "stdout",
          "text": [
            "['APPLE', 'BANANA', 'CHERRY', 'DATE']\n"
          ]
        }
      ]
    },
    {
      "cell_type": "markdown",
      "source": [
        "5. **Write a function that takes a dictionary as input and returns a new dictionary with the same keys but with all values squared.**"
      ],
      "metadata": {
        "id": "ndYA3rZVcGmk"
      }
    },
    {
      "cell_type": "code",
      "source": [
        "def square_dict_values(dct):\n",
        "    \"\"\"\n",
        "    Given a dictionary, returns a new dictionary with the same keys as the input dictionary, but with the values squared.\n",
        "\n",
        "    Args:\n",
        "    - dct: A dictionary with numeric values.\n",
        "\n",
        "    Returns:\n",
        "    - A new dictionary with the same keys as the input dictionary, but with the values squared.\n",
        "    \"\"\"\n",
        "    new_dict = {}\n",
        "    for key, value in dct.items():\n",
        "        new_dict[key] = value ** 2\n",
        "    return new_dict"
      ],
      "metadata": {
        "id": "heabV2jucI_5"
      },
      "execution_count": null,
      "outputs": []
    },
    {
      "cell_type": "code",
      "source": [
        "my_dict = {\"a\": 1, \"b\": 2, \"c\": 3, \"d\": 4}\n",
        "squared_dict = square_dict_values(my_dict)\n",
        "print(squared_dict)"
      ],
      "metadata": {
        "colab": {
          "base_uri": "https://localhost:8080/"
        },
        "id": "Wkbxt_ewcYb1",
        "outputId": "e3c17fea-f58e-476f-e463-752df6ba43c6"
      },
      "execution_count": null,
      "outputs": [
        {
          "output_type": "stream",
          "name": "stdout",
          "text": [
            "{'a': 1, 'b': 4, 'c': 9, 'd': 16}\n"
          ]
        }
      ]
    },
    {
      "cell_type": "markdown",
      "source": [
        "6. **Write a function reverse_string that takes a string as input and returns the string reversed**"
      ],
      "metadata": {
        "id": "mpewuUOEdEEF"
      }
    },
    {
      "cell_type": "code",
      "source": [
        "def reverse_string(string):\n",
        "    \"\"\"\n",
        "    Return a reversed version of the input string.\n",
        "    \"\"\"\n",
        "    reversed_string = \"\"\n",
        "    for i in range(len(string)-1, -1, -1):  # Loop over the string in reverse order\n",
        "        reversed_string += string[i]  # Add each character to the reversed string\n",
        "    return reversed_string\n",
        "\n",
        "\n",
        "my_string = \"Hello, World!\"\n",
        "reversed_string = reverse_string(my_string)\n",
        "print(reversed_string)"
      ],
      "metadata": {
        "colab": {
          "base_uri": "https://localhost:8080/"
        },
        "id": "lAgBVJaQdHp9",
        "outputId": "75f0b7ef-3930-4789-d747-fefdbd123b90"
      },
      "execution_count": null,
      "outputs": [
        {
          "output_type": "stream",
          "name": "stdout",
          "text": [
            "!dlroW ,olleH\n"
          ]
        }
      ]
    },
    {
      "cell_type": "markdown",
      "source": [
        "## **Additional Resources**"
      ],
      "metadata": {
        "id": "XhpHUE2GgHmf"
      }
    },
    {
      "cell_type": "markdown",
      "source": [
        "- [https://medium.com/@joshuaudayagiri/python-functions-user-defined-functions-300a40afb2de](https://medium.com/@joshuaudayagiri/python-functions-user-defined-functions-300a40afb2de)\n",
        "\n",
        "- [https://towardsdatascience.com/how-to-create-user-defined-functions-in-python-e5a529386534](https://towardsdatascience.com/how-to-create-user-defined-functions-in-python-e5a529386534)\n",
        "\n",
        "- https://blog.devgenius.io/python-variable-scope-and-local-global-variables-a-comprehensive-tutorial-1708748a7994\n"
      ],
      "metadata": {
        "id": "WNz5m9JAgN9e"
      }
    },
    {
      "cell_type": "markdown",
      "source": [
        "# **Try it yourself📃📟**\n",
        "\n",
        "Are you ready to put your coding skills to the test and gain practical knowledge? We have some exciting coding questions waiting for you to solve! 🚀\n",
        "\n",
        "Your task is to attempt the coding questions associated with this lesson. These challenges have been thoughtfully designed to reinforce your understanding of the concepts covered in the course. You can find them in your dashboard under this lesson.\n",
        "\n",
        "Don't be shy! Share your findings, experiences, and any insights you gained while tackling these coding questions on the AlmaBetter community platform. Engage in discussions, help each other out, and celebrate your victories together!\n",
        "\n",
        "Remember, coding is not just about learning theory; it's about applying that knowledge to solve real-world problems. So, dive in, experiment, and have fun while honing your coding skills!\n",
        "Let's learn, grow, and inspire each other as a vibrant community of passionate learners. Happy coding! 💻 😊"
      ],
      "metadata": {
        "id": "mgmOR7rYM2iW"
      }
    },
    {
      "cell_type": "markdown",
      "source": [
        "## **Task 1:**"
      ],
      "metadata": {
        "id": "UlMn3EpmcD0H"
      }
    },
    {
      "cell_type": "markdown",
      "source": [
        "#### **🔴 Go to the AlmaBetter IDE on the Practice Tab and solve the coding questions specific to the lesson.🔴**"
      ],
      "metadata": {
        "id": "9BhA-sYNcDqt"
      }
    },
    {
      "cell_type": "markdown",
      "source": [
        "\n",
        "**Problem 1:** Find length of set\n",
        "\n",
        "\n",
        "**Problem 2:** Find Contiguous Substrings\n",
        "\n",
        "\n",
        "**Problem 3:** Words with Prime Length"
      ],
      "metadata": {
        "id": "ECvKetHVNlAM"
      }
    },
    {
      "cell_type": "markdown",
      "source": [
        "## **Task 2:**"
      ],
      "metadata": {
        "id": "f8m1YTOxcDi-"
      }
    },
    {
      "cell_type": "markdown",
      "source": [
        "#### **🔵 Explain the solution to one of the problems in your Cohort group at AlmaBetter Community Platform.**🔵"
      ],
      "metadata": {
        "id": "NSGFBhqIcDcm"
      }
    }
  ]
}